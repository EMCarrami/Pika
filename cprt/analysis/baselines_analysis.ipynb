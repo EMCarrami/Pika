{
 "cells": [
  {
   "cell_type": "code",
   "execution_count": 1,
   "metadata": {
    "collapsed": true
   },
   "outputs": [],
   "source": [
    "import pandas as pd\n",
    "from analysis_utils import get_run_data, process_run_data, aggregate_metrics, METRIC_NAMES"
   ]
  },
  {
   "cell_type": "code",
   "execution_count": 2,
   "outputs": [],
   "source": [
    "data, config = get_run_data(\"eli-carrami/Cprt-Paper-Baselines\")\n",
    "out  = []\n",
    "models = {\"linear\": {0: {}, 7: {}}, \"mlp\": {0: {}, 7: {}}}\n",
    "for d, c in zip(data, config):\n",
    "    h = d.iloc[-1].copy()\n",
    "    if 'classifier' in c['model']['value']:\n",
    "        cls = c['model']['value']['classifier']\n",
    "        task = c['datamodule']['value']['classification_task']\n",
    "        if cls in models:\n",
    "            models[cls][c['seed']['value']][task] = h['metrics/val_metric']\n",
    "    elif \"baseline\" in c['model']['value']['multimodal_strategy']:\n",
    "        h['baseline'] = f\"{c['model']['value']['multimodal_strategy']}_{c['model']['value']['language_model']}\"\n",
    "        h['seed'] = c['seed']['value']\n",
    "        out.append(h)\n",
    "    else:\n",
    "        raise ValueError(\"run not supported here\")"
   ],
   "metadata": {
    "collapsed": false
   }
  },
  {
   "cell_type": "code",
   "execution_count": 22,
   "outputs": [
    {
     "data": {
      "text/plain": "    is_real  is_enzyme   kingdom  localization        mw  seed baseline\n0  0.988000   0.805600  0.939044      0.874200  0.332147     0   linear\n1  0.986540   0.839272  0.947755      0.860417  0.183087     7   linear\n2  0.984000   0.868800  0.936573      0.876333  0.071771     0      mlp\n3  0.989707   0.860649  0.951837      0.912500  0.063530     7      mlp",
      "text/html": "<div>\n<style scoped>\n    .dataframe tbody tr th:only-of-type {\n        vertical-align: middle;\n    }\n\n    .dataframe tbody tr th {\n        vertical-align: top;\n    }\n\n    .dataframe thead th {\n        text-align: right;\n    }\n</style>\n<table border=\"1\" class=\"dataframe\">\n  <thead>\n    <tr style=\"text-align: right;\">\n      <th></th>\n      <th>is_real</th>\n      <th>is_enzyme</th>\n      <th>kingdom</th>\n      <th>localization</th>\n      <th>mw</th>\n      <th>seed</th>\n      <th>baseline</th>\n    </tr>\n  </thead>\n  <tbody>\n    <tr>\n      <th>0</th>\n      <td>0.988000</td>\n      <td>0.805600</td>\n      <td>0.939044</td>\n      <td>0.874200</td>\n      <td>0.332147</td>\n      <td>0</td>\n      <td>linear</td>\n    </tr>\n    <tr>\n      <th>1</th>\n      <td>0.986540</td>\n      <td>0.839272</td>\n      <td>0.947755</td>\n      <td>0.860417</td>\n      <td>0.183087</td>\n      <td>7</td>\n      <td>linear</td>\n    </tr>\n    <tr>\n      <th>2</th>\n      <td>0.984000</td>\n      <td>0.868800</td>\n      <td>0.936573</td>\n      <td>0.876333</td>\n      <td>0.071771</td>\n      <td>0</td>\n      <td>mlp</td>\n    </tr>\n    <tr>\n      <th>3</th>\n      <td>0.989707</td>\n      <td>0.860649</td>\n      <td>0.951837</td>\n      <td>0.912500</td>\n      <td>0.063530</td>\n      <td>7</td>\n      <td>mlp</td>\n    </tr>\n  </tbody>\n</table>\n</div>"
     },
     "execution_count": 22,
     "metadata": {},
     "output_type": "execute_result"
    }
   ],
   "source": [
    "data = []\n",
    "for m, a in models.items():\n",
    "    for s, v in a.items():\n",
    "        data.append(v | {'seed': s, 'baseline': m})\n",
    "df1 = pd.DataFrame(data, columns=['is_real', 'is_enzyme', 'kingdom', 'localization', 'mw', 'seed', 'baseline'])\n",
    "df1['baseline'] = pd.Categorical(df1['baseline'])\n",
    "df1"
   ],
   "metadata": {
    "collapsed": false
   }
  },
  {
   "cell_type": "code",
   "execution_count": 27,
   "outputs": [
    {
     "name": "stderr",
     "output_type": "stream",
     "text": [
      "/Users/elicarrami/PycharmProjects/cprt/cprt/analysis/analysis_utils.py:106: FutureWarning: The default of observed=False is deprecated and will be changed to True in a future version of pandas. Pass observed=False to retain current behavior or observed=True to adopt the future default and silence this warning.\n",
      "  return df.groupby(group_by).agg(['mean', 'std'])\n"
     ]
    }
   ],
   "source": [
    "agg_df = aggregate_metrics(df1, group_by='baseline')\n",
    "for col in ['is_real', 'is_enzyme', 'kingdom', 'localization', 'mw']:\n",
    "    name = f\"{col} F1\" if col != \"mw\" else \"MW MALE\"\n",
    "    agg_df[name] = round(agg_df[(col, 'mean')], 2).astype(str) + \" (\" + round(agg_df[(col, 'std')], 2).astype(str) + \")\"\n",
    "    agg_df.drop([(col, 'mean'), (col, 'std')], axis=1, inplace=True)\n",
    "agg_df.to_clipboard()"
   ],
   "metadata": {
    "collapsed": false
   }
  },
  {
   "cell_type": "code",
   "execution_count": 4,
   "outputs": [
    {
     "data": {
      "text/plain": "   biochem/val_is_enzyme_hard_balanced_accuracy   _runtime  \\\n5                                      0.490918  13.239086   \n4                                      0.499460  16.849513   \n3                                      0.495364  11.683635   \n8                                      0.000000   2.878841   \n7                                      0.000000   2.396601   \n6                                      0.000000   2.380484   \n2                                      0.500000   2.572741   \n1                                      0.500000   2.657240   \n0                                      0.500000   2.527341   \n\n   biochem/val_in_mitochondria_balanced_accuracy  \\\n5                                       0.556434   \n4                                       0.512935   \n3                                       0.487012   \n8                                       0.500000   \n7                                       0.500000   \n6                                       0.500000   \n2                                       0.500000   \n1                                       0.500000   \n0                                       0.500000   \n\n   biochem/val_kingdom_eukaryota_accuracy  \\\n5                                0.502392   \n4                                0.545319   \n3                                0.536364   \n8                                0.000000   \n7                                0.000000   \n6                                0.000000   \n2                                1.000000   \n1                                1.000000   \n0                                1.000000   \n\n   biochem/val_average_semantic_localization  \\\n5                                   0.464433   \n4                                   0.454742   \n3                                   0.449960   \n8                                   0.310313   \n7                                   0.305945   \n6                                   0.308423   \n2                                   0.307788   \n1                                   0.308877   \n0                                   0.309638   \n\n   biochem/val_kingdom_archaea_accuracy  \\\n5                              0.017857   \n4                              0.017241   \n3                              0.000000   \n8                              0.000000   \n7                              0.000000   \n6                              0.000000   \n2                              0.000000   \n1                              0.000000   \n0                              0.000000   \n\n   biochem/val_in_membrane_balanced_accuracy  _step  \\\n5                                   0.491224    0.0   \n4                                   0.475278    0.0   \n3                                   0.500012    0.0   \n8                                   0.500000    0.0   \n7                                   0.500000    0.0   \n6                                   0.500000    0.0   \n2                                   0.500000    0.0   \n1                                   0.500000    0.0   \n0                                   0.500000    0.0   \n\n   biochem/val_in_membrane_f1  biochem/val_localization_f1  ...  \\\n5                    0.458175                     0.361975  ...   \n4                    0.446363                     0.316693  ...   \n3                    0.467871                     0.326365  ...   \n8                    0.166389                     0.196643  ...   \n7                    0.182553                     0.172043  ...   \n6                    0.204687                     0.160920  ...   \n2                    0.182472                     0.000000  ...   \n1                    0.189345                     0.000000  ...   \n0                    0.201805                     0.000000  ...   \n\n   biochem/val_is_fake_balanced_accuracy  biochem/val_cofactor  \\\n5                               0.488675              0.119850   \n4                               0.505962              0.108696   \n3                               0.480424              0.155844   \n8                               0.500000              0.000000   \n7                               0.500000              0.019231   \n6                               0.500000              0.000000   \n2                               0.500000              0.022472   \n1                               0.500000              0.030435   \n0                               0.500000              0.043290   \n\n   biochem/val_is_fake_f1  biochem/val_kingdom_bacteria_accuracy  \\\n5                0.488627                               0.436911   \n4                0.505930                               0.390688   \n3                0.479772                               0.399202   \n8                0.325707                               0.000000   \n7                0.335085                               0.000000   \n6                0.358942                               0.000000   \n2                0.339672                               0.000000   \n1                0.334212                               0.000000   \n0                0.323127                               0.000000   \n\n   biochem/val_localization_mitochondrion_accuracy    _timestamp  \\\n5                                         0.212121  1.705954e+09   \n4                                         0.148148  1.705954e+09   \n3                                         0.076923  1.705954e+09   \n8                                         0.000000  1.705589e+09   \n7                                         0.000000  1.705589e+09   \n6                                         0.000000  1.705590e+09   \n2                                         0.000000  1.705961e+09   \n1                                         0.000000  1.705961e+09   \n0                                         0.000000  1.705962e+09   \n\n   biochem/val_is_enzyme_hard_f1                           baseline  seed  \\\n5                       0.490823        random_baseline_gpt2-medium     0   \n4                       0.498013        random_baseline_gpt2-medium     7   \n3                       0.495264        random_baseline_gpt2-medium    42   \n8                       0.000000      llm_only_baseline_gpt2-medium     0   \n7                       0.000000      llm_only_baseline_gpt2-medium     7   \n6                       0.000000      llm_only_baseline_gpt2-medium    42   \n2                       0.342451  llm_only_baseline_microsoft/phi-2     0   \n1                       0.345935  llm_only_baseline_microsoft/phi-2     7   \n0                       0.344627  llm_only_baseline_microsoft/phi-2    42   \n\n   avg_binary_loc_f1  \n5           0.464433  \n4           0.454742  \n3           0.449960  \n8           0.310313  \n7           0.305945  \n6           0.308423  \n2           0.307788  \n1           0.308877  \n0           0.309638  \n\n[9 rows x 33 columns]",
      "text/html": "<div>\n<style scoped>\n    .dataframe tbody tr th:only-of-type {\n        vertical-align: middle;\n    }\n\n    .dataframe tbody tr th {\n        vertical-align: top;\n    }\n\n    .dataframe thead th {\n        text-align: right;\n    }\n</style>\n<table border=\"1\" class=\"dataframe\">\n  <thead>\n    <tr style=\"text-align: right;\">\n      <th></th>\n      <th>biochem/val_is_enzyme_hard_balanced_accuracy</th>\n      <th>_runtime</th>\n      <th>biochem/val_in_mitochondria_balanced_accuracy</th>\n      <th>biochem/val_kingdom_eukaryota_accuracy</th>\n      <th>biochem/val_average_semantic_localization</th>\n      <th>biochem/val_kingdom_archaea_accuracy</th>\n      <th>biochem/val_in_membrane_balanced_accuracy</th>\n      <th>_step</th>\n      <th>biochem/val_in_membrane_f1</th>\n      <th>biochem/val_localization_f1</th>\n      <th>...</th>\n      <th>biochem/val_is_fake_balanced_accuracy</th>\n      <th>biochem/val_cofactor</th>\n      <th>biochem/val_is_fake_f1</th>\n      <th>biochem/val_kingdom_bacteria_accuracy</th>\n      <th>biochem/val_localization_mitochondrion_accuracy</th>\n      <th>_timestamp</th>\n      <th>biochem/val_is_enzyme_hard_f1</th>\n      <th>baseline</th>\n      <th>seed</th>\n      <th>avg_binary_loc_f1</th>\n    </tr>\n  </thead>\n  <tbody>\n    <tr>\n      <th>5</th>\n      <td>0.490918</td>\n      <td>13.239086</td>\n      <td>0.556434</td>\n      <td>0.502392</td>\n      <td>0.464433</td>\n      <td>0.017857</td>\n      <td>0.491224</td>\n      <td>0.0</td>\n      <td>0.458175</td>\n      <td>0.361975</td>\n      <td>...</td>\n      <td>0.488675</td>\n      <td>0.119850</td>\n      <td>0.488627</td>\n      <td>0.436911</td>\n      <td>0.212121</td>\n      <td>1.705954e+09</td>\n      <td>0.490823</td>\n      <td>random_baseline_gpt2-medium</td>\n      <td>0</td>\n      <td>0.464433</td>\n    </tr>\n    <tr>\n      <th>4</th>\n      <td>0.499460</td>\n      <td>16.849513</td>\n      <td>0.512935</td>\n      <td>0.545319</td>\n      <td>0.454742</td>\n      <td>0.017241</td>\n      <td>0.475278</td>\n      <td>0.0</td>\n      <td>0.446363</td>\n      <td>0.316693</td>\n      <td>...</td>\n      <td>0.505962</td>\n      <td>0.108696</td>\n      <td>0.505930</td>\n      <td>0.390688</td>\n      <td>0.148148</td>\n      <td>1.705954e+09</td>\n      <td>0.498013</td>\n      <td>random_baseline_gpt2-medium</td>\n      <td>7</td>\n      <td>0.454742</td>\n    </tr>\n    <tr>\n      <th>3</th>\n      <td>0.495364</td>\n      <td>11.683635</td>\n      <td>0.487012</td>\n      <td>0.536364</td>\n      <td>0.449960</td>\n      <td>0.000000</td>\n      <td>0.500012</td>\n      <td>0.0</td>\n      <td>0.467871</td>\n      <td>0.326365</td>\n      <td>...</td>\n      <td>0.480424</td>\n      <td>0.155844</td>\n      <td>0.479772</td>\n      <td>0.399202</td>\n      <td>0.076923</td>\n      <td>1.705954e+09</td>\n      <td>0.495264</td>\n      <td>random_baseline_gpt2-medium</td>\n      <td>42</td>\n      <td>0.449960</td>\n    </tr>\n    <tr>\n      <th>8</th>\n      <td>0.000000</td>\n      <td>2.878841</td>\n      <td>0.500000</td>\n      <td>0.000000</td>\n      <td>0.310313</td>\n      <td>0.000000</td>\n      <td>0.500000</td>\n      <td>0.0</td>\n      <td>0.166389</td>\n      <td>0.196643</td>\n      <td>...</td>\n      <td>0.500000</td>\n      <td>0.000000</td>\n      <td>0.325707</td>\n      <td>0.000000</td>\n      <td>0.000000</td>\n      <td>1.705589e+09</td>\n      <td>0.000000</td>\n      <td>llm_only_baseline_gpt2-medium</td>\n      <td>0</td>\n      <td>0.310313</td>\n    </tr>\n    <tr>\n      <th>7</th>\n      <td>0.000000</td>\n      <td>2.396601</td>\n      <td>0.500000</td>\n      <td>0.000000</td>\n      <td>0.305945</td>\n      <td>0.000000</td>\n      <td>0.500000</td>\n      <td>0.0</td>\n      <td>0.182553</td>\n      <td>0.172043</td>\n      <td>...</td>\n      <td>0.500000</td>\n      <td>0.019231</td>\n      <td>0.335085</td>\n      <td>0.000000</td>\n      <td>0.000000</td>\n      <td>1.705589e+09</td>\n      <td>0.000000</td>\n      <td>llm_only_baseline_gpt2-medium</td>\n      <td>7</td>\n      <td>0.305945</td>\n    </tr>\n    <tr>\n      <th>6</th>\n      <td>0.000000</td>\n      <td>2.380484</td>\n      <td>0.500000</td>\n      <td>0.000000</td>\n      <td>0.308423</td>\n      <td>0.000000</td>\n      <td>0.500000</td>\n      <td>0.0</td>\n      <td>0.204687</td>\n      <td>0.160920</td>\n      <td>...</td>\n      <td>0.500000</td>\n      <td>0.000000</td>\n      <td>0.358942</td>\n      <td>0.000000</td>\n      <td>0.000000</td>\n      <td>1.705590e+09</td>\n      <td>0.000000</td>\n      <td>llm_only_baseline_gpt2-medium</td>\n      <td>42</td>\n      <td>0.308423</td>\n    </tr>\n    <tr>\n      <th>2</th>\n      <td>0.500000</td>\n      <td>2.572741</td>\n      <td>0.500000</td>\n      <td>1.000000</td>\n      <td>0.307788</td>\n      <td>0.000000</td>\n      <td>0.500000</td>\n      <td>0.0</td>\n      <td>0.182472</td>\n      <td>0.000000</td>\n      <td>...</td>\n      <td>0.500000</td>\n      <td>0.022472</td>\n      <td>0.339672</td>\n      <td>0.000000</td>\n      <td>0.000000</td>\n      <td>1.705961e+09</td>\n      <td>0.342451</td>\n      <td>llm_only_baseline_microsoft/phi-2</td>\n      <td>0</td>\n      <td>0.307788</td>\n    </tr>\n    <tr>\n      <th>1</th>\n      <td>0.500000</td>\n      <td>2.657240</td>\n      <td>0.500000</td>\n      <td>1.000000</td>\n      <td>0.308877</td>\n      <td>0.000000</td>\n      <td>0.500000</td>\n      <td>0.0</td>\n      <td>0.189345</td>\n      <td>0.000000</td>\n      <td>...</td>\n      <td>0.500000</td>\n      <td>0.030435</td>\n      <td>0.334212</td>\n      <td>0.000000</td>\n      <td>0.000000</td>\n      <td>1.705961e+09</td>\n      <td>0.345935</td>\n      <td>llm_only_baseline_microsoft/phi-2</td>\n      <td>7</td>\n      <td>0.308877</td>\n    </tr>\n    <tr>\n      <th>0</th>\n      <td>0.500000</td>\n      <td>2.527341</td>\n      <td>0.500000</td>\n      <td>1.000000</td>\n      <td>0.309638</td>\n      <td>0.000000</td>\n      <td>0.500000</td>\n      <td>0.0</td>\n      <td>0.201805</td>\n      <td>0.000000</td>\n      <td>...</td>\n      <td>0.500000</td>\n      <td>0.043290</td>\n      <td>0.323127</td>\n      <td>0.000000</td>\n      <td>0.000000</td>\n      <td>1.705962e+09</td>\n      <td>0.344627</td>\n      <td>llm_only_baseline_microsoft/phi-2</td>\n      <td>42</td>\n      <td>0.309638</td>\n    </tr>\n  </tbody>\n</table>\n<p>9 rows × 33 columns</p>\n</div>"
     },
     "execution_count": 4,
     "metadata": {},
     "output_type": "execute_result"
    }
   ],
   "source": [
    "layer_order = [\"random_baseline_gpt2-medium\", \"llm_only_baseline_gpt2-medium\", \"llm_only_baseline_microsoft/phi-2\"]\n",
    "var = 'baseline'\n",
    "ordering = (var, layer_order)\n",
    "df2 = process_run_data(out, [], ordering)\n",
    "df2"
   ],
   "metadata": {
    "collapsed": false
   }
  },
  {
   "cell_type": "code",
   "execution_count": 23,
   "outputs": [
    {
     "name": "stderr",
     "output_type": "stream",
     "text": [
      "/Users/elicarrami/PycharmProjects/cprt/cprt/analysis/analysis_utils.py:106: FutureWarning: The default of observed=False is deprecated and will be changed to True in a future version of pandas. Pass observed=False to retain current behavior or observed=True to adopt the future default and silence this warning.\n",
      "  return df.groupby(group_by).agg(['mean', 'std'])\n"
     ]
    }
   ],
   "source": [
    "agg_df = aggregate_metrics(df2, group_by=var)\n",
    "metrics_names = {k:v for k, v in METRIC_NAMES.items() if 'rouge' not in k and k in agg_df.columns}\n",
    "\n",
    "agg_df = agg_df[[col for col in metrics_names]]\n",
    "\n",
    "for col, name in metrics_names.items():\n",
    "    agg_df[name] = round(agg_df[(col, 'mean')], 2).astype(str) + \" (\" + round(agg_df[(col, 'std')], 2).astype(str) + \")\"\n",
    "    agg_df.drop([(col, 'mean'), (col, 'std')], axis=1, inplace=True)\n",
    "\n",
    "agg_df.to_clipboard()"
   ],
   "metadata": {
    "collapsed": false
   }
  },
  {
   "cell_type": "code",
   "execution_count": null,
   "outputs": [],
   "source": [],
   "metadata": {
    "collapsed": false
   }
  }
 ],
 "metadata": {
  "kernelspec": {
   "display_name": "Python 3",
   "language": "python",
   "name": "python3"
  },
  "language_info": {
   "codemirror_mode": {
    "name": "ipython",
    "version": 2
   },
   "file_extension": ".py",
   "mimetype": "text/x-python",
   "name": "python",
   "nbconvert_exporter": "python",
   "pygments_lexer": "ipython2",
   "version": "2.7.6"
  }
 },
 "nbformat": 4,
 "nbformat_minor": 0
}
