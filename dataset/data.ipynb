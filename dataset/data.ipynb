{
 "cells": [
  {
   "cell_type": "code",
   "execution_count": 13,
   "metadata": {
    "collapsed": true
   },
   "outputs": [],
   "source": [
    "import pickle\n",
    "\n",
    "with open(\"uniref50_gpt_data.pkl\", \"rb\") as f:\n",
    "    data = pickle.load(f)\n",
    "x = data"
   ]
  },
  {
   "cell_type": "code",
   "execution_count": 7,
   "outputs": [],
   "source": [
    "x = dict(list(data.items())[:10])"
   ],
   "metadata": {
    "collapsed": false
   }
  },
  {
   "cell_type": "code",
   "execution_count": 14,
   "outputs": [
    {
     "name": "stderr",
     "output_type": "stream",
     "text": [
      "100%|██████████| 257167/257167 [00:02<00:00, 118882.40it/s]\n"
     ]
    }
   ],
   "source": [
    "from tqdm import tqdm\n",
    "new = {}\n",
    "for k, v in tqdm(x.items()):\n",
    "    _new = {}\n",
    "    for _k, _v in v.items():\n",
    "        if _k == \"qa\":\n",
    "            _new[_k] = _v[:-1]\n",
    "        elif _k == \"metrics\":\n",
    "            _new[_k] = {i: j for i, j in _v.items() if j != \"none\" and i != \"kingdom\"}\n",
    "        else:\n",
    "            _new[_k] = _v\n",
    "    new[k] = _new\n",
    "with open(\"data_dict.pkl\", \"wb\") as f:\n",
    "    pickle.dump(new, f)"
   ],
   "metadata": {
    "collapsed": false
   }
  },
  {
   "cell_type": "code",
   "execution_count": 16,
   "outputs": [
    {
     "data": {
      "text/plain": "('A0A009IHW8',\n {'uniref_id': 'UniRef50_A0A009IHW8',\n  'sequence': 'MSLEQKKGADIISKILQIQNSIGKTTSPSTLKTKLSEISRKEQENARIQSKLSDLQKKKIDIDNKLLKEKQNLIKEEILERKKLEVLTKKQQKDEIEHQKKLKREIDAIKASTQYITDVSISSYNNTIPETEPEYDLFISHASEDKEDFVRPLAETLQQLGVNVWYDEFTLKVGDSLRQKIDSGLRNSKYGTVVLSTDFIKKDWTNYELDGLVAREMNGHKMILPIWHKITKNDVLDYSPNLADKVALNTSVNSIEEIAHQLADVILNR',\n  'fields': [\"catalytic activity: NAD(+) = 2'cADPR + H(+) + nicotinamide, H2O + NAD(+) = ADP-D-ribose + H(+) + nicotinamide, EC = 3.2.2.6, H2O + NADP(+) = ADP-D-ribose 2'-phosphate + H(+) + nicotinamide\",\n   'subunit: In the presence of NAD(+) analog 8-amino-isoquinoline adenine dinucleotide (3AD) forms filaments with 3AD between monomers; conformational changes occur upon 3AD binding., Homodimer',\n   'functional domains: NAD+ nucleosidase activity, Toll/interleukin-1 receptor homology (TIR) domain, NAD(P)+ nucleosidase activity, Toll/Interleukin receptor TIR domain, NAD+ nucleotidase, cyclic ADP-ribose generating',\n   'taxonomy: Bacteria, Pseudomonadota, Gammaproteobacteria',\n   'protein size: 269 aa, 30922 KDa'],\n  'summary': ['The protein is a homodimeric enzyme with a size of 269 amino acids and a molecular weight of 30922 KDa',\n   'It belongs to the bacteria group, specifically in the Pseudomonadota phylum within the Gammaproteobacteria class',\n   'The protein exhibits catalytic activity, specifically NAD(+) nucleosidase activity, NAD(P)(+) nucleosidase activity, and cyclic ADP-ribose generating activity',\n   \"It catalyzes the conversion of NAD(+) into 2'-cADPR, H(+), and nicotinamide, as well as the hydrolysis of NAD(+) and NADP(+) to produce ADP-D-ribose, H(+), and nicotinamide\",\n   'The protein is composed of functional domains such as the Toll/interleukin-1 receptor homology (TIR) domain',\n   'In the presence of the NAD(+) analog 8-amino-isoquinoline adenine dinucleotide (3AD), the protein forms filaments with 3AD between monomers, leading to conformational changes upon 3AD binding.'],\n  'qa': ['What is the molecular weight of the protein? The protein has a molecular weight of 30922 KDa.',\n   'What is the catalytic activity of the protein? The protein exhibits NAD(+) nucleosidase activity, NAD(P)(+) nucleosidase activity, and cyclic ADP-ribose generating activity.',\n   'What is the size of the protein in terms of amino acids? The protein consists of 269 amino acids.',\n   'Which phylum does the protein belong to? The protein belongs to the Pseudomonadota phylum.',\n   'What domains can be found in the protein? The protein contains a Toll/interleukin-1 receptor homology (TIR) domain.',\n   'What class does the protein belong to? The protein is classified in the Gammaproteobacteria class.',\n   'What is the subunit composition of the protein? The protein is a homodimer.',\n   'What is the taxonomy of the protein? The protein is classified as Bacteria, specifically in the Pseudomonadota group within the Gammaproteobacteria class.',\n   \"What reactions can the protein catalyze? The protein can convert NAD(+) into 2'-cADPR, H(+), and nicotinamide, as well as hydrolyze NAD(+) and NADP(+) to produce ADP-D-ribose, H(+), and nicotinamide.\",\n   'How does the presence of 8-amino-isoquinoline adenine dinucleotide (3AD) affect the protein? In the presence of 3AD, the protein forms filaments with 3AD between monomers and undergoes conformational changes upon 3AD binding.',\n   'Is this protein an enzyme? Yes'],\n  'metrics': {'in_membrane': False,\n   'in_nucleus': False,\n   'in_mitochondria': False,\n   'DNA_binding': False,\n   'RNA_binding': False,\n   'nucleic_acid_binding': False,\n   'is_enzyme': True,\n   'length': 269,\n   'mw': 30922}})"
     },
     "execution_count": 16,
     "metadata": {},
     "output_type": "execute_result"
    }
   ],
   "source": [
    "next(iter(new.items()))"
   ],
   "metadata": {
    "collapsed": false
   }
  },
  {
   "cell_type": "code",
   "execution_count": 41,
   "outputs": [
    {
     "data": {
      "text/plain": "        uniprot_id  protein_length            uniref_id  split\n0       A0A009IHW8             269  UniRef50_A0A009IHW8  train\n1       A0A067XGX8             512  UniRef50_A0A067XH53  train\n2       A0A067XH53             533  UniRef50_A0A067XH53  train\n3       A0A068BGA5             456  UniRef50_A0A068BGA5  train\n4       A0A072VHJ1             481  UniRef50_A0A072VHJ1  train\n...            ...             ...                  ...    ...\n257162      Q9ZWB3             471      UniRef50_Q9ZWB3  train\n257163      S3DQP8             358      UniRef50_S3DQP8  train\n257164      V6F510             297      UniRef50_V6F510   test\n257165      W6KHH6             293      UniRef50_W6KHH6  train\n257166      W6Q4Q9             342      UniRef50_W6Q4Q9  train\n\n[257167 rows x 4 columns]",
      "text/html": "<div>\n<style scoped>\n    .dataframe tbody tr th:only-of-type {\n        vertical-align: middle;\n    }\n\n    .dataframe tbody tr th {\n        vertical-align: top;\n    }\n\n    .dataframe thead th {\n        text-align: right;\n    }\n</style>\n<table border=\"1\" class=\"dataframe\">\n  <thead>\n    <tr style=\"text-align: right;\">\n      <th></th>\n      <th>uniprot_id</th>\n      <th>protein_length</th>\n      <th>uniref_id</th>\n      <th>split</th>\n    </tr>\n  </thead>\n  <tbody>\n    <tr>\n      <th>0</th>\n      <td>A0A009IHW8</td>\n      <td>269</td>\n      <td>UniRef50_A0A009IHW8</td>\n      <td>train</td>\n    </tr>\n    <tr>\n      <th>1</th>\n      <td>A0A067XGX8</td>\n      <td>512</td>\n      <td>UniRef50_A0A067XH53</td>\n      <td>train</td>\n    </tr>\n    <tr>\n      <th>2</th>\n      <td>A0A067XH53</td>\n      <td>533</td>\n      <td>UniRef50_A0A067XH53</td>\n      <td>train</td>\n    </tr>\n    <tr>\n      <th>3</th>\n      <td>A0A068BGA5</td>\n      <td>456</td>\n      <td>UniRef50_A0A068BGA5</td>\n      <td>train</td>\n    </tr>\n    <tr>\n      <th>4</th>\n      <td>A0A072VHJ1</td>\n      <td>481</td>\n      <td>UniRef50_A0A072VHJ1</td>\n      <td>train</td>\n    </tr>\n    <tr>\n      <th>...</th>\n      <td>...</td>\n      <td>...</td>\n      <td>...</td>\n      <td>...</td>\n    </tr>\n    <tr>\n      <th>257162</th>\n      <td>Q9ZWB3</td>\n      <td>471</td>\n      <td>UniRef50_Q9ZWB3</td>\n      <td>train</td>\n    </tr>\n    <tr>\n      <th>257163</th>\n      <td>S3DQP8</td>\n      <td>358</td>\n      <td>UniRef50_S3DQP8</td>\n      <td>train</td>\n    </tr>\n    <tr>\n      <th>257164</th>\n      <td>V6F510</td>\n      <td>297</td>\n      <td>UniRef50_V6F510</td>\n      <td>test</td>\n    </tr>\n    <tr>\n      <th>257165</th>\n      <td>W6KHH6</td>\n      <td>293</td>\n      <td>UniRef50_W6KHH6</td>\n      <td>train</td>\n    </tr>\n    <tr>\n      <th>257166</th>\n      <td>W6Q4Q9</td>\n      <td>342</td>\n      <td>UniRef50_W6Q4Q9</td>\n      <td>train</td>\n    </tr>\n  </tbody>\n</table>\n<p>257167 rows × 4 columns</p>\n</div>"
     },
     "execution_count": 41,
     "metadata": {},
     "output_type": "execute_result"
    }
   ],
   "source": [
    "from pika.utils.data_utils import random_split_df\n",
    "import pandas as pd\n",
    "\n",
    "metadata = pd.DataFrame(new.keys(), columns=[\"uniprot_id\"])\n",
    "\n",
    "metadata.loc[:, \"protein_length\"] = metadata[\"uniprot_id\"].apply(lambda x: len(new[x][\"sequence\"]))\n",
    "metadata.loc[:, \"uniref_id\"] = metadata[\"uniprot_id\"].apply(lambda x: new[x][\"uniref_id\"])\n",
    "\n",
    "metadata.reset_index(drop=True, inplace=True)\n",
    "import numpy as np\n",
    "\n",
    "cvd = pd.read_csv(\"uniprotkb_taxonomy_id_11118_AND_reviewe_2024_02_16.tsv\", sep=\"\\t\")[['Entry']]\n",
    "\n",
    "np.random.seed(1)\n",
    "random_split_df(metadata, [0.945, 0.005, 0.05], key=\"uniref_id\")\n",
    "\n",
    "cvm = metadata[metadata.uniprot_id.isin(cvd[\"Entry\"].to_list())]\n",
    "\n",
    "metadata[\"split\"] = metadata.apply(\n",
    "    lambda row: \"test\" if row[\"uniref_id\"] in cvm[\"uniref_id\"].to_list() else row[\"split\"], axis=1\n",
    ")\n",
    "\n",
    "metadata"
   ],
   "metadata": {
    "collapsed": false
   }
  },
  {
   "cell_type": "code",
   "execution_count": 42,
   "outputs": [
    {
     "data": {
      "text/plain": "split\ntest    147\nName: count, dtype: int64"
     },
     "execution_count": 42,
     "metadata": {},
     "output_type": "execute_result"
    }
   ],
   "source": [
    "metadata[metadata.uniprot_id.isin(cvd[\"Entry\"].to_list())][\"split\"].value_counts()"
   ],
   "metadata": {
    "collapsed": false
   }
  },
  {
   "cell_type": "code",
   "execution_count": 43,
   "outputs": [],
   "source": [
    "metadata.to_csv(\"s1.csv\")"
   ],
   "metadata": {
    "collapsed": false
   }
  },
  {
   "cell_type": "code",
   "execution_count": 28,
   "outputs": [
    {
     "data": {
      "text/plain": "      Entry\n0    A3EX94\n1    A3EXD0\n2    A3EXG6\n3    K9N4V7\n4    K9N5Q8\n..      ...\n481  Q9QAQ7\n482  Q9QAR4\n483  Q9QAS0\n484  Q9QAS1\n485  Q9QAS3\n\n[486 rows x 1 columns]",
      "text/html": "<div>\n<style scoped>\n    .dataframe tbody tr th:only-of-type {\n        vertical-align: middle;\n    }\n\n    .dataframe tbody tr th {\n        vertical-align: top;\n    }\n\n    .dataframe thead th {\n        text-align: right;\n    }\n</style>\n<table border=\"1\" class=\"dataframe\">\n  <thead>\n    <tr style=\"text-align: right;\">\n      <th></th>\n      <th>Entry</th>\n    </tr>\n  </thead>\n  <tbody>\n    <tr>\n      <th>0</th>\n      <td>A3EX94</td>\n    </tr>\n    <tr>\n      <th>1</th>\n      <td>A3EXD0</td>\n    </tr>\n    <tr>\n      <th>2</th>\n      <td>A3EXG6</td>\n    </tr>\n    <tr>\n      <th>3</th>\n      <td>K9N4V7</td>\n    </tr>\n    <tr>\n      <th>4</th>\n      <td>K9N5Q8</td>\n    </tr>\n    <tr>\n      <th>...</th>\n      <td>...</td>\n    </tr>\n    <tr>\n      <th>481</th>\n      <td>Q9QAQ7</td>\n    </tr>\n    <tr>\n      <th>482</th>\n      <td>Q9QAR4</td>\n    </tr>\n    <tr>\n      <th>483</th>\n      <td>Q9QAS0</td>\n    </tr>\n    <tr>\n      <th>484</th>\n      <td>Q9QAS1</td>\n    </tr>\n    <tr>\n      <th>485</th>\n      <td>Q9QAS3</td>\n    </tr>\n  </tbody>\n</table>\n<p>486 rows × 1 columns</p>\n</div>"
     },
     "execution_count": 28,
     "metadata": {},
     "output_type": "execute_result"
    }
   ],
   "source": [
    "cvd"
   ],
   "metadata": {
    "collapsed": false
   }
  },
  {
   "cell_type": "code",
   "execution_count": null,
   "outputs": [],
   "source": [],
   "metadata": {
    "collapsed": false
   }
  }
 ],
 "metadata": {
  "kernelspec": {
   "display_name": "Python 3",
   "language": "python",
   "name": "python3"
  },
  "language_info": {
   "codemirror_mode": {
    "name": "ipython",
    "version": 2
   },
   "file_extension": ".py",
   "mimetype": "text/x-python",
   "name": "python",
   "nbconvert_exporter": "python",
   "pygments_lexer": "ipython2",
   "version": "2.7.6"
  }
 },
 "nbformat": 4,
 "nbformat_minor": 0
}
