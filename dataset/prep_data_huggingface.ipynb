{
 "cells": [
  {
   "cell_type": "code",
   "execution_count": 1,
   "metadata": {
    "collapsed": true
   },
   "outputs": [],
   "source": [
    "import pickle\n",
    "import pandas as pd\n",
    "\n",
    "with open(\"data_dict.pkl\", \"rb\") as f:\n",
    "    data = pickle.load(f)"
   ]
  },
  {
   "cell_type": "code",
   "execution_count": 51,
   "outputs": [],
   "source": [
    "sp2 = pd.read_csv(\"splits/s1_1.csv\")"
   ],
   "metadata": {
    "collapsed": false
   }
  },
  {
   "cell_type": "code",
   "execution_count": 53,
   "outputs": [],
   "source": [
    "sp2 = sp2.drop(\"Unnamed: 0\", axis=1)"
   ],
   "metadata": {
    "collapsed": false
   }
  },
  {
   "cell_type": "code",
   "execution_count": 54,
   "outputs": [
    {
     "data": {
      "text/plain": "        uniprot_id  length            uniref_id  split\n0       A0A009IHW8     269  UniRef50_A0A009IHW8  train\n1       A0A067XGX8     512  UniRef50_A0A067XH53  train\n2       A0A067XH53     533  UniRef50_A0A067XH53  train\n3       A0A068BGA5     456  UniRef50_A0A068BGA5   test\n4       A0A072VHJ1     481  UniRef50_A0A072VHJ1  train\n...            ...     ...                  ...    ...\n257162      Q9ZWB3     471      UniRef50_Q9ZWB3  train\n257163      S3DQP8     358      UniRef50_S3DQP8  train\n257164      V6F510     297      UniRef50_V6F510   test\n257165      W6KHH6     293      UniRef50_W6KHH6   test\n257166      W6Q4Q9     342      UniRef50_W6Q4Q9  train\n\n[257167 rows x 4 columns]",
      "text/html": "<div>\n<style scoped>\n    .dataframe tbody tr th:only-of-type {\n        vertical-align: middle;\n    }\n\n    .dataframe tbody tr th {\n        vertical-align: top;\n    }\n\n    .dataframe thead th {\n        text-align: right;\n    }\n</style>\n<table border=\"1\" class=\"dataframe\">\n  <thead>\n    <tr style=\"text-align: right;\">\n      <th></th>\n      <th>uniprot_id</th>\n      <th>length</th>\n      <th>uniref_id</th>\n      <th>split</th>\n    </tr>\n  </thead>\n  <tbody>\n    <tr>\n      <th>0</th>\n      <td>A0A009IHW8</td>\n      <td>269</td>\n      <td>UniRef50_A0A009IHW8</td>\n      <td>train</td>\n    </tr>\n    <tr>\n      <th>1</th>\n      <td>A0A067XGX8</td>\n      <td>512</td>\n      <td>UniRef50_A0A067XH53</td>\n      <td>train</td>\n    </tr>\n    <tr>\n      <th>2</th>\n      <td>A0A067XH53</td>\n      <td>533</td>\n      <td>UniRef50_A0A067XH53</td>\n      <td>train</td>\n    </tr>\n    <tr>\n      <th>3</th>\n      <td>A0A068BGA5</td>\n      <td>456</td>\n      <td>UniRef50_A0A068BGA5</td>\n      <td>test</td>\n    </tr>\n    <tr>\n      <th>4</th>\n      <td>A0A072VHJ1</td>\n      <td>481</td>\n      <td>UniRef50_A0A072VHJ1</td>\n      <td>train</td>\n    </tr>\n    <tr>\n      <th>...</th>\n      <td>...</td>\n      <td>...</td>\n      <td>...</td>\n      <td>...</td>\n    </tr>\n    <tr>\n      <th>257162</th>\n      <td>Q9ZWB3</td>\n      <td>471</td>\n      <td>UniRef50_Q9ZWB3</td>\n      <td>train</td>\n    </tr>\n    <tr>\n      <th>257163</th>\n      <td>S3DQP8</td>\n      <td>358</td>\n      <td>UniRef50_S3DQP8</td>\n      <td>train</td>\n    </tr>\n    <tr>\n      <th>257164</th>\n      <td>V6F510</td>\n      <td>297</td>\n      <td>UniRef50_V6F510</td>\n      <td>test</td>\n    </tr>\n    <tr>\n      <th>257165</th>\n      <td>W6KHH6</td>\n      <td>293</td>\n      <td>UniRef50_W6KHH6</td>\n      <td>test</td>\n    </tr>\n    <tr>\n      <th>257166</th>\n      <td>W6Q4Q9</td>\n      <td>342</td>\n      <td>UniRef50_W6Q4Q9</td>\n      <td>train</td>\n    </tr>\n  </tbody>\n</table>\n<p>257167 rows × 4 columns</p>\n</div>"
     },
     "execution_count": 54,
     "metadata": {},
     "output_type": "execute_result"
    }
   ],
   "source": [
    "sp2.rename(columns={\"protein_length\": \"length\"}, inplace=True)\n",
    "sp2"
   ],
   "metadata": {
    "collapsed": false
   }
  },
  {
   "cell_type": "code",
   "execution_count": 55,
   "outputs": [],
   "source": [
    "sp2.to_csv(\"splits/pika_evogroup_split.csv\", index=False)"
   ],
   "metadata": {
    "collapsed": false
   }
  },
  {
   "cell_type": "code",
   "execution_count": 59,
   "outputs": [
    {
     "name": "stderr",
     "output_type": "stream",
     "text": [
      "100%|██████████| 257167/257167 [00:00<00:00, 2360156.97it/s]\n"
     ]
    }
   ],
   "source": [
    "from tqdm import tqdm\n",
    "x = set(sp2.uniprot_id.to_list())\n",
    "for i in tqdm(sp.uniprot_id):\n",
    "    assert i in x\n"
   ],
   "metadata": {
    "collapsed": false
   }
  },
  {
   "cell_type": "code",
   "execution_count": 60,
   "outputs": [
    {
     "data": {
      "text/plain": "        uniprot_id  length            uniref_id  split\n0       A0A009IHW8     269  UniRef50_A0A009IHW8  train\n1       A0A067XGX8     512  UniRef50_A0A067XH53  train\n2       A0A067XH53     533  UniRef50_A0A067XH53  train\n3       A0A068BGA5     456  UniRef50_A0A068BGA5  train\n4       A0A072VHJ1     481  UniRef50_A0A072VHJ1  train\n...            ...     ...                  ...    ...\n257162      Q9ZWB3     471      UniRef50_Q9ZWB3  train\n257163      S3DQP8     358      UniRef50_S3DQP8  train\n257164      V6F510     297      UniRef50_V6F510   test\n257165      W6KHH6     293      UniRef50_W6KHH6  train\n257166      W6Q4Q9     342      UniRef50_W6Q4Q9  train\n\n[257167 rows x 4 columns]",
      "text/html": "<div>\n<style scoped>\n    .dataframe tbody tr th:only-of-type {\n        vertical-align: middle;\n    }\n\n    .dataframe tbody tr th {\n        vertical-align: top;\n    }\n\n    .dataframe thead th {\n        text-align: right;\n    }\n</style>\n<table border=\"1\" class=\"dataframe\">\n  <thead>\n    <tr style=\"text-align: right;\">\n      <th></th>\n      <th>uniprot_id</th>\n      <th>length</th>\n      <th>uniref_id</th>\n      <th>split</th>\n    </tr>\n  </thead>\n  <tbody>\n    <tr>\n      <th>0</th>\n      <td>A0A009IHW8</td>\n      <td>269</td>\n      <td>UniRef50_A0A009IHW8</td>\n      <td>train</td>\n    </tr>\n    <tr>\n      <th>1</th>\n      <td>A0A067XGX8</td>\n      <td>512</td>\n      <td>UniRef50_A0A067XH53</td>\n      <td>train</td>\n    </tr>\n    <tr>\n      <th>2</th>\n      <td>A0A067XH53</td>\n      <td>533</td>\n      <td>UniRef50_A0A067XH53</td>\n      <td>train</td>\n    </tr>\n    <tr>\n      <th>3</th>\n      <td>A0A068BGA5</td>\n      <td>456</td>\n      <td>UniRef50_A0A068BGA5</td>\n      <td>train</td>\n    </tr>\n    <tr>\n      <th>4</th>\n      <td>A0A072VHJ1</td>\n      <td>481</td>\n      <td>UniRef50_A0A072VHJ1</td>\n      <td>train</td>\n    </tr>\n    <tr>\n      <th>...</th>\n      <td>...</td>\n      <td>...</td>\n      <td>...</td>\n      <td>...</td>\n    </tr>\n    <tr>\n      <th>257162</th>\n      <td>Q9ZWB3</td>\n      <td>471</td>\n      <td>UniRef50_Q9ZWB3</td>\n      <td>train</td>\n    </tr>\n    <tr>\n      <th>257163</th>\n      <td>S3DQP8</td>\n      <td>358</td>\n      <td>UniRef50_S3DQP8</td>\n      <td>train</td>\n    </tr>\n    <tr>\n      <th>257164</th>\n      <td>V6F510</td>\n      <td>297</td>\n      <td>UniRef50_V6F510</td>\n      <td>test</td>\n    </tr>\n    <tr>\n      <th>257165</th>\n      <td>W6KHH6</td>\n      <td>293</td>\n      <td>UniRef50_W6KHH6</td>\n      <td>train</td>\n    </tr>\n    <tr>\n      <th>257166</th>\n      <td>W6Q4Q9</td>\n      <td>342</td>\n      <td>UniRef50_W6Q4Q9</td>\n      <td>train</td>\n    </tr>\n  </tbody>\n</table>\n<p>257167 rows × 4 columns</p>\n</div>"
     },
     "execution_count": 60,
     "metadata": {},
     "output_type": "execute_result"
    }
   ],
   "source": [
    "sp"
   ],
   "metadata": {
    "collapsed": false
   }
  },
  {
   "cell_type": "code",
   "execution_count": 61,
   "outputs": [
    {
     "data": {
      "text/plain": "        uniprot_id  length            uniref_id  split\n0       A0A009IHW8     269  UniRef50_A0A009IHW8  train\n1       A0A067XGX8     512  UniRef50_A0A067XH53  train\n2       A0A067XH53     533  UniRef50_A0A067XH53  train\n3       A0A068BGA5     456  UniRef50_A0A068BGA5   test\n4       A0A072VHJ1     481  UniRef50_A0A072VHJ1  train\n...            ...     ...                  ...    ...\n257162      Q9ZWB3     471      UniRef50_Q9ZWB3  train\n257163      S3DQP8     358      UniRef50_S3DQP8  train\n257164      V6F510     297      UniRef50_V6F510   test\n257165      W6KHH6     293      UniRef50_W6KHH6   test\n257166      W6Q4Q9     342      UniRef50_W6Q4Q9  train\n\n[257167 rows x 4 columns]",
      "text/html": "<div>\n<style scoped>\n    .dataframe tbody tr th:only-of-type {\n        vertical-align: middle;\n    }\n\n    .dataframe tbody tr th {\n        vertical-align: top;\n    }\n\n    .dataframe thead th {\n        text-align: right;\n    }\n</style>\n<table border=\"1\" class=\"dataframe\">\n  <thead>\n    <tr style=\"text-align: right;\">\n      <th></th>\n      <th>uniprot_id</th>\n      <th>length</th>\n      <th>uniref_id</th>\n      <th>split</th>\n    </tr>\n  </thead>\n  <tbody>\n    <tr>\n      <th>0</th>\n      <td>A0A009IHW8</td>\n      <td>269</td>\n      <td>UniRef50_A0A009IHW8</td>\n      <td>train</td>\n    </tr>\n    <tr>\n      <th>1</th>\n      <td>A0A067XGX8</td>\n      <td>512</td>\n      <td>UniRef50_A0A067XH53</td>\n      <td>train</td>\n    </tr>\n    <tr>\n      <th>2</th>\n      <td>A0A067XH53</td>\n      <td>533</td>\n      <td>UniRef50_A0A067XH53</td>\n      <td>train</td>\n    </tr>\n    <tr>\n      <th>3</th>\n      <td>A0A068BGA5</td>\n      <td>456</td>\n      <td>UniRef50_A0A068BGA5</td>\n      <td>test</td>\n    </tr>\n    <tr>\n      <th>4</th>\n      <td>A0A072VHJ1</td>\n      <td>481</td>\n      <td>UniRef50_A0A072VHJ1</td>\n      <td>train</td>\n    </tr>\n    <tr>\n      <th>...</th>\n      <td>...</td>\n      <td>...</td>\n      <td>...</td>\n      <td>...</td>\n    </tr>\n    <tr>\n      <th>257162</th>\n      <td>Q9ZWB3</td>\n      <td>471</td>\n      <td>UniRef50_Q9ZWB3</td>\n      <td>train</td>\n    </tr>\n    <tr>\n      <th>257163</th>\n      <td>S3DQP8</td>\n      <td>358</td>\n      <td>UniRef50_S3DQP8</td>\n      <td>train</td>\n    </tr>\n    <tr>\n      <th>257164</th>\n      <td>V6F510</td>\n      <td>297</td>\n      <td>UniRef50_V6F510</td>\n      <td>test</td>\n    </tr>\n    <tr>\n      <th>257165</th>\n      <td>W6KHH6</td>\n      <td>293</td>\n      <td>UniRef50_W6KHH6</td>\n      <td>test</td>\n    </tr>\n    <tr>\n      <th>257166</th>\n      <td>W6Q4Q9</td>\n      <td>342</td>\n      <td>UniRef50_W6Q4Q9</td>\n      <td>train</td>\n    </tr>\n  </tbody>\n</table>\n<p>257167 rows × 4 columns</p>\n</div>"
     },
     "execution_count": 61,
     "metadata": {},
     "output_type": "execute_result"
    }
   ],
   "source": [
    "sp2"
   ],
   "metadata": {
    "collapsed": false
   }
  },
  {
   "cell_type": "code",
   "execution_count": 3,
   "outputs": [
    {
     "data": {
      "text/plain": "('A0A009IHW8',\n {'uniref_id': 'UniRef50_A0A009IHW8',\n  'sequence': 'MSLEQKKGADIISKILQIQNSIGKTTSPSTLKTKLSEISRKEQENARIQSKLSDLQKKKIDIDNKLLKEKQNLIKEEILERKKLEVLTKKQQKDEIEHQKKLKREIDAIKASTQYITDVSISSYNNTIPETEPEYDLFISHASEDKEDFVRPLAETLQQLGVNVWYDEFTLKVGDSLRQKIDSGLRNSKYGTVVLSTDFIKKDWTNYELDGLVAREMNGHKMILPIWHKITKNDVLDYSPNLADKVALNTSVNSIEEIAHQLADVILNR',\n  'fields': [\"catalytic activity: NAD(+) = 2'cADPR + H(+) + nicotinamide, H2O + NAD(+) = ADP-D-ribose + H(+) + nicotinamide, EC = 3.2.2.6, H2O + NADP(+) = ADP-D-ribose 2'-phosphate + H(+) + nicotinamide\",\n   'subunit: In the presence of NAD(+) analog 8-amino-isoquinoline adenine dinucleotide (3AD) forms filaments with 3AD between monomers; conformational changes occur upon 3AD binding., Homodimer',\n   'functional domains: NAD+ nucleosidase activity, Toll/interleukin-1 receptor homology (TIR) domain, NAD(P)+ nucleosidase activity, Toll/Interleukin receptor TIR domain, NAD+ nucleotidase, cyclic ADP-ribose generating',\n   'taxonomy: Bacteria, Pseudomonadota, Gammaproteobacteria',\n   'protein size: 269 aa, 30922 KDa'],\n  'summary': ['The protein is a homodimeric enzyme with a size of 269 amino acids and a molecular weight of 30922 KDa',\n   'It belongs to the bacteria group, specifically in the Pseudomonadota phylum within the Gammaproteobacteria class',\n   'The protein exhibits catalytic activity, specifically NAD(+) nucleosidase activity, NAD(P)(+) nucleosidase activity, and cyclic ADP-ribose generating activity',\n   \"It catalyzes the conversion of NAD(+) into 2'-cADPR, H(+), and nicotinamide, as well as the hydrolysis of NAD(+) and NADP(+) to produce ADP-D-ribose, H(+), and nicotinamide\",\n   'The protein is composed of functional domains such as the Toll/interleukin-1 receptor homology (TIR) domain',\n   'In the presence of the NAD(+) analog 8-amino-isoquinoline adenine dinucleotide (3AD), the protein forms filaments with 3AD between monomers, leading to conformational changes upon 3AD binding.'],\n  'qa': ['What is the molecular weight of the protein? The protein has a molecular weight of 30922 KDa.',\n   'What is the catalytic activity of the protein? The protein exhibits NAD(+) nucleosidase activity, NAD(P)(+) nucleosidase activity, and cyclic ADP-ribose generating activity.',\n   'What is the size of the protein in terms of amino acids? The protein consists of 269 amino acids.',\n   'Which phylum does the protein belong to? The protein belongs to the Pseudomonadota phylum.',\n   'What domains can be found in the protein? The protein contains a Toll/interleukin-1 receptor homology (TIR) domain.',\n   'What class does the protein belong to? The protein is classified in the Gammaproteobacteria class.',\n   'What is the subunit composition of the protein? The protein is a homodimer.',\n   'What is the taxonomy of the protein? The protein is classified as Bacteria, specifically in the Pseudomonadota group within the Gammaproteobacteria class.',\n   \"What reactions can the protein catalyze? The protein can convert NAD(+) into 2'-cADPR, H(+), and nicotinamide, as well as hydrolyze NAD(+) and NADP(+) to produce ADP-D-ribose, H(+), and nicotinamide.\",\n   'How does the presence of 8-amino-isoquinoline adenine dinucleotide (3AD) affect the protein? In the presence of 3AD, the protein forms filaments with 3AD between monomers and undergoes conformational changes upon 3AD binding.',\n   'Is this protein an enzyme? Yes'],\n  'metrics': {'in_membrane': False,\n   'in_nucleus': False,\n   'in_mitochondria': False,\n   'DNA_binding': False,\n   'RNA_binding': False,\n   'nucleic_acid_binding': False,\n   'is_enzyme': True,\n   'length': 269,\n   'mw': 30922}})"
     },
     "execution_count": 3,
     "metadata": {},
     "output_type": "execute_result"
    }
   ],
   "source": [
    "next(iter(data.items()))"
   ],
   "metadata": {
    "collapsed": false
   }
  },
  {
   "cell_type": "code",
   "execution_count": 7,
   "outputs": [],
   "source": [
    "meta, annot, metric = [], [], []\n",
    "for k, d in data.items():\n",
    "    meta.append([k, d['uniref_id'], d['fields'][-2].split(\":\")[-1].strip(), d['sequence'], len(d['sequence']), d['metrics']['mw'], len(d['fields']), len(d['summary']), len(d['qa'])])\n",
    "    for t in ['fields', 'summary', 'qa']:\n",
    "        for _f in d[t]:\n",
    "            annot.append([k, t, _f])\n",
    "    for m, v in d['metrics'].items():\n",
    "        if m != 'length' and 'binding' not in m:\n",
    "            metric.append([k, m, v])"
   ],
   "metadata": {
    "collapsed": false
   }
  },
  {
   "cell_type": "code",
   "execution_count": 13,
   "outputs": [
    {
     "data": {
      "text/plain": "[['A0A009IHW8',\n  'UniRef50_A0A009IHW8',\n  'Bacteria, Pseudomonadota, Gammaproteobacteria',\n  'MSLEQKKGADIISKILQIQNSIGKTTSPSTLKTKLSEISRKEQENARIQSKLSDLQKKKIDIDNKLLKEKQNLIKEEILERKKLEVLTKKQQKDEIEHQKKLKREIDAIKASTQYITDVSISSYNNTIPETEPEYDLFISHASEDKEDFVRPLAETLQQLGVNVWYDEFTLKVGDSLRQKIDSGLRNSKYGTVVLSTDFIKKDWTNYELDGLVAREMNGHKMILPIWHKITKNDVLDYSPNLADKVALNTSVNSIEEIAHQLADVILNR',\n  269,\n  30922,\n  5,\n  6,\n  11],\n ['A0A067XGX8',\n  'UniRef50_A0A067XH53',\n  'Eukaryota, Viridiplantae, Streptophyta',\n  'MALTATATTRGGSALPNSCLQTPKFQSLQKPTFISSFPTNKKTKPRTKHISAVQSPPSTTKWNLESWKTKPAFQLPDYPDKVELESVLKTLSTYPPIVFAGEARNLEEKLGEAALGNAFLLQGGDCAESFKEFSANNIRDTFRVMLQMGVVLMFGGQMPVIKVGRMAGQFAKPRSDPFEEKDGVKLPSYRGDNVNGDAFDEKSRIPDPHRMVRAYTQSVATLNLLRAFASGGYAAMQRVNQWNLDFTDQSEQGDRYRELAHRVDEAMGFMTAAGLTVDHTIMTTTDFWTSHECLLLPYEQALTREDSTSGLYYDCSAHMIWVGERTRQLDGAHVEFLRGIANPLGIKVSHKMDPDELVKLIDILNPQNKPGRITVITRMGADNMRVKLPHLIRAVRGAGQIVTWVSDPMHGNTTKAPCGLKTRSFDSIRAELRAFFDVHEQEGSYPGGVHLEMTGQNVTECVGGSRTITYNDLSSRYHTHCDPRLNASQALELAFAIAERLRRRRLGPKFSL',\n  512,\n  57062,\n  7,\n  5,\n  8]]"
     },
     "execution_count": 13,
     "metadata": {},
     "output_type": "execute_result"
    }
   ],
   "source": [
    "meta[:2]"
   ],
   "metadata": {
    "collapsed": false
   }
  },
  {
   "cell_type": "code",
   "execution_count": 14,
   "outputs": [],
   "source": [
    "s_df = pd.DataFrame(meta, columns=[\"uniprot_id\", \"uniref_cluster\", \"taxonomy\", \"sequence\", \"length\", \"mw\", \"num_fields\", \"num_summary\", \"num_qa\"])\n",
    "a_df = pd.DataFrame(annot, columns=[\"uniprot_id\", \"type\", \"annotation\"])\n",
    "m_df = pd.DataFrame(metric, columns=[\"uniprot_id\", \"metric\", \"value\"])\n",
    "m_df = m_df[m_df['value'].map(lambda x: \"here\" not in str(x))]"
   ],
   "metadata": {
    "collapsed": false
   }
  },
  {
   "cell_type": "code",
   "execution_count": 44,
   "outputs": [],
   "source": [
    "s_df.to_csv(\"dataset/pika_sequences.csv\", index=False)\n",
    "a_df.to_csv(\"dataset/pika_annotations.csv\", index=False)\n",
    "m_df.to_csv(\"dataset/pika_metrics.csv\", index=False)"
   ],
   "metadata": {
    "collapsed": false
   }
  },
  {
   "cell_type": "code",
   "execution_count": 40,
   "outputs": [
    {
     "name": "stderr",
     "output_type": "stream",
     "text": [
      "/var/folders/nv/z1jxx0450bl2tkfsvqfvmzz00000gn/T/ipykernel_96546/2396993662.py:3: SettingWithCopyWarning: \n",
      "A value is trying to be set on a copy of a slice from a DataFrame\n",
      "\n",
      "See the caveats in the documentation: https://pandas.pydata.org/pandas-docs/stable/user_guide/indexing.html#returning-a-view-versus-a-copy\n",
      "  m_df.rename(columns={\"id\": \"uniprot_id\"}, inplace=True)\n"
     ]
    },
    {
     "data": {
      "text/plain": "         uniprot_id           metric   value\n0        A0A009IHW8      in_membrane   False\n1        A0A009IHW8       in_nucleus   False\n2        A0A009IHW8  in_mitochondria   False\n3        A0A009IHW8        is_enzyme    True\n4        A0A009IHW8               mw   30922\n...             ...              ...     ...\n1432708      W6Q4Q9       in_nucleus   False\n1432709      W6Q4Q9  in_mitochondria   False\n1432710      W6Q4Q9        is_enzyme    True\n1432711      W6Q4Q9         cofactor  mg(2+)\n1432712      W6Q4Q9               mw   39192\n\n[1432683 rows x 3 columns]",
      "text/html": "<div>\n<style scoped>\n    .dataframe tbody tr th:only-of-type {\n        vertical-align: middle;\n    }\n\n    .dataframe tbody tr th {\n        vertical-align: top;\n    }\n\n    .dataframe thead th {\n        text-align: right;\n    }\n</style>\n<table border=\"1\" class=\"dataframe\">\n  <thead>\n    <tr style=\"text-align: right;\">\n      <th></th>\n      <th>uniprot_id</th>\n      <th>metric</th>\n      <th>value</th>\n    </tr>\n  </thead>\n  <tbody>\n    <tr>\n      <th>0</th>\n      <td>A0A009IHW8</td>\n      <td>in_membrane</td>\n      <td>False</td>\n    </tr>\n    <tr>\n      <th>1</th>\n      <td>A0A009IHW8</td>\n      <td>in_nucleus</td>\n      <td>False</td>\n    </tr>\n    <tr>\n      <th>2</th>\n      <td>A0A009IHW8</td>\n      <td>in_mitochondria</td>\n      <td>False</td>\n    </tr>\n    <tr>\n      <th>3</th>\n      <td>A0A009IHW8</td>\n      <td>is_enzyme</td>\n      <td>True</td>\n    </tr>\n    <tr>\n      <th>4</th>\n      <td>A0A009IHW8</td>\n      <td>mw</td>\n      <td>30922</td>\n    </tr>\n    <tr>\n      <th>...</th>\n      <td>...</td>\n      <td>...</td>\n      <td>...</td>\n    </tr>\n    <tr>\n      <th>1432708</th>\n      <td>W6Q4Q9</td>\n      <td>in_nucleus</td>\n      <td>False</td>\n    </tr>\n    <tr>\n      <th>1432709</th>\n      <td>W6Q4Q9</td>\n      <td>in_mitochondria</td>\n      <td>False</td>\n    </tr>\n    <tr>\n      <th>1432710</th>\n      <td>W6Q4Q9</td>\n      <td>is_enzyme</td>\n      <td>True</td>\n    </tr>\n    <tr>\n      <th>1432711</th>\n      <td>W6Q4Q9</td>\n      <td>cofactor</td>\n      <td>mg(2+)</td>\n    </tr>\n    <tr>\n      <th>1432712</th>\n      <td>W6Q4Q9</td>\n      <td>mw</td>\n      <td>39192</td>\n    </tr>\n  </tbody>\n</table>\n<p>1432683 rows × 3 columns</p>\n</div>"
     },
     "execution_count": 40,
     "metadata": {},
     "output_type": "execute_result"
    }
   ],
   "source": [
    "s_df.rename(columns={\"id\": \"uniprot_id\"}, inplace=True)\n",
    "a_df.rename(columns={\"id\": \"uniprot_id\"}, inplace=True)\n",
    "m_df.rename(columns={\"id\": \"uniprot_id\"}, inplace=True)\n",
    "m_df"
   ],
   "metadata": {
    "collapsed": false
   }
  },
  {
   "cell_type": "code",
   "execution_count": 45,
   "outputs": [
    {
     "data": {
      "text/plain": "   uniprot_id  protein_length  split\n0  A0A009IHW8             269  train\n1  A0A067XGX8             512  train\n2  A0A067XH53             533    val\n3  A0A068BGA5             456   test\n4  A0A072VHJ1             481  train\n5  A0A073CEA3             202    val\n6  A0A075TMP8             526   test\n7  A0A075TR41             326   test\n8  A0A075TRL5             524    val\n9  A0A084R1H6            2435  train",
      "text/html": "<div>\n<style scoped>\n    .dataframe tbody tr th:only-of-type {\n        vertical-align: middle;\n    }\n\n    .dataframe tbody tr th {\n        vertical-align: top;\n    }\n\n    .dataframe thead th {\n        text-align: right;\n    }\n</style>\n<table border=\"1\" class=\"dataframe\">\n  <thead>\n    <tr style=\"text-align: right;\">\n      <th></th>\n      <th>uniprot_id</th>\n      <th>protein_length</th>\n      <th>split</th>\n    </tr>\n  </thead>\n  <tbody>\n    <tr>\n      <th>0</th>\n      <td>A0A009IHW8</td>\n      <td>269</td>\n      <td>train</td>\n    </tr>\n    <tr>\n      <th>1</th>\n      <td>A0A067XGX8</td>\n      <td>512</td>\n      <td>train</td>\n    </tr>\n    <tr>\n      <th>2</th>\n      <td>A0A067XH53</td>\n      <td>533</td>\n      <td>val</td>\n    </tr>\n    <tr>\n      <th>3</th>\n      <td>A0A068BGA5</td>\n      <td>456</td>\n      <td>test</td>\n    </tr>\n    <tr>\n      <th>4</th>\n      <td>A0A072VHJ1</td>\n      <td>481</td>\n      <td>train</td>\n    </tr>\n    <tr>\n      <th>5</th>\n      <td>A0A073CEA3</td>\n      <td>202</td>\n      <td>val</td>\n    </tr>\n    <tr>\n      <th>6</th>\n      <td>A0A075TMP8</td>\n      <td>526</td>\n      <td>test</td>\n    </tr>\n    <tr>\n      <th>7</th>\n      <td>A0A075TR41</td>\n      <td>326</td>\n      <td>test</td>\n    </tr>\n    <tr>\n      <th>8</th>\n      <td>A0A075TRL5</td>\n      <td>524</td>\n      <td>val</td>\n    </tr>\n    <tr>\n      <th>9</th>\n      <td>A0A084R1H6</td>\n      <td>2435</td>\n      <td>train</td>\n    </tr>\n  </tbody>\n</table>\n</div>"
     },
     "execution_count": 45,
     "metadata": {},
     "output_type": "execute_result"
    }
   ],
   "source": [
    "ss = pd.read_csv(\"../assets/sample_split.csv\")\n",
    "ss"
   ],
   "metadata": {
    "collapsed": false
   }
  },
  {
   "cell_type": "code",
   "execution_count": 46,
   "outputs": [],
   "source": [
    "ss_df = s_df[s_df.uniprot_id.isin(ss.uniprot_id)]\n",
    "sm_df = m_df[m_df.uniprot_id.isin(ss.uniprot_id)]\n",
    "sa_df = a_df[a_df.uniprot_id.isin(ss.uniprot_id)]"
   ],
   "metadata": {
    "collapsed": false
   }
  },
  {
   "cell_type": "code",
   "execution_count": 50,
   "outputs": [],
   "source": [
    "ss_df.to_csv(\"../assets/sample_sequences.csv\", index=False)\n",
    "sa_df.to_csv(\"../assets/sample_annotations.csv\", index=False)\n",
    "sm_df.to_csv(\"../assets/sample_metrics.csv\", index=False)"
   ],
   "metadata": {
    "collapsed": false
   }
  },
  {
   "cell_type": "code",
   "execution_count": null,
   "outputs": [],
   "source": [],
   "metadata": {
    "collapsed": false
   }
  }
 ],
 "metadata": {
  "kernelspec": {
   "display_name": "Python 3",
   "language": "python",
   "name": "python3"
  },
  "language_info": {
   "codemirror_mode": {
    "name": "ipython",
    "version": 2
   },
   "file_extension": ".py",
   "mimetype": "text/x-python",
   "name": "python",
   "nbconvert_exporter": "python",
   "pygments_lexer": "ipython2",
   "version": "2.7.6"
  }
 },
 "nbformat": 4,
 "nbformat_minor": 0
}
