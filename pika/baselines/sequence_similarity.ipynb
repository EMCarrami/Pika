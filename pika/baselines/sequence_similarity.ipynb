{
 "cells": [
  {
   "cell_type": "code",
   "execution_count": 1,
   "metadata": {
    "collapsed": true
   },
   "outputs": [
    {
     "name": "stderr",
     "output_type": "stream",
     "text": [
      "/var/folders/nv/z1jxx0450bl2tkfsvqfvmzz00000gn/T/ipykernel_90096/1126344167.py:2: DeprecationWarning: \n",
      "Pyarrow will become a required dependency of pandas in the next major release of pandas (pandas 3.0),\n",
      "(to allow more performant data types, such as the Arrow string type, and better interoperability with other libraries)\n",
      "but was not found to be installed on your system.\n",
      "If this would cause problems for you,\n",
      "please provide us feedback at https://github.com/pandas-dev/pandas/issues/54466\n",
      "        \n",
      "  import pandas as pd\n"
     ]
    }
   ],
   "source": [
    "import pickle\n",
    "import pandas as pd\n",
    "import numpy as np\n",
    "from torchmetrics.functional.text.rouge import rouge_score\n",
    "from tqdm import tqdm"
   ]
  },
  {
   "cell_type": "code",
   "execution_count": 2,
   "outputs": [],
   "source": [
    "with open(\"../../dataset/data_dict.pkl\", \"rb\") as f:\n",
    "    data_dict = pickle.load(f)\n",
    "with open(\"../../dataset/split_homology_test_0.pkl\", \"rb\") as f:\n",
    "    hmg_dict = pickle.load(f)\n",
    "metadata = pd.read_csv(\"../../dataset/split_0.csv\")"
   ],
   "metadata": {
    "collapsed": false
   }
  },
  {
   "cell_type": "code",
   "execution_count": 4,
   "outputs": [
    {
     "data": {
      "text/plain": "   uniprot_id  protein_length        uniref_id split\n1      Q07646             335  UniRef50_Q07646  test\n5      Q9EWW3             105  UniRef50_Q9EWW3  test\n10     Q54PH5             528  UniRef50_Q54PH5  test\n16     Q75FU8             436  UniRef50_Q75FU8  test\n19     Q9HLE5             268  UniRef50_Q9HLE5  test\n26     A5FH28             356  UniRef50_A5FH28  test\n28     Q2TBK4             278  UniRef50_Q8BHX1  test\n40     O19901             293  UniRef50_O19901  test\n60     Q6ZM63             285  UniRef50_Q9UHW5  test\n63     Q9H672             318  UniRef50_Q9H672  test",
      "text/html": "<div>\n<style scoped>\n    .dataframe tbody tr th:only-of-type {\n        vertical-align: middle;\n    }\n\n    .dataframe tbody tr th {\n        vertical-align: top;\n    }\n\n    .dataframe thead th {\n        text-align: right;\n    }\n</style>\n<table border=\"1\" class=\"dataframe\">\n  <thead>\n    <tr style=\"text-align: right;\">\n      <th></th>\n      <th>uniprot_id</th>\n      <th>protein_length</th>\n      <th>uniref_id</th>\n      <th>split</th>\n    </tr>\n  </thead>\n  <tbody>\n    <tr>\n      <th>1</th>\n      <td>Q07646</td>\n      <td>335</td>\n      <td>UniRef50_Q07646</td>\n      <td>test</td>\n    </tr>\n    <tr>\n      <th>5</th>\n      <td>Q9EWW3</td>\n      <td>105</td>\n      <td>UniRef50_Q9EWW3</td>\n      <td>test</td>\n    </tr>\n    <tr>\n      <th>10</th>\n      <td>Q54PH5</td>\n      <td>528</td>\n      <td>UniRef50_Q54PH5</td>\n      <td>test</td>\n    </tr>\n    <tr>\n      <th>16</th>\n      <td>Q75FU8</td>\n      <td>436</td>\n      <td>UniRef50_Q75FU8</td>\n      <td>test</td>\n    </tr>\n    <tr>\n      <th>19</th>\n      <td>Q9HLE5</td>\n      <td>268</td>\n      <td>UniRef50_Q9HLE5</td>\n      <td>test</td>\n    </tr>\n    <tr>\n      <th>26</th>\n      <td>A5FH28</td>\n      <td>356</td>\n      <td>UniRef50_A5FH28</td>\n      <td>test</td>\n    </tr>\n    <tr>\n      <th>28</th>\n      <td>Q2TBK4</td>\n      <td>278</td>\n      <td>UniRef50_Q8BHX1</td>\n      <td>test</td>\n    </tr>\n    <tr>\n      <th>40</th>\n      <td>O19901</td>\n      <td>293</td>\n      <td>UniRef50_O19901</td>\n      <td>test</td>\n    </tr>\n    <tr>\n      <th>60</th>\n      <td>Q6ZM63</td>\n      <td>285</td>\n      <td>UniRef50_Q9UHW5</td>\n      <td>test</td>\n    </tr>\n    <tr>\n      <th>63</th>\n      <td>Q9H672</td>\n      <td>318</td>\n      <td>UniRef50_Q9H672</td>\n      <td>test</td>\n    </tr>\n  </tbody>\n</table>\n</div>"
     },
     "execution_count": 4,
     "metadata": {},
     "output_type": "execute_result"
    }
   ],
   "source": [
    "df = metadata[metadata.split==\"test\"]\n",
    "df.iloc[:10]"
   ],
   "metadata": {
    "collapsed": false
   }
  },
  {
   "cell_type": "code",
   "execution_count": 14,
   "outputs": [
    {
     "name": "stderr",
     "output_type": "stream",
     "text": [
      "100%|██████████| 17552/17552 [1:30:32<00:00,  3.23it/s]  \n"
     ]
    }
   ],
   "source": [
    "scores = {}\n",
    "for i, r in tqdm(df.iterrows(), total=len(df)):\n",
    "    uid, _, cid, _ = r\n",
    "    scores[uid] = 0\n",
    "    s1 = data_dict[uid]['sequence']\n",
    "    s2s = [data_dict[hmg_dict[uid][i]]['sequence'] for i in range(min(10, len(hmg_dict[uid])))]\n",
    "    for ss in s2s:\n",
    "        score = rouge_score(s1, ss, tokenizer=list, rouge_keys=\"rougeL\")['rougeL_fmeasure'].item()\n",
    "        if score > scores[uid]:\n",
    "            scores[uid] = score\n",
    "        if score > 0.6:\n",
    "            break"
   ],
   "metadata": {
    "collapsed": false
   }
  },
  {
   "cell_type": "code",
   "execution_count": 18,
   "outputs": [],
   "source": [
    "with open(\"split_0_closest_homologue_sim_score.pkl\", \"wb\") as f:\n",
    "    pickle.dump(scores, f)"
   ],
   "metadata": {
    "collapsed": false
   }
  },
  {
   "cell_type": "code",
   "execution_count": 17,
   "outputs": [
    {
     "name": "stdout",
     "output_type": "stream",
     "text": [
      "0.1 22\n",
      "0.2 60\n",
      "0.3 187\n",
      "0.4 1239\n",
      "0.5 4298\n",
      "0.6 8576\n"
     ]
    },
    {
     "data": {
      "text/plain": "17552"
     },
     "execution_count": 17,
     "metadata": {},
     "output_type": "execute_result"
    }
   ],
   "source": [
    "for i in [0.1, 0.2, 0.3, 0.4, 0.5, 0.6]:\n",
    "    print(i, len([k for k, v in scores.items() if v <= i]))\n",
    "len(scores)"
   ],
   "metadata": {
    "collapsed": false
   }
  },
  {
   "cell_type": "code",
   "execution_count": 19,
   "outputs": [
    {
     "data": {
      "text/plain": "{'bodies': [<matplotlib.collections.PolyCollection at 0x7f9afc164f10>],\n 'cmaxes': <matplotlib.collections.LineCollection at 0x7f9afc164e80>,\n 'cmins': <matplotlib.collections.LineCollection at 0x7f9afe7e2110>,\n 'cbars': <matplotlib.collections.LineCollection at 0x7f9afe7e0850>}"
     },
     "execution_count": 19,
     "metadata": {},
     "output_type": "execute_result"
    },
    {
     "data": {
      "text/plain": "<Figure size 640x480 with 1 Axes>",
      "image/png": "[encoded data removed]"
     },
     "metadata": {},
     "output_type": "display_data"
    }
   ],
   "source": [
    "with open(\"test_sim_scores.pkl\", \"rb\") as f:\n",
    "    _sc = pickle.load(f)\n",
    "plt.violinplot(_sc.values())"
   ],
   "metadata": {
    "collapsed": false
   }
  },
  {
   "cell_type": "code",
   "execution_count": 22,
   "outputs": [
    {
     "data": {
      "text/plain": "0.25208085775375366"
     },
     "execution_count": 22,
     "metadata": {},
     "output_type": "execute_result"
    }
   ],
   "source": [
    "min(_sc.values())"
   ],
   "metadata": {
    "collapsed": false
   }
  },
  {
   "cell_type": "code",
   "execution_count": 15,
   "outputs": [
    {
     "data": {
      "text/plain": "{'bodies': [<matplotlib.collections.PolyCollection at 0x7f9ae8c14af0>],\n 'cmaxes': <matplotlib.collections.LineCollection at 0x7f9ae8c14bb0>,\n 'cmins': <matplotlib.collections.LineCollection at 0x7f9ae8b0fc10>,\n 'cbars': <matplotlib.collections.LineCollection at 0x7f9ae8b0f820>}"
     },
     "execution_count": 15,
     "metadata": {},
     "output_type": "execute_result"
    },
    {
     "data": {
      "text/plain": "<Figure size 640x480 with 1 Axes>",
      "image/png": "[encoded data removed]"
     },
     "metadata": {},
     "output_type": "display_data"
    }
   ],
   "source": [
    "import matplotlib.pyplot as plt\n",
    "\n",
    "plt.violinplot(scores.values())"
   ],
   "metadata": {
    "collapsed": false
   }
  },
  {
   "cell_type": "code",
   "execution_count": null,
   "outputs": [],
   "source": [],
   "metadata": {
    "collapsed": false
   }
  }
 ],
 "metadata": {
  "kernelspec": {
   "display_name": "Python 3",
   "language": "python",
   "name": "python3"
  },
  "language_info": {
   "codemirror_mode": {
    "name": "ipython",
    "version": 2
   },
   "file_extension": ".py",
   "mimetype": "text/x-python",
   "name": "python",
   "nbconvert_exporter": "python",
   "pygments_lexer": "ipython2",
   "version": "2.7.6"
  }
 },
 "nbformat": 4,
 "nbformat_minor": 0
}
