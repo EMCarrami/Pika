{
 "cells": [
  {
   "cell_type": "code",
   "execution_count": 1,
   "metadata": {
    "collapsed": true
   },
   "outputs": [],
   "source": [
    "from pika.main import Pika\n",
    "from pika.utils.helpers import load_config\n",
    "import warnings\n",
    "import logging\n",
    "\n",
    "warnings.filterwarnings(\"ignore\")\n",
    "logging.getLogger(\"transformers\").setLevel(logging.ERROR)"
   ]
  },
  {
   "cell_type": "code",
   "execution_count": 2,
   "outputs": [],
   "source": [
    "# prep config\n",
    "assets_path = \"../tests/assets/\"\n",
    "config = load_config(assets_path + \"sample_self_pika_config.json\")\n",
    "config[\"datamodule\"][\"data_dict_path\"] = assets_path + \"sample_data.pkl\"\n",
    "config[\"datamodule\"][\"split_path\"] = assets_path + \"sample_split.csv\"\n",
    "config[\"datamodule\"][\"test_subjects\"] = [\"reaction\", \"taxonomy\"]\n",
    "config[\"model\"][\"checkpoint\"] = \"../model_checkpoints/self_pika_gpt2m_esm2m.ckpt\""
   ],
   "metadata": {
    "collapsed": false
   }
  },
  {
   "cell_type": "code",
   "execution_count": 3,
   "outputs": [
    {
     "name": "stderr",
     "output_type": "stream",
     "text": [
      "Seed set to 7\n",
      "Using cache found in /Users/elicarrami/.cache/torch/hub/facebookresearch_esm_main\n",
      "\u001B[32m2024-02-21 10:25:23.270\u001B[0m | \u001B[1mINFO    \u001B[0m | \u001B[36mpika.utils.checkpoint_utils\u001B[0m:\u001B[36mload_from_checkpoint\u001B[0m:\u001B[36m38\u001B[0m - \u001B[1mpartial model loaded from checkpoint at ../model_checkpoints/self_pika_gpt2m_esm2m.ckpt\u001B[0m\n",
      "\u001B[32m2024-02-21 10:25:23.536\u001B[0m | \u001B[1mINFO    \u001B[0m | \u001B[36mpika.datamodule.pika_datamodule\u001B[0m:\u001B[36m__init__\u001B[0m:\u001B[36m89\u001B[0m - \u001B[1mloading data from ../tests/assets/sample_data.pkl\u001B[0m\n",
      "\u001B[32m2024-02-21 10:25:23.542\u001B[0m | \u001B[1mINFO    \u001B[0m | \u001B[36mpika.datamodule.pika_datamodule\u001B[0m:\u001B[36m__init__\u001B[0m:\u001B[36m95\u001B[0m - \u001B[1mloading splits from ../tests/assets/sample_split.csv\u001B[0m\n",
      "\u001B[32m2024-02-21 10:25:23.562\u001B[0m | \u001B[1mINFO    \u001B[0m | \u001B[36mpika.datamodule.pika_datamodule\u001B[0m:\u001B[36m__init__\u001B[0m:\u001B[36m129\u001B[0m - \u001B[1mpreparing examples\u001B[0m\n",
      "\u001B[32m2024-02-21 10:25:23.564\u001B[0m | \u001B[1mINFO    \u001B[0m | \u001B[36mpika.datamodule.pika_torch_datasets\u001B[0m:\u001B[36m__init__\u001B[0m:\u001B[36m27\u001B[0m - \u001B[1mpreparing train dataset\u001B[0m\n",
      "\u001B[32m2024-02-21 10:25:23.567\u001B[0m | \u001B[1mINFO    \u001B[0m | \u001B[36mpika.datamodule.pika_torch_datasets\u001B[0m:\u001B[36m__init__\u001B[0m:\u001B[36m27\u001B[0m - \u001B[1mpreparing val dataset\u001B[0m\n",
      "\u001B[32m2024-02-21 10:25:23.572\u001B[0m | \u001B[1mINFO    \u001B[0m | \u001B[36mpika.datamodule.pika_torch_datasets\u001B[0m:\u001B[36m__init__\u001B[0m:\u001B[36m71\u001B[0m - \u001B[1mpreparing val metrics dataset\u001B[0m\n",
      "GPU available: False, used: False\n",
      "TPU available: False, using: 0 TPU cores\n",
      "IPU available: False, using: 0 IPUs\n",
      "HPU available: False, using: 0 HPUs\n",
      "`Trainer(limit_train_batches=1)` was configured so 1 batch per epoch will be used.\n",
      "`Trainer(limit_val_batches=1)` was configured so 1 batch will be used.\n",
      "`Trainer(limit_test_batches=1)` was configured so 1 batch will be used.\n",
      "\u001B[32m2024-02-21 10:25:23.845\u001B[0m | \u001B[1mINFO    \u001B[0m | \u001B[36mpika.main\u001B[0m:\u001B[36m__init__\u001B[0m:\u001B[36m92\u001B[0m - \u001B[1mwill save partial model checkpoints. Ensure this is intended.\u001B[0m\n"
     ]
    },
    {
     "data": {
      "text/plain": "{'language_model': 'gpt2-medium',\n 'protein_model': 'esm2_t12_35M_UR50D',\n 'multimodal_strategy': 'self-pika',\n 'protein_layer_to_use': -1,\n 'perceiver_latent_size': 100,\n 'num_perceiver_layers': 4,\n 'multimodal_layers': [0],\n 'enable_gradient_checkpointing': False,\n 'lr': 0.0001,\n 'weight_decay': 0.0001,\n 'checkpoint': '../model_checkpoints/self_pika_gpt2m_esm2m.ckpt',\n 'schedulers': None}"
     },
     "execution_count": 3,
     "metadata": {},
     "output_type": "execute_result"
    }
   ],
   "source": [
    "model = Pika(config)\n",
    "config[\"model\"]"
   ],
   "metadata": {
    "collapsed": false
   }
  },
  {
   "cell_type": "code",
   "execution_count": 4,
   "outputs": [
    {
     "name": "stderr",
     "output_type": "stream",
     "text": [
      "\u001B[32m2024-02-21 10:25:24.339\u001B[0m | \u001B[1mINFO    \u001B[0m | \u001B[36mpika.datamodule.pika_torch_datasets\u001B[0m:\u001B[36m__init__\u001B[0m:\u001B[36m128\u001B[0m - \u001B[1mpreparing test dataset for taxonomy\u001B[0m\n",
      "\u001B[32m2024-02-21 10:25:24.341\u001B[0m | \u001B[1mINFO    \u001B[0m | \u001B[36mpika.datamodule.pika_torch_datasets\u001B[0m:\u001B[36m__init__\u001B[0m:\u001B[36m128\u001B[0m - \u001B[1mpreparing test dataset for catalytic activity\u001B[0m\n"
     ]
    },
    {
     "data": {
      "text/plain": "Testing: |          | 0/? [00:00<?, ?it/s]",
      "application/vnd.jupyter.widget-view+json": {
       "version_major": 2,
       "version_minor": 0,
       "model_id": "7f507bfb56d04e4cb7af060c54ab9ade"
      }
     },
     "metadata": {},
     "output_type": "display_data"
    },
    {
     "data": {
      "text/plain": "   uniprot_id             subject  \\\n0  A0A068BGA5            taxonomy   \n1  A0A075TMP8            taxonomy   \n2  A0A068BGA5  catalytic activity   \n3  A0A075TMP8  catalytic activity   \n\n                                     expected_answer  \\\n0             Eukaryota, Viridiplantae, Streptophyta   \n1                          Eukaryota, Fungi, Dikarya   \n2   benzoyl-CoA + ethanol = CoA + ethyl benzoate,...   \n3   3-hydroxybenzyl alcohol + O2 + reduced [NADPH...   \n\n                                  generated_response  \n0   This protein belongs to the Eukaryota domain,...  \n1   This protein belongs to the Eukaryota domain,...  \n2   The protein catalyzes the conversion of acety...  \n3   The protein catalyzes the conversion of heme ...  ",
      "text/html": "<div>\n<style scoped>\n    .dataframe tbody tr th:only-of-type {\n        vertical-align: middle;\n    }\n\n    .dataframe tbody tr th {\n        vertical-align: top;\n    }\n\n    .dataframe thead th {\n        text-align: right;\n    }\n</style>\n<table border=\"1\" class=\"dataframe\">\n  <thead>\n    <tr style=\"text-align: right;\">\n      <th></th>\n      <th>uniprot_id</th>\n      <th>subject</th>\n      <th>expected_answer</th>\n      <th>generated_response</th>\n    </tr>\n  </thead>\n  <tbody>\n    <tr>\n      <th>0</th>\n      <td>A0A068BGA5</td>\n      <td>taxonomy</td>\n      <td>Eukaryota, Viridiplantae, Streptophyta</td>\n      <td>This protein belongs to the Eukaryota domain,...</td>\n    </tr>\n    <tr>\n      <th>1</th>\n      <td>A0A075TMP8</td>\n      <td>taxonomy</td>\n      <td>Eukaryota, Fungi, Dikarya</td>\n      <td>This protein belongs to the Eukaryota domain,...</td>\n    </tr>\n    <tr>\n      <th>2</th>\n      <td>A0A068BGA5</td>\n      <td>catalytic activity</td>\n      <td>benzoyl-CoA + ethanol = CoA + ethyl benzoate,...</td>\n      <td>The protein catalyzes the conversion of acety...</td>\n    </tr>\n    <tr>\n      <th>3</th>\n      <td>A0A075TMP8</td>\n      <td>catalytic activity</td>\n      <td>3-hydroxybenzyl alcohol + O2 + reduced [NADPH...</td>\n      <td>The protein catalyzes the conversion of heme ...</td>\n    </tr>\n  </tbody>\n</table>\n</div>"
     },
     "execution_count": 4,
     "metadata": {},
     "output_type": "execute_result"
    }
   ],
   "source": [
    "model.biochem_react_benchmark()"
   ],
   "metadata": {
    "collapsed": false
   }
  },
  {
   "cell_type": "code",
   "execution_count": 4,
   "outputs": [],
   "source": [],
   "metadata": {
    "collapsed": false
   }
  }
 ],
 "metadata": {
  "kernelspec": {
   "display_name": "Python 3",
   "language": "python",
   "name": "python3"
  },
  "language_info": {
   "codemirror_mode": {
    "name": "ipython",
    "version": 2
   },
   "file_extension": ".py",
   "mimetype": "text/x-python",
   "name": "python",
   "nbconvert_exporter": "python",
   "pygments_lexer": "ipython2",
   "version": "2.7.6"
  }
 },
 "nbformat": 4,
 "nbformat_minor": 0
}
