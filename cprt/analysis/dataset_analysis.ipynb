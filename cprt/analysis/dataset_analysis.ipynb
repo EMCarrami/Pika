{
 "cells": [
  {
   "cell_type": "code",
   "execution_count": 1,
   "metadata": {
    "collapsed": true
   },
   "outputs": [],
   "source": [
    "import pickle\n",
    "from tqdm import tqdm\n",
    "import matplotlib.pyplot as plt\n",
    "from typing import List\n",
    "import matplotlib as mpl\n",
    "from transformers import AutoTokenizer\n",
    "from collections import defaultdict\n",
    "text_tokenizer = AutoTokenizer.from_pretrained('gpt2')"
   ]
  },
  {
   "cell_type": "code",
   "execution_count": 101,
   "outputs": [],
   "source": [
    "def plot_dist(ax1, data: List[int], n_bins: int, xlim: int, xlab: str = \"\", ylab: str = \"\"):\n",
    "    count, bins, _ = ax1.hist(data, n_bins, edgecolor='white')\n",
    "    ax1.set_yscale('log')\n",
    "    ax1.set_xlabel(xlab, fontsize=14)\n",
    "    if ylab:\n",
    "        ax1.set_ylabel(ylab, fontsize=15)\n",
    "        ax1.tick_params(axis='y', left=True)\n",
    "    else:\n",
    "        ax1.set_yticks([])\n",
    "        ax1.tick_params(axis='y', which='both', length=0)\n",
    "    ax1.set_xlim([0, xlim])\n",
    "    # x = np.linspace(-2, max(data) + 5)\n",
    "    # ax2 = ax1.twinx()\n",
    "    # h = np.log1p(count)\n",
    "    # resamples = np.random.choice((bins[:-1] + bins[1:])/2, size=5000, p=h/h.sum())\n",
    "    # rkde = gaussian_kde(resamples)\n",
    "    # ax2.plot(x, rkde.pdf(x), c='r', lw=2)\n",
    "    # ax2.set_yticks([])\n",
    "\n",
    "\n",
    "def plot_frequency_bars(ax, frequency_dict, xlab: str = \"\", ylab: str = \"\"):\n",
    "    \"\"\"\n",
    "    Plots bar charts where each bar represents a list of frequencies.\n",
    "    Sections of each bar are colored differently if the value is larger than 0.01; others are grey.\n",
    "\n",
    "    :param frequency_lists: A list of lists, where each inner list contains frequency values summing to 1.\n",
    "    \"\"\"\n",
    "    frequency_lists = []\n",
    "    text_list = []\n",
    "    for k in tqdm(frequency_dict):\n",
    "        _q, _c = zip(*sorted(tuple(frequency_dict[k].items()), key=lambda x: x[1], reverse=True))\n",
    "        frequency_lists.append([i/sum(_c) for i in _c])\n",
    "        text_list.append(_q)\n",
    "    n_bars = len(frequency_lists)\n",
    "    bar_width = 0.8\n",
    "\n",
    "    for i, (frequencies, texts) in tqdm(enumerate(zip(frequency_lists, text_list))):\n",
    "        bottom = 0\n",
    "        for freq, text in zip(frequencies, texts):\n",
    "            if freq > 0.001:\n",
    "                size_lim = 4\n",
    "                if 'w' in text or 'd' in text:\n",
    "                    size_lim -= 1\n",
    "                ax.bar(i, freq, bottom=bottom, width=bar_width, edgecolor='white')\n",
    "                rot = 'horizontal'\n",
    "                if freq > 0.06:\n",
    "                    if len(text) > size_lim:\n",
    "                        if freq > len(text) * 0.02:\n",
    "                            rot = 'vertical'\n",
    "                        else:\n",
    "                            text = f\"{text[:size_lim-1]}.\"\n",
    "                    ax.text(i, bottom + freq / 2, text, ha='center', va='center', rotation=rot)\n",
    "                bottom += freq\n",
    "\n",
    "    ax.set_xticks(range(n_bars))\n",
    "    ax.set_xticklabels([f'{i+1}' for i in range(n_bars)])\n",
    "    if ylab:\n",
    "        ax.set_ylabel(ylab, fontsize=15)\n",
    "        ax.tick_params(axis='y', left=True)\n",
    "    else:\n",
    "        ax.set_yticks([])\n",
    "        ax.tick_params(axis='y', which='both', length=0)\n",
    "    ax.set_xlabel(xlab, fontsize=14)"
   ],
   "metadata": {
    "collapsed": false
   }
  },
  {
   "cell_type": "code",
   "execution_count": 102,
   "outputs": [],
   "source": [
    "def six_plots(dists, bars):\n",
    "    fig_width = 16\n",
    "\n",
    "    mpl.rcParams['font.family'] = 'Times New Roman'\n",
    "    mpl.rcParams['font.size'] = 12\n",
    "\n",
    "    fig, axs = plt.subplots(1, 6, figsize=(fig_width, 3.5))\n",
    "\n",
    "\n",
    "    xlabs = ['# tokens in summary', '# tokens in question', '# tokens in answer',\n",
    "             'position in summary', 'position in question', 'position in answer']\n",
    "    ylabs = ['Count', '', '', 'Frequency', '', '']\n",
    "    xlims = [600, 200, 750]\n",
    "\n",
    "    for i in range(3):\n",
    "        plot_dist(axs[i], dists[i], 20, xlims[i], xlabs[i], ylabs[i])\n",
    "\n",
    "    for i in range(3, 6):\n",
    "        plot_frequency_bars(axs[i], bars[i - 3], xlabs[i], ylabs[i])\n",
    "\n",
    "    for i, ax in enumerate(axs):\n",
    "        ax.set_facecolor('white')\n",
    "        ax.spines['right'].set_color('none')\n",
    "        ax.spines['top'].set_color('none')\n",
    "        ax.spines['left'].set_color('black')\n",
    "        ax.spines['bottom'].set_color('black')\n",
    "        ax.tick_params(axis='x', bottom=True)\n",
    "        panel_label = 'a' if i == 0 else 'b' if i == 3 else \"\"\n",
    "        if panel_label:\n",
    "            ax.text(\n",
    "                -0.25, 1.05, panel_label, transform=ax.transAxes, fontsize=18, fontweight='bold', va='top', ha='right'\n",
    "            )\n",
    "\n",
    "    plt.tight_layout()\n",
    "    plt.subplots_adjust(wspace=0.12)\n",
    "\n",
    "    # Adjust the positions of the subplots\n",
    "    gap = 0.005  # Gap between the 3rd and 4th plot\n",
    "    for i, ax in enumerate(axs):\n",
    "        pos = ax.get_position()\n",
    "        if i >= 3:\n",
    "            g = gap * ((5-i) % 3)\n",
    "            ax.set_position([pos.x0 + g, pos.y0, pos.width, pos.height])\n",
    "        else:\n",
    "            g = gap * (i % 3)\n",
    "            ax.set_position([pos.x0 - g, pos.y0, pos.width, pos.height])\n",
    "\n",
    "    plt.savefig('text_distN.png')\n"
   ],
   "metadata": {
    "collapsed": false
   }
  },
  {
   "cell_type": "code",
   "execution_count": 2,
   "outputs": [],
   "source": [
    "with open(\"../data/datasets/uniref50_gpt_data.pkl\", \"rb\") as f:\n",
    "    d = pickle.load(f)"
   ],
   "metadata": {
    "collapsed": false
   }
  },
  {
   "cell_type": "code",
   "execution_count": 3,
   "outputs": [
    {
     "name": "stderr",
     "output_type": "stream",
     "text": [
      "100%|██████████| 257167/257167 [00:02<00:00, 124076.26it/s]\n"
     ]
    }
   ],
   "source": [
    "summary, questions, answers = [], [], []\n",
    "for v in tqdm(d.values()):\n",
    "    summary += v['summary']\n",
    "    q, s = zip(*[i.split('?') for i in v['qa']])\n",
    "    questions += q\n",
    "    answers += s\n",
    "    for x in s:\n",
    "        if len(x.split()) == 0:\n",
    "            break"
   ],
   "metadata": {
    "collapsed": false
   }
  },
  {
   "cell_type": "code",
   "execution_count": 5,
   "outputs": [
    {
     "name": "stdout",
     "output_type": "stream",
     "text": [
      "summary 1333778 861100\n",
      "questions 1972052 97720\n",
      "answers 1972052 782919\n"
     ]
    }
   ],
   "source": [
    "for m, n in zip([summary, questions, answers], [\"summary\", \"questions\", \"answers\"]):\n",
    "    print(n, len(m), len(set(m)))"
   ],
   "metadata": {
    "collapsed": false
   }
  },
  {
   "cell_type": "code",
   "execution_count": 4,
   "outputs": [
    {
     "name": "stderr",
     "output_type": "stream",
     "text": [
      "100%|██████████| 1333778/1333778 [01:55<00:00, 11522.10it/s]\n"
     ]
    },
    {
     "name": "stdout",
     "output_type": "stream",
     "text": [
      "1333778\n"
     ]
    },
    {
     "name": "stderr",
     "output_type": "stream",
     "text": [
      "100%|██████████| 1972052/1972052 [01:42<00:00, 19297.63it/s]\n"
     ]
    },
    {
     "name": "stdout",
     "output_type": "stream",
     "text": [
      "1972052\n"
     ]
    },
    {
     "name": "stderr",
     "output_type": "stream",
     "text": [
      "100%|██████████| 1972052/1972052 [02:02<00:00, 16052.06it/s]"
     ]
    },
    {
     "name": "stdout",
     "output_type": "stream",
     "text": [
      "1972052\n"
     ]
    },
    {
     "name": "stderr",
     "output_type": "stream",
     "text": [
      "\n"
     ]
    }
   ],
   "source": [
    "at = [len(text_tokenizer(i)['input_ids']) for i in tqdm(summary)]\n",
    "print(len(at))\n",
    "bt = [len(text_tokenizer(i)['input_ids']) for i in tqdm(questions)]\n",
    "print(len(bt))\n",
    "ct = [len(text_tokenizer(i)['input_ids']) for i in tqdm(answers)]\n",
    "print(len(ct))"
   ],
   "metadata": {
    "collapsed": false
   }
  },
  {
   "cell_type": "code",
   "execution_count": 93,
   "outputs": [
    {
     "name": "stderr",
     "output_type": "stream",
     "text": [
      "100%|██████████| 1333778/1333778 [00:05<00:00, 256968.69it/s]\n",
      "100%|██████████| 1972052/1972052 [00:06<00:00, 326277.55it/s]\n",
      "100%|██████████| 1972052/1972052 [00:05<00:00, 373715.75it/s]\n"
     ]
    }
   ],
   "source": [
    "_bars = []\n",
    "for v in [summary, questions, answers]:\n",
    "    _dict = defaultdict(lambda: defaultdict(int))\n",
    "    clean_dict = defaultdict(lambda: defaultdict(int))\n",
    "    for i in tqdm(v):\n",
    "        for n,j in enumerate(i.split()[:5]):\n",
    "            j = j.lower()\n",
    "            if j != 'yes_real':\n",
    "                _dict[n+1][j] += 1\n",
    "    _bars.append(_dict)"
   ],
   "metadata": {
    "collapsed": false
   }
  },
  {
   "cell_type": "code",
   "execution_count": 112,
   "outputs": [],
   "source": [
    "with open(\"word_freqs.pkl\", \"wb\") as f:\n",
    "    pickle.dump([{k: dict(v) for k, v in i.items()} for i in _bars], f)\n",
    "with open(\"token_counts.pkl\", \"wb\") as f:\n",
    "    pickle.dump([at, bt, ct], f)"
   ],
   "metadata": {
    "collapsed": false
   }
  },
  {
   "cell_type": "code",
   "execution_count": null,
   "outputs": [],
   "source": [
    "with open(\"word_freqs.pkl\", \"rb\") as f:\n",
    "    bars = pickle.load(f)\n",
    "with open(\"token_counts.pkl\", \"rb\") as f:\n",
    "    counts = pickle.load(f)\n",
    "six_plots(counts, bars)"
   ],
   "metadata": {
    "collapsed": false
   }
  }
 ],
 "metadata": {
  "kernelspec": {
   "display_name": "Python 3",
   "language": "python",
   "name": "python3"
  },
  "language_info": {
   "codemirror_mode": {
    "name": "ipython",
    "version": 2
   },
   "file_extension": ".py",
   "mimetype": "text/x-python",
   "name": "python",
   "nbconvert_exporter": "python",
   "pygments_lexer": "ipython2",
   "version": "2.7.6"
  }
 },
 "nbformat": 4,
 "nbformat_minor": 0
}
