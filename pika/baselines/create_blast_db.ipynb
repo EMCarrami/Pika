{
 "cells": [
  {
   "cell_type": "code",
   "execution_count": 1,
   "metadata": {
    "collapsed": true
   },
   "outputs": [
    {
     "name": "stderr",
     "output_type": "stream",
     "text": [
      "/var/folders/nv/z1jxx0450bl2tkfsvqfvmzz00000gn/T/ipykernel_53460/2695128784.py:2: DeprecationWarning: \n",
      "Pyarrow will become a required dependency of pandas in the next major release of pandas (pandas 3.0),\n",
      "(to allow more performant data types, such as the Arrow string type, and better interoperability with other libraries)\n",
      "but was not found to be installed on your system.\n",
      "If this would cause problems for you,\n",
      "please provide us feedback at https://github.com/pandas-dev/pandas/issues/54466\n",
      "        \n",
      "  import pandas as pd\n"
     ]
    }
   ],
   "source": [
    "import pickle\n",
    "import pandas as pd\n",
    "from collections import defaultdict"
   ]
  },
  {
   "cell_type": "code",
   "execution_count": 8,
   "outputs": [],
   "source": [
    "with open(\"../../dataset/data_dict.pkl\", \"rb\") as f:\n",
    "    data_dict = pickle.load(f)"
   ],
   "metadata": {
    "collapsed": false
   }
  },
  {
   "cell_type": "code",
   "execution_count": 9,
   "outputs": [
    {
     "data": {
      "text/plain": "{'uniref_id': 'UniRef50_Q9HUN4',\n 'sequence': 'MRPLVATVDLTALRHNYLLAKQCAPQRKAFAVVKANAYGHGAPEAVTALREIADGFAVACLEEAEVIRGCAPEARILLLEGCFEPSEYLRAAELGLDIAVQDARQADWLLAADLARPLNVWLKLDSGMHRLGFSVDGLRECHARLKGAAQVGELNLISHFACADERGHALTETQLERYAELLELPFEHCSLANSAAVLTLPQAHMAWIRPGIMLYGATPFAELSARELGLKPVMTLTGALIAVRDVPVGESVGYGASWVAQRPSRIGTVSCGYADGYPRTAPSGTSVVIHGQRVPLAGRVSMDMLAVDLTDLPQAQLGDAVELWGAQMPIDELAQACGTIGYELLTKVTGRVPRRYIG',\n 'fields': ['catalytic activity: EC = 5.1.1.1, L-alanine = D-alanine',\n  \"cofactor: pyridoxal 5'-phosphate\",\n  'functional domains: alanine racemase activity, Alanine racemase, Alanine racemase C-terminal domain-like, PLP-binding barrel, pyridoxal phosphate binding',\n  'taxonomy: Bacteria, Pseudomonadota, Gammaproteobacteria',\n  'protein size: 358 aa, 38485 KDa'],\n 'summary': ['This protein is an alanine racemase enzyme found in various bacteria, specifically in the Pseudomonadota phylum of the Gammaproteobacteria class',\n  'It is composed of 358 amino acids with a molecular weight of 38,485 KDa',\n  'The protein exhibits a catalytic activity with an Enzyme Commission (EC) number of 5.1.1.1, where it converts L-alanine to D-alanine',\n  \"Its enzymatic function is facilitated by a cofactor known as pyridoxal 5'-phosphate\",\n  'The protein contains several functional domains, including the Alanine racemase activity domain, the Alanine racemase C-terminal domain-like, the PLP-binding barrel domain, and the pyridoxal phosphate binding domain.'],\n 'qa': ['What is the catalytic activity of this protein? The catalytic activity of this protein is the conversion of L-alanine to D-alanine.',\n  \"What is the cofactor associated with this protein? The cofactor associated with this protein is pyridoxal 5'-phosphate.\",\n  'Which phylum does this protein belong to? This protein belongs to the Pseudomonadota phylum.',\n  'What is the molecular weight of this protein? The molecular weight of this protein is 38,485 KDa.',\n  'How many amino acids are present in this protein? This protein is composed of 358 amino acids.',\n  'What are the functional domains of this protein? The functional domains of this protein include the Alanine racemase activity domain, the Alanine racemase C-terminal domain-like, the PLP-binding barrel domain, and the pyridoxal phosphate binding domain.',\n  'What class of bacteria is this protein found in? This protein is found in the Gammaproteobacteria class.',\n  'Can this protein act as an enzyme? Yes'],\n 'metrics': {'in_membrane': False,\n  'in_nucleus': False,\n  'in_mitochondria': False,\n  'DNA_binding': False,\n  'RNA_binding': False,\n  'nucleic_acid_binding': False,\n  'is_enzyme': True,\n  'cofactor': \"pyridoxal 5'-phosphate\",\n  'length': 358,\n  'mw': 38485}}"
     },
     "execution_count": 9,
     "metadata": {},
     "output_type": "execute_result"
    }
   ],
   "source": [
    "data_dict[\"A4VQM5\"]"
   ],
   "metadata": {
    "collapsed": false
   }
  },
  {
   "cell_type": "code",
   "execution_count": 2,
   "outputs": [],
   "source": [
    "d = pd.read_csv(\"../../test_results/qmqpl5l8_vague-silence-25_e2_s616244.tsv\", sep=\"\\t\")"
   ],
   "metadata": {
    "collapsed": false
   }
  },
  {
   "cell_type": "code",
   "execution_count": 4,
   "outputs": [],
   "source": [
    "alld = defaultdict(list)\n",
    "for _, r in d.iterrows():\n",
    "    if r.subject != \"taxonomy\":\n",
    "        alld[r.uniprot_id].append([r.expected_answer, r.generated_response])"
   ],
   "metadata": {
    "collapsed": false
   }
  },
  {
   "cell_type": "code",
   "execution_count": 7,
   "outputs": [
    {
     "data": {
      "text/plain": "('A4VQM5',\n [[' EC = 5.1.1.1, L-alanine = D-alanine',\n   ' This protein catalyzes the conversion of L-alanine to D-alanine.'],\n  [' alanine racemase activity, Alanine racemase, Alanine racemase C-terminal domain-like, PLP-binding barrel, pyridoxal phosphate binding',\n   ' The functional domains of this protein include the alanine racemase domain, Alanine racemase C-terminal domain-like, Alanine racemase, and PLP-binding barrel.'],\n  [\" pyridoxal 5'-phosphate\",\n   \" The cofactors of this protein are pyridoxal 5'-phosphate and magnesium ions.\"]])"
     },
     "execution_count": 7,
     "metadata": {},
     "output_type": "execute_result"
    }
   ],
   "source": [
    "next(iter({k: v for k, v in alld.items() if len(v)>2}.items()))"
   ],
   "metadata": {
    "collapsed": false
   }
  },
  {
   "cell_type": "code",
   "execution_count": 2,
   "outputs": [],
   "source": [
    "with open(\"../../dataset/data_dict.pkl\", \"rb\") as f:\n",
    "    data_dict = pickle.load(f)\n",
    "seq_dict = {k: v[\"sequence\"] for k, v in data_dict.items()}"
   ],
   "metadata": {
    "collapsed": false
   }
  },
  {
   "cell_type": "code",
   "execution_count": 13,
   "outputs": [
    {
     "data": {
      "text/plain": "       uniprot_id  protein_length        uniref_id  split\n0          A2YUL5             389  UniRef50_Q6Z256  train\n1          Q07646             335  UniRef50_Q07646   test\n2          A4WMD4             264  UniRef50_A4WMD4  train\n3          O07165             170  UniRef50_O07165  train\n4          Q3UV31             285  UniRef50_Q3UV31  train\n...           ...             ...              ...    ...\n252598     Q9NS28             235  UniRef50_Q9NS28  train\n252599     Q9TTU2             172  UniRef50_Q8VCP8  train\n252600     Q7TTW6             268  UniRef50_Q7V8W2  train\n252601     O00399             190  UniRef50_O00399  train\n252602     A8MRU6              92  UniRef50_A8MRU6  train\n\n[252603 rows x 4 columns]",
      "text/html": "<div>\n<style scoped>\n    .dataframe tbody tr th:only-of-type {\n        vertical-align: middle;\n    }\n\n    .dataframe tbody tr th {\n        vertical-align: top;\n    }\n\n    .dataframe thead th {\n        text-align: right;\n    }\n</style>\n<table border=\"1\" class=\"dataframe\">\n  <thead>\n    <tr style=\"text-align: right;\">\n      <th></th>\n      <th>uniprot_id</th>\n      <th>protein_length</th>\n      <th>uniref_id</th>\n      <th>split</th>\n    </tr>\n  </thead>\n  <tbody>\n    <tr>\n      <th>0</th>\n      <td>A2YUL5</td>\n      <td>389</td>\n      <td>UniRef50_Q6Z256</td>\n      <td>train</td>\n    </tr>\n    <tr>\n      <th>1</th>\n      <td>Q07646</td>\n      <td>335</td>\n      <td>UniRef50_Q07646</td>\n      <td>test</td>\n    </tr>\n    <tr>\n      <th>2</th>\n      <td>A4WMD4</td>\n      <td>264</td>\n      <td>UniRef50_A4WMD4</td>\n      <td>train</td>\n    </tr>\n    <tr>\n      <th>3</th>\n      <td>O07165</td>\n      <td>170</td>\n      <td>UniRef50_O07165</td>\n      <td>train</td>\n    </tr>\n    <tr>\n      <th>4</th>\n      <td>Q3UV31</td>\n      <td>285</td>\n      <td>UniRef50_Q3UV31</td>\n      <td>train</td>\n    </tr>\n    <tr>\n      <th>...</th>\n      <td>...</td>\n      <td>...</td>\n      <td>...</td>\n      <td>...</td>\n    </tr>\n    <tr>\n      <th>252598</th>\n      <td>Q9NS28</td>\n      <td>235</td>\n      <td>UniRef50_Q9NS28</td>\n      <td>train</td>\n    </tr>\n    <tr>\n      <th>252599</th>\n      <td>Q9TTU2</td>\n      <td>172</td>\n      <td>UniRef50_Q8VCP8</td>\n      <td>train</td>\n    </tr>\n    <tr>\n      <th>252600</th>\n      <td>Q7TTW6</td>\n      <td>268</td>\n      <td>UniRef50_Q7V8W2</td>\n      <td>train</td>\n    </tr>\n    <tr>\n      <th>252601</th>\n      <td>O00399</td>\n      <td>190</td>\n      <td>UniRef50_O00399</td>\n      <td>train</td>\n    </tr>\n    <tr>\n      <th>252602</th>\n      <td>A8MRU6</td>\n      <td>92</td>\n      <td>UniRef50_A8MRU6</td>\n      <td>train</td>\n    </tr>\n  </tbody>\n</table>\n<p>252603 rows × 4 columns</p>\n</div>"
     },
     "execution_count": 13,
     "metadata": {},
     "output_type": "execute_result"
    }
   ],
   "source": [
    "split = pd.read_csv(\"../../dataset/split_0.csv\")\n",
    "split"
   ],
   "metadata": {
    "collapsed": false
   }
  },
  {
   "cell_type": "code",
   "execution_count": 7,
   "outputs": [],
   "source": [
    "def write_fasta(input_dict, file_name):\n",
    "    with open(file_name, 'w') as fasta_file:\n",
    "        for protein_id, sequence in input_dict.items():\n",
    "            fasta_file.write(f\">{protein_id}\\n\")\n",
    "            fasta_file.write(f\"{sequence}\\n\")"
   ],
   "metadata": {
    "collapsed": false
   }
  },
  {
   "cell_type": "code",
   "execution_count": null,
   "outputs": [],
   "source": [
    "write_fasta(seq_dict, \"Pika-DS.fa\")"
   ],
   "metadata": {
    "collapsed": false
   }
  },
  {
   "cell_type": "code",
   "execution_count": 15,
   "outputs": [],
   "source": [
    "write_fasta({k: seq_dict[k] for k in split[split.split==\"val\"][\"uniprot_id\"].to_list()}, \"../../dataset/split_0_val.fa\")\n",
    "write_fasta({k: seq_dict[k] for k in split[split.split==\"test\"][\"uniprot_id\"].to_list()}, \"../../dataset/split_0_test.fa\")"
   ],
   "metadata": {
    "collapsed": false
   }
  },
  {
   "cell_type": "code",
   "execution_count": 5,
   "outputs": [
    {
     "name": "stdout",
     "output_type": "stream",
     "text": [
      "zsh:1: command not found: makeblastdb\r\n"
     ]
    }
   ],
   "source": [
    "!makeblastdb -in Pika-DS.fa -dbtype prot -out blast_db/Pika_blast_db"
   ],
   "metadata": {
    "collapsed": false
   }
  },
  {
   "cell_type": "code",
   "execution_count": 49,
   "outputs": [
    {
     "data": {
      "text/plain": "              0       1     2\n0        Q07646  Q07646  1761\n1        Q07646  Q5EB52  1734\n2        Q07646  Q2HJM9  1716\n3        Q07646  P9WLR0   379\n4        Q07646  Q8PDW8   163\n...         ...     ...   ...\n3583975  Q4X1W0  A7M4E1    70\n3583976  Q4X1W0  O86776    69\n3583977  Q4X1W0  Q6FV34    69\n3583978  Q4X1W0  P37695    68\n3583979  Q4X1W0  A7TM79    69\n\n[3583980 rows x 3 columns]",
      "text/html": "<div>\n<style scoped>\n    .dataframe tbody tr th:only-of-type {\n        vertical-align: middle;\n    }\n\n    .dataframe tbody tr th {\n        vertical-align: top;\n    }\n\n    .dataframe thead th {\n        text-align: right;\n    }\n</style>\n<table border=\"1\" class=\"dataframe\">\n  <thead>\n    <tr style=\"text-align: right;\">\n      <th></th>\n      <th>0</th>\n      <th>1</th>\n      <th>2</th>\n    </tr>\n  </thead>\n  <tbody>\n    <tr>\n      <th>0</th>\n      <td>Q07646</td>\n      <td>Q07646</td>\n      <td>1761</td>\n    </tr>\n    <tr>\n      <th>1</th>\n      <td>Q07646</td>\n      <td>Q5EB52</td>\n      <td>1734</td>\n    </tr>\n    <tr>\n      <th>2</th>\n      <td>Q07646</td>\n      <td>Q2HJM9</td>\n      <td>1716</td>\n    </tr>\n    <tr>\n      <th>3</th>\n      <td>Q07646</td>\n      <td>P9WLR0</td>\n      <td>379</td>\n    </tr>\n    <tr>\n      <th>4</th>\n      <td>Q07646</td>\n      <td>Q8PDW8</td>\n      <td>163</td>\n    </tr>\n    <tr>\n      <th>...</th>\n      <td>...</td>\n      <td>...</td>\n      <td>...</td>\n    </tr>\n    <tr>\n      <th>3583975</th>\n      <td>Q4X1W0</td>\n      <td>A7M4E1</td>\n      <td>70</td>\n    </tr>\n    <tr>\n      <th>3583976</th>\n      <td>Q4X1W0</td>\n      <td>O86776</td>\n      <td>69</td>\n    </tr>\n    <tr>\n      <th>3583977</th>\n      <td>Q4X1W0</td>\n      <td>Q6FV34</td>\n      <td>69</td>\n    </tr>\n    <tr>\n      <th>3583978</th>\n      <td>Q4X1W0</td>\n      <td>P37695</td>\n      <td>68</td>\n    </tr>\n    <tr>\n      <th>3583979</th>\n      <td>Q4X1W0</td>\n      <td>A7TM79</td>\n      <td>69</td>\n    </tr>\n  </tbody>\n</table>\n<p>3583980 rows × 3 columns</p>\n</div>"
     },
     "execution_count": 49,
     "metadata": {},
     "output_type": "execute_result"
    }
   ],
   "source": [
    "hout = pd.read_csv(\"split_0_test_results.out\", sep=\"\\t\", header=None)\n",
    "hout"
   ],
   "metadata": {
    "collapsed": false
   }
  },
  {
   "cell_type": "code",
   "execution_count": 50,
   "outputs": [],
   "source": [
    "train_set = set(split[split.split==\"train\"][\"uniprot_id\"].to_list())"
   ],
   "metadata": {
    "collapsed": false
   }
  },
  {
   "cell_type": "code",
   "execution_count": 51,
   "outputs": [],
   "source": [
    "hmg, scores = defaultdict(list), defaultdict(list)\n",
    "for _, r in hout.iterrows():\n",
    "    if r[1] in train_set:\n",
    "        hmg[r[0]].append(r[1])\n",
    "        scores[r[0]].append(r[2])"
   ],
   "metadata": {
    "collapsed": false
   }
  },
  {
   "cell_type": "code",
   "execution_count": 52,
   "outputs": [],
   "source": [
    "for k in hmg:\n",
    "    hmg[k] = [x for x, _ in sorted(zip(hmg[k], scores[k]), key=lambda pair: pair[1], reverse=True)]\n",
    "    scores[k] = [x for x, _ in sorted(zip(scores[k], scores[k]), key=lambda pair: pair[1], reverse=True)]"
   ],
   "metadata": {
    "collapsed": false
   }
  },
  {
   "cell_type": "code",
   "execution_count": 53,
   "outputs": [],
   "source": [
    "for v in scores.values():\n",
    "    assert sorted(v, reverse=True) == v, f\"not sorted {v}\""
   ],
   "metadata": {
    "collapsed": false
   }
  },
  {
   "cell_type": "code",
   "execution_count": 31,
   "outputs": [],
   "source": [
    "assert sorted(next(iter(scores.values())), reverse=True) == next(iter(scores.values()))"
   ],
   "metadata": {
    "collapsed": false
   }
  },
  {
   "cell_type": "code",
   "execution_count": 54,
   "outputs": [],
   "source": [
    "out_path = \"../../dataset/split_homology_test_0.pkl\"\n",
    "with open(out_path, \"wb\") as f:\n",
    "    pickle.dump(hmg, f)"
   ],
   "metadata": {
    "collapsed": false
   }
  },
  {
   "cell_type": "code",
   "execution_count": 55,
   "outputs": [
    {
     "data": {
      "text/plain": "['Q8PDW8',\n 'P9WNH3',\n 'P9WNH2',\n 'P9WMS3',\n 'P64302',\n 'Q6Q3H0',\n 'P22643',\n 'P24640',\n 'P53750',\n 'Q02104',\n 'G5EDL5',\n 'P59336',\n 'Q9ZER0',\n 'O52866',\n 'Q01398',\n 'O22977',\n 'Q6NAM1',\n 'Q8U671',\n 'Q9A919',\n 'B8H3S9',\n 'P95276',\n 'I6YC03',\n 'Q700D5',\n 'P26174',\n 'Q8IUS5',\n 'Q9FN79',\n 'Q6IE26',\n 'Q0IIS3',\n 'P23133',\n 'Q98C03',\n 'Q9H6B9',\n 'Q55921',\n 'O22975',\n 'O05235',\n 'P34913',\n 'P19076',\n 'I6YGS0',\n 'P52278',\n 'Q1JU72',\n 'Q48MQ7',\n 'P59337',\n 'P22862',\n 'Q8LFX7',\n 'Q7SHI0',\n 'Q5FMT1',\n 'P9WNH5',\n 'P9WNH4',\n 'Q97UA2',\n 'O31581',\n 'Q3V1F8',\n 'P23974',\n 'Q9BUJ0',\n 'Q6GLL2',\n 'P07099',\n 'P34914',\n 'O80472',\n 'Q59093',\n 'O31158',\n 'O80474',\n 'Q6U6J0',\n 'Q0J0A4',\n 'C0ZKI1',\n 'P91143',\n 'H2KZ86',\n 'P46541',\n 'F4IMK4',\n 'P23106',\n 'Q15N09',\n 'D7SSD8',\n 'A0KF11',\n 'Q84JL7',\n 'P96084',\n 'Q10QA5',\n 'F4IMK2',\n 'Q7SY73',\n 'B7KWT4',\n 'P04068',\n 'Q25489',\n 'O80476',\n 'Q890D8',\n 'P07687',\n 'Q12385',\n 'F4JRA6',\n 'B5XXN3',\n 'Q0JG99',\n 'A2WYS7',\n 'P41667',\n 'Q8MZR6',\n 'Q9FW03',\n 'P79381',\n 'P27652',\n 'Q83WC8',\n 'O13629',\n 'Q9FVW3',\n 'Q9LVL9',\n 'Q988D4',\n 'P18139',\n 'Q0P9Y2',\n 'A6T799',\n 'Q6RYA0',\n 'Q04623',\n 'Q6MMY0']"
     },
     "execution_count": 55,
     "metadata": {},
     "output_type": "execute_result"
    }
   ],
   "source": [
    "next(iter(hmg.values()))"
   ],
   "metadata": {
    "collapsed": false
   }
  },
  {
   "cell_type": "code",
   "execution_count": 2,
   "outputs": [],
   "source": [
    "with open(\"evo_split_homology_test.pkl\", \"rb\") as f:\n",
    "    out = pickle.load(f)"
   ],
   "metadata": {
    "collapsed": false
   }
  },
  {
   "cell_type": "code",
   "execution_count": 4,
   "outputs": [
    {
     "data": {
      "text/plain": "('A0A068BGA5',\n ['Q3YRE3',\n  'Q5HAK8',\n  'Q84XW5',\n  'Q04207',\n  'Q87ZB2',\n  'Q8TE68',\n  'P14713',\n  'Q8MR37'])"
     },
     "execution_count": 4,
     "metadata": {},
     "output_type": "execute_result"
    }
   ],
   "source": [
    "next(iter(out.items()))"
   ],
   "metadata": {
    "collapsed": false
   }
  },
  {
   "cell_type": "code",
   "execution_count": 6,
   "outputs": [
    {
     "data": {
      "text/plain": "[('P0DQH4', ['F4J2K2']),\n ('P48181', ['Q65X71']),\n ('P49579', ['Q8KWT2']),\n ('P58367', ['C5E4T8']),\n ('P83451', ['Q14679']),\n ('Q29I93', ['Q99102']),\n ('Q2UBM1', ['Q6XZF7']),\n ('Q3MQ24', ['Q50787']),\n ('Q69UD7', ['Q5RFM9']),\n ('Q7CUX4', ['Q8TXX9'])]"
     },
     "execution_count": 6,
     "metadata": {},
     "output_type": "execute_result"
    }
   ],
   "source": [
    "sorted([(k, v) for k, v in out.items()], key=lambda x: len(x[1]))[:10]"
   ],
   "metadata": {
    "collapsed": false
   }
  },
  {
   "cell_type": "code",
   "execution_count": null,
   "outputs": [],
   "source": [],
   "metadata": {
    "collapsed": false
   }
  }
 ],
 "metadata": {
  "kernelspec": {
   "display_name": "Python 3",
   "language": "python",
   "name": "python3"
  },
  "language_info": {
   "codemirror_mode": {
    "name": "ipython",
    "version": 2
   },
   "file_extension": ".py",
   "mimetype": "text/x-python",
   "name": "python",
   "nbconvert_exporter": "python",
   "pygments_lexer": "ipython2",
   "version": "2.7.6"
  }
 },
 "nbformat": 4,
 "nbformat_minor": 0
}
