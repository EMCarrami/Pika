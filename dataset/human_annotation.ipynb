{
 "cells": [
  {
   "cell_type": "code",
   "execution_count": 1,
   "metadata": {
    "collapsed": true
   },
   "outputs": [],
   "source": [
    "import pickle\n",
    "import random\n",
    "from docx import Document"
   ]
  },
  {
   "cell_type": "code",
   "execution_count": 2,
   "outputs": [],
   "source": [
    "with open('data_dict.pkl', 'rb') as f:\n",
    "    d = pickle.load(f)"
   ],
   "metadata": {
    "collapsed": false
   }
  },
  {
   "cell_type": "code",
   "execution_count": 4,
   "outputs": [],
   "source": [
    "s = {k: v for k, v in d.items() if k in n[:1000]}"
   ],
   "metadata": {
    "collapsed": false
   }
  },
  {
   "cell_type": "code",
   "execution_count": 7,
   "outputs": [],
   "source": [
    "for k in s:\n",
    "    for _k in s[k]:\n",
    "        if _k == \"metrics\":\n",
    "            s[k][_k] = {i: j for i, j in s[k][_k].items() if '_binding' not in i}\n"
   ],
   "metadata": {
    "collapsed": false
   }
  },
  {
   "cell_type": "code",
   "execution_count": 9,
   "outputs": [],
   "source": [
    "with open('Pika_DS_sample.pkl', 'wb') as f:\n",
    "    pickle.dump(s, f)"
   ],
   "metadata": {
    "collapsed": false
   }
  },
  {
   "cell_type": "code",
   "execution_count": 3,
   "outputs": [
    {
     "data": {
      "text/plain": "['O07584',\n 'P0A3T2',\n 'Q8TNY4',\n 'Q92Z29',\n 'P19181',\n 'Q9FXB9',\n 'Q9SW75',\n 'Q2LXN0',\n 'Q2LGZ2',\n 'Q9PF89']"
     },
     "execution_count": 3,
     "metadata": {},
     "output_type": "execute_result"
    }
   ],
   "source": [
    "random.seed(7)\n",
    "n = list(d.keys())\n",
    "random.shuffle(n)\n",
    "n[:10]"
   ],
   "metadata": {
    "collapsed": false
   }
  },
  {
   "cell_type": "code",
   "execution_count": 4,
   "outputs": [],
   "source": [
    "final = []\n",
    "sc, qa, mt = 0, 0, 0\n",
    "for idx in n[:100]:\n",
    "    out = f\"FIELDS of {idx}\\n\"\n",
    "    _d = d[idx]\n",
    "    for i in _d['fields']:\n",
    "        out += f'{i}\\n'\n",
    "    out += '\\nSummary\\n'\n",
    "    for i in _d['summary']:\n",
    "        sc += 1\n",
    "        out += f'> {i}\\n'\n",
    "    out += '\\nQA\\n'\n",
    "    for i in _d['qa']:\n",
    "        qa += 1\n",
    "        out += f'> {i}\\n'\n",
    "    out += '\\nMETRICS\\n'\n",
    "    for k, v in _d['metrics'].items():\n",
    "        mt += 1\n",
    "        out += f'{k}: {v}\\n'\n",
    "    out += '\\n'\n",
    "    final.append(out)"
   ],
   "metadata": {
    "collapsed": false
   }
  },
  {
   "cell_type": "code",
   "execution_count": 5,
   "outputs": [],
   "source": [
    "# doc = Document()\n",
    "#\n",
    "# for i, text in enumerate(final):\n",
    "#     doc.add_paragraph(text)\n",
    "#     if i < len(final) - 1:\n",
    "#         doc.add_page_break()\n",
    "#\n",
    "# doc.save('final_annotate.docx')"
   ],
   "metadata": {
    "collapsed": false
   }
  },
  {
   "cell_type": "code",
   "execution_count": 6,
   "outputs": [
    {
     "name": "stdout",
     "output_type": "stream",
     "text": [
      "528 676 960\n"
     ]
    }
   ],
   "source": [
    "print(sc, qa, mt)"
   ],
   "metadata": {
    "collapsed": false
   }
  }
 ],
 "metadata": {
  "kernelspec": {
   "display_name": "Python 3",
   "language": "python",
   "name": "python3"
  },
  "language_info": {
   "codemirror_mode": {
    "name": "ipython",
    "version": 2
   },
   "file_extension": ".py",
   "mimetype": "text/x-python",
   "name": "python",
   "nbconvert_exporter": "python",
   "pygments_lexer": "ipython2",
   "version": "2.7.6"
  }
 },
 "nbformat": 4,
 "nbformat_minor": 0
}
