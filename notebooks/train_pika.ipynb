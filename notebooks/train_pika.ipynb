{
 "cells": [
  {
   "cell_type": "code",
   "execution_count": 1,
   "metadata": {
    "collapsed": true
   },
   "outputs": [],
   "source": [
    "from pika.main import Pika\n",
    "from pika.utils.helpers import load_config\n",
    "import warnings\n",
    "import logging\n",
    "\n",
    "warnings.filterwarnings(\"ignore\")\n",
    "logging.getLogger(\"transformers\").setLevel(logging.ERROR)"
   ]
  },
  {
   "cell_type": "code",
   "execution_count": 2,
   "outputs": [],
   "source": [
    "# prep config\n",
    "assets_path = \"../tests/assets/\"\n",
    "config = load_config(assets_path + \"sample_self_pika_config.json\")\n",
    "config[\"datamodule\"][\"data_dict_path\"] = assets_path + \"sample_data.pkl\"\n",
    "config[\"datamodule\"][\"split_path\"] = assets_path + \"sample_split.csv\""
   ],
   "metadata": {
    "collapsed": false
   }
  },
  {
   "cell_type": "code",
   "execution_count": 3,
   "outputs": [
    {
     "name": "stderr",
     "output_type": "stream",
     "text": [
      "Seed set to 7\n",
      "Using cache found in /Users/elicarrami/.cache/torch/hub/facebookresearch_esm_main\n",
      "\u001B[32m2024-02-16 00:07:51.509\u001B[0m | \u001B[1mINFO    \u001B[0m | \u001B[36mpika.datamodule.pika_datamodule\u001B[0m:\u001B[36m__init__\u001B[0m:\u001B[36m89\u001B[0m - \u001B[1mloading data from ../tests/assets/sample_data.pkl\u001B[0m\n",
      "\u001B[32m2024-02-16 00:07:51.512\u001B[0m | \u001B[1mINFO    \u001B[0m | \u001B[36mpika.datamodule.pika_datamodule\u001B[0m:\u001B[36m__init__\u001B[0m:\u001B[36m95\u001B[0m - \u001B[1mloading splits from ../tests/assets/sample_split.csv\u001B[0m\n",
      "\u001B[32m2024-02-16 00:07:51.521\u001B[0m | \u001B[1mINFO    \u001B[0m | \u001B[36mpika.datamodule.pika_datamodule\u001B[0m:\u001B[36m__init__\u001B[0m:\u001B[36m129\u001B[0m - \u001B[1mpreparing examples\u001B[0m\n",
      "\u001B[32m2024-02-16 00:07:51.522\u001B[0m | \u001B[1mINFO    \u001B[0m | \u001B[36mpika.datamodule.pika_torch_datasets\u001B[0m:\u001B[36m__init__\u001B[0m:\u001B[36m27\u001B[0m - \u001B[1mpreparing train dataset\u001B[0m\n",
      "\u001B[32m2024-02-16 00:07:51.525\u001B[0m | \u001B[1mINFO    \u001B[0m | \u001B[36mpika.datamodule.pika_torch_datasets\u001B[0m:\u001B[36m__init__\u001B[0m:\u001B[36m27\u001B[0m - \u001B[1mpreparing val dataset\u001B[0m\n",
      "\u001B[32m2024-02-16 00:07:51.530\u001B[0m | \u001B[1mINFO    \u001B[0m | \u001B[36mpika.datamodule.pika_torch_datasets\u001B[0m:\u001B[36m__init__\u001B[0m:\u001B[36m71\u001B[0m - \u001B[1mpreparing val metrics dataset\u001B[0m\n",
      "GPU available: False, used: False\n",
      "TPU available: False, using: 0 TPU cores\n",
      "IPU available: False, using: 0 IPUs\n",
      "HPU available: False, using: 0 HPUs\n",
      "`Trainer(limit_train_batches=1)` was configured so 1 batch per epoch will be used.\n",
      "`Trainer(limit_val_batches=1)` was configured so 1 batch will be used.\n",
      "`Trainer(limit_test_batches=1)` was configured so 1 batch will be used.\n",
      "\u001B[32m2024-02-16 00:07:51.760\u001B[0m | \u001B[1mINFO    \u001B[0m | \u001B[36mpika.main\u001B[0m:\u001B[36m__init__\u001B[0m:\u001B[36m92\u001B[0m - \u001B[1mwill save partial model checkpoints. Ensure this is intended.\u001B[0m\n",
      "\n",
      "  | Name             | Type               | Params\n",
      "--------------------------------------------------------\n",
      "0 | esm              | TruncatedESM2      | 7.4 M \n",
      "1 | pika_llm         | GPT2ForPika        | 127 M \n",
      "2 | train_perplexity | Perplexity         | 0     \n",
      "3 | val_perplexity   | Perplexity         | 0     \n",
      "4 | val_rouge_scores | ROUGEScore         | 0     \n",
      "5 | val_biochem      | BiochemLiteMetrics | 0     \n",
      "--------------------------------------------------------\n",
      "2.6 M     Trainable params\n",
      "131 M     Non-trainable params\n",
      "134 M     Total params\n",
      "537.871   Total estimated model params size (MB)\n"
     ]
    },
    {
     "data": {
      "text/plain": "Sanity Checking: |          | 0/? [00:00<?, ?it/s]",
      "application/vnd.jupyter.widget-view+json": {
       "version_major": 2,
       "version_minor": 0,
       "model_id": "c52d000cf45b468bac0b20a3123041ba"
      }
     },
     "metadata": {},
     "output_type": "display_data"
    },
    {
     "data": {
      "text/plain": "Training: |          | 0/? [00:00<?, ?it/s]",
      "application/vnd.jupyter.widget-view+json": {
       "version_major": 2,
       "version_minor": 0,
       "model_id": "4ff6b3829d254b77a40716dee07527e8"
      }
     },
     "metadata": {},
     "output_type": "display_data"
    },
    {
     "data": {
      "text/plain": "Validation: |          | 0/? [00:00<?, ?it/s]",
      "application/vnd.jupyter.widget-view+json": {
       "version_major": 2,
       "version_minor": 0,
       "model_id": "51ece4bcaa474e76b8cafab3fb252e87"
      }
     },
     "metadata": {},
     "output_type": "display_data"
    },
    {
     "name": "stderr",
     "output_type": "stream",
     "text": [
      "Epoch 0, global step 1: 'loss/val_loss' reached 6.42735 (best 6.42735), saving model to 'model_checkpoints/240216000751_self-pika_esm2_t6_8M_UR50D_gpt2_7_loss/epoch=0-step=1.ckpt' as top 1\n",
      "`Trainer.fit` stopped: `max_epochs=1` reached.\n"
     ]
    }
   ],
   "source": [
    "model = Pika(config)\n",
    "model.train()"
   ],
   "metadata": {
    "collapsed": false
   }
  },
  {
   "cell_type": "code",
   "execution_count": null,
   "outputs": [],
   "source": [],
   "metadata": {
    "collapsed": false
   }
  }
 ],
 "metadata": {
  "kernelspec": {
   "display_name": "Python 3",
   "language": "python",
   "name": "python3"
  },
  "language_info": {
   "codemirror_mode": {
    "name": "ipython",
    "version": 2
   },
   "file_extension": ".py",
   "mimetype": "text/x-python",
   "name": "python",
   "nbconvert_exporter": "python",
   "pygments_lexer": "ipython2",
   "version": "2.7.6"
  }
 },
 "nbformat": 4,
 "nbformat_minor": 0
}
