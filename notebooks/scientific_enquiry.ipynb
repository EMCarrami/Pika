{
 "cells": [
  {
   "cell_type": "code",
   "execution_count": 1,
   "metadata": {
    "collapsed": true
   },
   "outputs": [],
   "source": [
    "from pika.main import Pika\n",
    "from pika.utils.helpers import load_config\n",
    "import warnings\n",
    "import logging\n",
    "\n",
    "warnings.filterwarnings(\"ignore\")\n",
    "logging.getLogger(\"transformers\").setLevel(logging.ERROR)"
   ]
  },
  {
   "cell_type": "code",
   "execution_count": 2,
   "outputs": [],
   "source": [
    "# prep config\n",
    "assets_path = \"../tests/assets/\"\n",
    "config = load_config(assets_path + \"sample_self_pika_config.json\")\n",
    "config[\"model\"][\"checkpoint\"] = \"../model_checkpoints/self_pika_gpt2m_esm2m.ckpt\""
   ],
   "metadata": {
    "collapsed": false
   }
  },
  {
   "cell_type": "code",
   "execution_count": 3,
   "outputs": [
    {
     "name": "stderr",
     "output_type": "stream",
     "text": [
      "Seed set to 7\n",
      "Using cache found in /Users/elicarrami/.cache/torch/hub/facebookresearch_esm_main\n",
      "\u001B[32m2024-02-21 10:23:55.478\u001B[0m | \u001B[1mINFO    \u001B[0m | \u001B[36mpika.utils.checkpoint_utils\u001B[0m:\u001B[36mload_from_checkpoint\u001B[0m:\u001B[36m38\u001B[0m - \u001B[1mpartial model loaded from checkpoint at ../model_checkpoints/self_pika_gpt2m_esm2m.ckpt\u001B[0m\n",
      "\u001B[32m2024-02-21 10:23:55.479\u001B[0m | \u001B[1mINFO    \u001B[0m | \u001B[36mpika.main\u001B[0m:\u001B[36m__init__\u001B[0m:\u001B[36m45\u001B[0m - \u001B[1minference only module. Can only be used with the 'enquire' method\u001B[0m\n"
     ]
    }
   ],
   "source": [
    "model = Pika(config, inference_only=True)"
   ],
   "metadata": {
    "collapsed": false
   }
  },
  {
   "cell_type": "code",
   "execution_count": 4,
   "outputs": [
    {
     "name": "stderr",
     "output_type": "stream",
     "text": [
      "\u001B[32m2024-02-21 10:23:55.483\u001B[0m | \u001B[1mINFO    \u001B[0m | \u001B[36mpika.main\u001B[0m:\u001B[36menquire\u001B[0m:\u001B[36m168\u001B[0m - \u001B[1musing datamodule's placeholder <protein sequence placeholder> \u001B[0m\n"
     ]
    },
    {
     "data": {
      "text/plain": "[' The enzyme catalyzes the conversion of 3-phospho-D-glucose, NAD(+) and phosphate into H(+), H']"
     },
     "execution_count": 4,
     "metadata": {},
     "output_type": "execute_result"
    }
   ],
   "source": [
    "model.enquire(\n",
    "    proteins=\"MGKVKVGVNGFGRIGRLVTRAAFNSGKVDIVAINDPFIDLNYMVYMFQYDSTHGKFHGTVKAENGKLVINGNPITIFQERDPSKIKWGDAGAEYVVESTGVFTTMEKAGAHLQGGAKRVIISAPSADAPMFVMGVNHEKYDNSLKIISNASCTTNCLAPLAKVIHDNFGIVEGLMTTVHAITATQKTVDGPSGKLWRDGRGALQNIIPASTGAAKAVGKVIPELNGKLTGMAFRVPTANVSVVDLTCRLEKPAKYDDIKKVVKQASEGPLKGILGYTEHQVVSSDFNSDTHSSTFDAGAGIALNDHFVKLISWYDNEFGYSNRVVDLMAHMASKE\",\n",
    "    question=\"What chemical reaction does this enzyme catalyze?\"\n",
    ")"
   ],
   "metadata": {
    "collapsed": false
   }
  },
  {
   "cell_type": "code",
   "execution_count": null,
   "outputs": [],
   "source": [],
   "metadata": {
    "collapsed": false
   }
  }
 ],
 "metadata": {
  "kernelspec": {
   "display_name": "Python 3",
   "language": "python",
   "name": "python3"
  },
  "language_info": {
   "codemirror_mode": {
    "name": "ipython",
    "version": 2
   },
   "file_extension": ".py",
   "mimetype": "text/x-python",
   "name": "python",
   "nbconvert_exporter": "python",
   "pygments_lexer": "ipython2",
   "version": "2.7.6"
  }
 },
 "nbformat": 4,
 "nbformat_minor": 0
}
