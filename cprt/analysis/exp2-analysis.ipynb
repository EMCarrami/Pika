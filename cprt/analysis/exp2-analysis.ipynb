{
 "cells": [
  {
   "cell_type": "code",
   "execution_count": 1,
   "metadata": {
    "collapsed": true
   },
   "outputs": [],
   "source": [
    "import seaborn as sns\n",
    "import matplotlib.pyplot as plt\n",
    "import pandas as pd\n",
    "from analysis_utils import get_run_data, process_run_data, add_significance_marks, METRICS, aggregate_metrics, metrics_modes, metrics_names\n",
    "metric_groups = METRICS[\"metric_groups\"]"
   ]
  },
  {
   "cell_type": "code",
   "execution_count": 2,
   "outputs": [],
   "source": [
    "data, config = get_run_data(\"eli-carrami/Cprt-Paper-Exp-2\")\n",
    "best_basis = \"biochem/val_localization_f1\"\n",
    "out = []\n",
    "for d, c in zip(data, config):\n",
    "    if len(d) > 0:\n",
    "        if best_basis:\n",
    "            h = d.iloc[d[best_basis].idxmax()].copy()\n",
    "        else:\n",
    "            d = d[d.epoch == 0]\n",
    "            h = d.iloc[-1].copy()\n",
    "        h['esm'] = c['model']['value']['protein_model']\n",
    "        h['llm'] = c['model']['value']['language_model']\n",
    "        h['strategy'] = c['model']['value']['multimodal_strategy']\n",
    "        h['layers'] = c['model']['value']['multimodal_layers']\n",
    "        h['split'] = c['datamodule']['value']['split_ratios']\n",
    "        h['subsample'] = c['datamodule']['value']['subsample_data']\n",
    "        h['fields'] = c['datamodule']['value']['data_field_names']\n",
    "        h['seed'] = c['seed']['value']\n",
    "        out.append(h)"
   ],
   "metadata": {
    "collapsed": false
   }
  },
  {
   "cell_type": "code",
   "execution_count": 3,
   "outputs": [
    {
     "data": {
      "text/plain": "    trainer/global_step  epoch  loss/val_loss  biochem/val_cofactor  \\\n5              224084.0    0.0       1.087606              0.426087   \n3               89721.0    0.0       1.204092              0.380952   \n4              179267.0    0.0       1.075419              0.360870   \n2               89721.0    0.0       1.117515              0.212121   \n0              134450.0    0.0       0.902861              0.547826   \n1              224304.0    0.0       0.911543              0.380952   \n12              89683.0    0.0       0.707736              0.494382   \n16             156855.0    0.0       0.673837              0.565217   \n8              179443.0    0.0       0.669927              0.571429   \n\n    biochem/val_in_nucleus_f1  biochem/val_in_membrane_f1  \\\n5                    0.151601                    0.227038   \n3                    0.312457                    0.396514   \n4                    0.148184                    0.270733   \n2                    0.139503                    0.216803   \n0                    0.125315                    0.193948   \n1                    0.131052                    0.206936   \n12                   0.675456                    0.276433   \n16                   0.710948                    0.342321   \n8                    0.622256                    0.275575   \n\n    biochem/val_in_mitochondria_f1  biochem/val_is_enzyme_f1  \\\n5                         0.071920                  0.889134   \n3                         0.325027                  0.871486   \n4                         0.273378                  0.890481   \n2                         0.075927                  0.873891   \n0                         0.047826                  0.885853   \n1                         0.051657                  0.872637   \n12                        0.383909                  0.904741   \n16                        0.367271                  0.886274   \n8                         0.283083                  0.882068   \n\n    biochem/val_is_enzyme_hard_f1  biochem/val_is_fake_f1  ...  \\\n5                        0.889193                0.011772  ...   \n3                        0.877093                0.013587  ...   \n4                        0.891329                0.011023  ...   \n2                        0.871283                0.035074  ...   \n0                        0.888213                0.021816  ...   \n1                        0.876828                0.015115  ...   \n12                       0.905538                0.315818  ...   \n16                       0.889479                0.980991  ...   \n8                        0.884491                0.670673  ...   \n\n    metrics/val_perplexity                  esm              llm     strategy  \\\n5                 2.980547  esm2_t33_650M_UR50D             gpt2  soft-prompt   \n3                 3.359453  esm2_t33_650M_UR50D             gpt2  soft-prompt   \n4                 2.943372  esm2_t33_650M_UR50D      gpt2-medium  soft-prompt   \n2                 3.077381  esm2_t33_650M_UR50D      gpt2-medium  soft-prompt   \n0                 2.473285  esm2_t33_650M_UR50D          gpt2-xl  soft-prompt   \n1                 2.498868  esm2_t33_650M_UR50D          gpt2-xl  soft-prompt   \n12                2.031271  esm2_t33_650M_UR50D  microsoft/phi-2  soft-prompt   \n16                1.962734  esm2_t33_650M_UR50D  microsoft/phi-2  soft-prompt   \n8                 1.955870  esm2_t33_650M_UR50D  microsoft/phi-2  soft-prompt   \n\n    layers                 split  subsample  fields  seed  avg_binary_loc_f1  \n5      [0]  [0.945, 0.005, 0.05]          1      qa     7           0.150186  \n3      [0]  [0.945, 0.005, 0.05]          1      qa    42           0.344666  \n4      [0]  [0.945, 0.005, 0.05]          1      qa     7           0.230765  \n2      [0]  [0.945, 0.005, 0.05]          1      qa    42           0.144077  \n0      [0]  [0.945, 0.005, 0.05]          1      qa     7           0.122363  \n1      [0]  [0.945, 0.005, 0.05]          1      qa    42           0.129882  \n12     [0]  [0.945, 0.005, 0.05]          1      qa     0           0.445266  \n16     [0]  [0.945, 0.005, 0.05]          1      qa     7           0.473513  \n8      [0]  [0.945, 0.005, 0.05]          1      qa    42           0.393638  \n\n[9 rows x 36 columns]",
      "text/html": "<div>\n<style scoped>\n    .dataframe tbody tr th:only-of-type {\n        vertical-align: middle;\n    }\n\n    .dataframe tbody tr th {\n        vertical-align: top;\n    }\n\n    .dataframe thead th {\n        text-align: right;\n    }\n</style>\n<table border=\"1\" class=\"dataframe\">\n  <thead>\n    <tr style=\"text-align: right;\">\n      <th></th>\n      <th>trainer/global_step</th>\n      <th>epoch</th>\n      <th>loss/val_loss</th>\n      <th>biochem/val_cofactor</th>\n      <th>biochem/val_in_nucleus_f1</th>\n      <th>biochem/val_in_membrane_f1</th>\n      <th>biochem/val_in_mitochondria_f1</th>\n      <th>biochem/val_is_enzyme_f1</th>\n      <th>biochem/val_is_enzyme_hard_f1</th>\n      <th>biochem/val_is_fake_f1</th>\n      <th>...</th>\n      <th>metrics/val_perplexity</th>\n      <th>esm</th>\n      <th>llm</th>\n      <th>strategy</th>\n      <th>layers</th>\n      <th>split</th>\n      <th>subsample</th>\n      <th>fields</th>\n      <th>seed</th>\n      <th>avg_binary_loc_f1</th>\n    </tr>\n  </thead>\n  <tbody>\n    <tr>\n      <th>5</th>\n      <td>224084.0</td>\n      <td>0.0</td>\n      <td>1.087606</td>\n      <td>0.426087</td>\n      <td>0.151601</td>\n      <td>0.227038</td>\n      <td>0.071920</td>\n      <td>0.889134</td>\n      <td>0.889193</td>\n      <td>0.011772</td>\n      <td>...</td>\n      <td>2.980547</td>\n      <td>esm2_t33_650M_UR50D</td>\n      <td>gpt2</td>\n      <td>soft-prompt</td>\n      <td>[0]</td>\n      <td>[0.945, 0.005, 0.05]</td>\n      <td>1</td>\n      <td>qa</td>\n      <td>7</td>\n      <td>0.150186</td>\n    </tr>\n    <tr>\n      <th>3</th>\n      <td>89721.0</td>\n      <td>0.0</td>\n      <td>1.204092</td>\n      <td>0.380952</td>\n      <td>0.312457</td>\n      <td>0.396514</td>\n      <td>0.325027</td>\n      <td>0.871486</td>\n      <td>0.877093</td>\n      <td>0.013587</td>\n      <td>...</td>\n      <td>3.359453</td>\n      <td>esm2_t33_650M_UR50D</td>\n      <td>gpt2</td>\n      <td>soft-prompt</td>\n      <td>[0]</td>\n      <td>[0.945, 0.005, 0.05]</td>\n      <td>1</td>\n      <td>qa</td>\n      <td>42</td>\n      <td>0.344666</td>\n    </tr>\n    <tr>\n      <th>4</th>\n      <td>179267.0</td>\n      <td>0.0</td>\n      <td>1.075419</td>\n      <td>0.360870</td>\n      <td>0.148184</td>\n      <td>0.270733</td>\n      <td>0.273378</td>\n      <td>0.890481</td>\n      <td>0.891329</td>\n      <td>0.011023</td>\n      <td>...</td>\n      <td>2.943372</td>\n      <td>esm2_t33_650M_UR50D</td>\n      <td>gpt2-medium</td>\n      <td>soft-prompt</td>\n      <td>[0]</td>\n      <td>[0.945, 0.005, 0.05]</td>\n      <td>1</td>\n      <td>qa</td>\n      <td>7</td>\n      <td>0.230765</td>\n    </tr>\n    <tr>\n      <th>2</th>\n      <td>89721.0</td>\n      <td>0.0</td>\n      <td>1.117515</td>\n      <td>0.212121</td>\n      <td>0.139503</td>\n      <td>0.216803</td>\n      <td>0.075927</td>\n      <td>0.873891</td>\n      <td>0.871283</td>\n      <td>0.035074</td>\n      <td>...</td>\n      <td>3.077381</td>\n      <td>esm2_t33_650M_UR50D</td>\n      <td>gpt2-medium</td>\n      <td>soft-prompt</td>\n      <td>[0]</td>\n      <td>[0.945, 0.005, 0.05]</td>\n      <td>1</td>\n      <td>qa</td>\n      <td>42</td>\n      <td>0.144077</td>\n    </tr>\n    <tr>\n      <th>0</th>\n      <td>134450.0</td>\n      <td>0.0</td>\n      <td>0.902861</td>\n      <td>0.547826</td>\n      <td>0.125315</td>\n      <td>0.193948</td>\n      <td>0.047826</td>\n      <td>0.885853</td>\n      <td>0.888213</td>\n      <td>0.021816</td>\n      <td>...</td>\n      <td>2.473285</td>\n      <td>esm2_t33_650M_UR50D</td>\n      <td>gpt2-xl</td>\n      <td>soft-prompt</td>\n      <td>[0]</td>\n      <td>[0.945, 0.005, 0.05]</td>\n      <td>1</td>\n      <td>qa</td>\n      <td>7</td>\n      <td>0.122363</td>\n    </tr>\n    <tr>\n      <th>1</th>\n      <td>224304.0</td>\n      <td>0.0</td>\n      <td>0.911543</td>\n      <td>0.380952</td>\n      <td>0.131052</td>\n      <td>0.206936</td>\n      <td>0.051657</td>\n      <td>0.872637</td>\n      <td>0.876828</td>\n      <td>0.015115</td>\n      <td>...</td>\n      <td>2.498868</td>\n      <td>esm2_t33_650M_UR50D</td>\n      <td>gpt2-xl</td>\n      <td>soft-prompt</td>\n      <td>[0]</td>\n      <td>[0.945, 0.005, 0.05]</td>\n      <td>1</td>\n      <td>qa</td>\n      <td>42</td>\n      <td>0.129882</td>\n    </tr>\n    <tr>\n      <th>12</th>\n      <td>89683.0</td>\n      <td>0.0</td>\n      <td>0.707736</td>\n      <td>0.494382</td>\n      <td>0.675456</td>\n      <td>0.276433</td>\n      <td>0.383909</td>\n      <td>0.904741</td>\n      <td>0.905538</td>\n      <td>0.315818</td>\n      <td>...</td>\n      <td>2.031271</td>\n      <td>esm2_t33_650M_UR50D</td>\n      <td>microsoft/phi-2</td>\n      <td>soft-prompt</td>\n      <td>[0]</td>\n      <td>[0.945, 0.005, 0.05]</td>\n      <td>1</td>\n      <td>qa</td>\n      <td>0</td>\n      <td>0.445266</td>\n    </tr>\n    <tr>\n      <th>16</th>\n      <td>156855.0</td>\n      <td>0.0</td>\n      <td>0.673837</td>\n      <td>0.565217</td>\n      <td>0.710948</td>\n      <td>0.342321</td>\n      <td>0.367271</td>\n      <td>0.886274</td>\n      <td>0.889479</td>\n      <td>0.980991</td>\n      <td>...</td>\n      <td>1.962734</td>\n      <td>esm2_t33_650M_UR50D</td>\n      <td>microsoft/phi-2</td>\n      <td>soft-prompt</td>\n      <td>[0]</td>\n      <td>[0.945, 0.005, 0.05]</td>\n      <td>1</td>\n      <td>qa</td>\n      <td>7</td>\n      <td>0.473513</td>\n    </tr>\n    <tr>\n      <th>8</th>\n      <td>179443.0</td>\n      <td>0.0</td>\n      <td>0.669927</td>\n      <td>0.571429</td>\n      <td>0.622256</td>\n      <td>0.275575</td>\n      <td>0.283083</td>\n      <td>0.882068</td>\n      <td>0.884491</td>\n      <td>0.670673</td>\n      <td>...</td>\n      <td>1.955870</td>\n      <td>esm2_t33_650M_UR50D</td>\n      <td>microsoft/phi-2</td>\n      <td>soft-prompt</td>\n      <td>[0]</td>\n      <td>[0.945, 0.005, 0.05]</td>\n      <td>1</td>\n      <td>qa</td>\n      <td>42</td>\n      <td>0.393638</td>\n    </tr>\n  </tbody>\n</table>\n<p>9 rows × 36 columns</p>\n</div>"
     },
     "execution_count": 3,
     "metadata": {},
     "output_type": "execute_result"
    }
   ],
   "source": [
    "model_order = [\"gpt2\", \"gpt2-medium\", \"gpt2-xl\", \"microsoft/phi-2\"]\n",
    "# model_order = [\"esm2_t12_35M_UR50D\", \"esm2_t33_650M_UR50D\"]\n",
    "var = 'llm'\n",
    "ordering = (var, model_order)\n",
    "df = pd.DataFrame(out).reset_index(inplace=False, drop=True)\n",
    "df=df[df.strategy==\"soft-prompt\"]\n",
    "# df=df[df.split.apply(lambda x: x == [0.945, 0.005, 0.05])]\n",
    "df=df[df.esm==\"esm2_t33_650M_UR50D\"]\n",
    "# df=df[df.llm==\"microsoft/phi-2\"]\n",
    "# df=df[df[\"trainer/global_step\"] > 150000]\n",
    "df[\"avg_binary_loc_f1\"] = df[[col for col in df.columns if \"_in_\" in col]].mean(axis=1)\n",
    "df = df[df[ordering[0]].isin(ordering[1])]\n",
    "df[ordering[0]] = pd.Categorical(df[ordering[0]], categories=ordering[1], ordered=True)\n",
    "df.sort_values([ordering[0], 'seed'], inplace=True)\n",
    "df['metrics/val_perplexity'] = df['metrics/val_perplexity'].astype(float)\n",
    "df"
   ],
   "metadata": {
    "collapsed": false
   }
  },
  {
   "cell_type": "code",
   "execution_count": 4,
   "outputs": [
    {
     "name": "stderr",
     "output_type": "stream",
     "text": [
      "/Users/elicarrami/PycharmProjects/cprt/cprt/analysis/analysis_utils.py:103: FutureWarning: The default of observed=False is deprecated and will be changed to True in a future version of pandas. Pass observed=False to retain current behavior or observed=True to adopt the future default and silence this warning.\n",
      "  return df.groupby(group_by).agg(['mean', 'std'])\n"
     ]
    }
   ],
   "source": [
    "metrics_names = {k:v for k, v in metrics_names.items() if 'rouge' not in k}\n",
    "agg_df = aggregate_metrics(df, group_by=var)\n",
    "agg_df = agg_df[[col for col in metrics_names]]\n",
    "\n",
    "for col, name in metrics_names.items():\n",
    "    agg_df[name] = round(agg_df[(col, 'mean')], 2).astype(str) + \" (\" + round(agg_df[(col, 'std')], 2).astype(str) + \")\"\n",
    "    agg_df.drop([(col, 'mean'), (col, 'std')], axis=1, inplace=True)\n",
    "\n",
    "agg_df.to_clipboard()"
   ],
   "metadata": {
    "collapsed": false
   }
  },
  {
   "cell_type": "code",
   "execution_count": null,
   "outputs": [],
   "source": [],
   "metadata": {
    "collapsed": false
   }
  }
 ],
 "metadata": {
  "kernelspec": {
   "display_name": "Python 3",
   "language": "python",
   "name": "python3"
  },
  "language_info": {
   "codemirror_mode": {
    "name": "ipython",
    "version": 2
   },
   "file_extension": ".py",
   "mimetype": "text/x-python",
   "name": "python",
   "nbconvert_exporter": "python",
   "pygments_lexer": "ipython2",
   "version": "2.7.6"
  }
 },
 "nbformat": 4,
 "nbformat_minor": 0
}
