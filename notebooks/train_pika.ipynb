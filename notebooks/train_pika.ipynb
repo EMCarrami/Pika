{
 "cells": [
  {
   "cell_type": "code",
   "execution_count": 6,
   "metadata": {
    "collapsed": true
   },
   "outputs": [],
   "source": [
    "from pika.main import Pika\n",
    "from pika.utils.helpers import load_config\n",
    "import warnings\n",
    "\n",
    "warnings.filterwarnings(\"ignore\")"
   ]
  },
  {
   "cell_type": "code",
   "execution_count": 9,
   "outputs": [],
   "source": [
    "assets_path = \"../tests/assets/\"\n",
    "config = load_config(assets_path + \"sample_self_pika_config.json\")\n",
    "config[\"datamodule\"][\"data_dict_path\"] = assets_path + config[\"datamodule\"][\"data_dict_path\"]\n",
    "config[\"datamodule\"][\"split_path\"] = assets_path + config[\"datamodule\"][\"split_path\"]\n",
    "config[\"datamodule\"][\"test_subjects\"] = \"taxonomy\""
   ],
   "metadata": {
    "collapsed": false
   }
  },
  {
   "cell_type": "code",
   "execution_count": 10,
   "outputs": [
    {
     "name": "stderr",
     "output_type": "stream",
     "text": [
      "Seed set to 7\n",
      "Using cache found in /Users/elicarrami/.cache/torch/hub/facebookresearch_esm_main\n",
      "\u001B[32m2024-02-16 00:01:07.730\u001B[0m | \u001B[1mINFO    \u001B[0m | \u001B[36mpika.datamodule.pika_datamodule\u001B[0m:\u001B[36m__init__\u001B[0m:\u001B[36m89\u001B[0m - \u001B[1mloading data from ../tests/assets/sample_data.pkl\u001B[0m\n",
      "\u001B[32m2024-02-16 00:01:07.733\u001B[0m | \u001B[1mINFO    \u001B[0m | \u001B[36mpika.datamodule.pika_datamodule\u001B[0m:\u001B[36m__init__\u001B[0m:\u001B[36m95\u001B[0m - \u001B[1mloading splits from ../tests/assets/sample_split.csv\u001B[0m\n",
      "\u001B[32m2024-02-16 00:01:07.740\u001B[0m | \u001B[1mINFO    \u001B[0m | \u001B[36mpika.datamodule.pika_datamodule\u001B[0m:\u001B[36m__init__\u001B[0m:\u001B[36m128\u001B[0m - \u001B[1mpreparing examples\u001B[0m\n",
      "\u001B[32m2024-02-16 00:01:07.741\u001B[0m | \u001B[1mINFO    \u001B[0m | \u001B[36mpika.datamodule.pika_torch_datasets\u001B[0m:\u001B[36m__init__\u001B[0m:\u001B[36m27\u001B[0m - \u001B[1mpreparing train dataset\u001B[0m\n",
      "\u001B[32m2024-02-16 00:01:07.744\u001B[0m | \u001B[1mINFO    \u001B[0m | \u001B[36mpika.datamodule.pika_torch_datasets\u001B[0m:\u001B[36m__init__\u001B[0m:\u001B[36m27\u001B[0m - \u001B[1mpreparing val dataset\u001B[0m\n",
      "\u001B[32m2024-02-16 00:01:07.748\u001B[0m | \u001B[1mINFO    \u001B[0m | \u001B[36mpika.datamodule.pika_torch_datasets\u001B[0m:\u001B[36m__init__\u001B[0m:\u001B[36m71\u001B[0m - \u001B[1mpreparing val metrics dataset\u001B[0m\n",
      "GPU available: False, used: False\n",
      "TPU available: False, using: 0 TPU cores\n",
      "IPU available: False, using: 0 IPUs\n",
      "HPU available: False, using: 0 HPUs\n",
      "`Trainer(limit_train_batches=1)` was configured so 1 batch per epoch will be used.\n",
      "`Trainer(limit_val_batches=1)` was configured so 1 batch will be used.\n",
      "`Trainer(limit_test_batches=1)` was configured so 1 batch will be used.\n",
      "\u001B[32m2024-02-16 00:01:07.826\u001B[0m | \u001B[1mINFO    \u001B[0m | \u001B[36mpika.main\u001B[0m:\u001B[36m__init__\u001B[0m:\u001B[36m92\u001B[0m - \u001B[1mwill save partial model checkpoints. Ensure this is intended.\u001B[0m\n",
      "\n",
      "  | Name             | Type               | Params\n",
      "--------------------------------------------------------\n",
      "0 | esm              | TruncatedESM2      | 7.4 M \n",
      "1 | pika_llm         | GPT2ForPika        | 127 M \n",
      "2 | train_perplexity | Perplexity         | 0     \n",
      "3 | val_perplexity   | Perplexity         | 0     \n",
      "4 | val_rouge_scores | ROUGEScore         | 0     \n",
      "5 | val_biochem      | BiochemLiteMetrics | 0     \n",
      "--------------------------------------------------------\n",
      "2.6 M     Trainable params\n",
      "131 M     Non-trainable params\n",
      "134 M     Total params\n",
      "537.871   Total estimated model params size (MB)\n"
     ]
    },
    {
     "data": {
      "text/plain": "Sanity Checking: |          | 0/? [00:00<?, ?it/s]",
      "application/vnd.jupyter.widget-view+json": {
       "version_major": 2,
       "version_minor": 0,
       "model_id": "5d2c2de6888b4add9beefe3ea961ccc3"
      }
     },
     "metadata": {},
     "output_type": "display_data"
    },
    {
     "name": "stderr",
     "output_type": "stream",
     "text": [
      "The attention mask and the pad token id were not set. As a consequence, you may observe unexpected behavior. Please pass your input's `attention_mask` to obtain reliable results.\n",
      "Setting `pad_token_id` to `eos_token_id`:50256 for open-end generation.\n"
     ]
    },
    {
     "data": {
      "text/plain": "Training: |          | 0/? [00:00<?, ?it/s]",
      "application/vnd.jupyter.widget-view+json": {
       "version_major": 2,
       "version_minor": 0,
       "model_id": "fded761852f04929943314c4bd0ad23c"
      }
     },
     "metadata": {},
     "output_type": "display_data"
    },
    {
     "data": {
      "text/plain": "Validation: |          | 0/? [00:00<?, ?it/s]",
      "application/vnd.jupyter.widget-view+json": {
       "version_major": 2,
       "version_minor": 0,
       "model_id": "b2402c68c7c643a4b81e3a641cde948b"
      }
     },
     "metadata": {},
     "output_type": "display_data"
    },
    {
     "name": "stderr",
     "output_type": "stream",
     "text": [
      "The attention mask and the pad token id were not set. As a consequence, you may observe unexpected behavior. Please pass your input's `attention_mask` to obtain reliable results.\n",
      "Setting `pad_token_id` to `eos_token_id`:50256 for open-end generation.\n",
      "Epoch 0, global step 1: 'loss/val_loss' reached 6.42735 (best 6.42735), saving model to 'model_checkpoints/240216000107_self-pika_esm2_t6_8M_UR50D_gpt2_7_loss/epoch=0-step=1.ckpt' as top 1\n",
      "`Trainer.fit` stopped: `max_epochs=1` reached.\n"
     ]
    }
   ],
   "source": [
    "model = Pika(config)\n",
    "model.train()"
   ],
   "metadata": {
    "collapsed": false
   }
  },
  {
   "cell_type": "code",
   "execution_count": 11,
   "outputs": [
    {
     "name": "stderr",
     "output_type": "stream",
     "text": [
      "\u001B[32m2024-02-16 00:01:28.631\u001B[0m | \u001B[1mINFO    \u001B[0m | \u001B[36mpika.datamodule.pika_torch_datasets\u001B[0m:\u001B[36m__init__\u001B[0m:\u001B[36m128\u001B[0m - \u001B[1mpreparing test dataset for taxonomy\u001B[0m\n"
     ]
    },
    {
     "data": {
      "text/plain": "Testing: |          | 0/? [00:00<?, ?it/s]",
      "application/vnd.jupyter.widget-view+json": {
       "version_major": 2,
       "version_minor": 0,
       "model_id": "7fa7c77b4fdc426687e001a50d26b464"
      }
     },
     "metadata": {},
     "output_type": "display_data"
    },
    {
     "name": "stderr",
     "output_type": "stream",
     "text": [
      "The attention mask and the pad token id were not set. As a consequence, you may observe unexpected behavior. Please pass your input's `attention_mask` to obtain reliable results.\n",
      "Setting `pad_token_id` to `eos_token_id`:50256 for open-end generation.\n"
     ]
    },
    {
     "data": {
      "text/plain": "   uniprot_id   subject                          expected_answer  \\\n0  A0A068BGA5  taxonomy   Eukaryota, Viridiplantae, Streptophyta   \n1  A0A075TMP8  taxonomy                Eukaryota, Fungi, Dikarya   \n\n                                  generated_response  \n0  \\n\\n\\n\\n\\n\\n\\n\\n\\n. and the. and the. and the....  \n1  \\n\\n\\n\\n\\n\\n\\n\\n\\n. and the the the the the th...  ",
      "text/html": "<div>\n<style scoped>\n    .dataframe tbody tr th:only-of-type {\n        vertical-align: middle;\n    }\n\n    .dataframe tbody tr th {\n        vertical-align: top;\n    }\n\n    .dataframe thead th {\n        text-align: right;\n    }\n</style>\n<table border=\"1\" class=\"dataframe\">\n  <thead>\n    <tr style=\"text-align: right;\">\n      <th></th>\n      <th>uniprot_id</th>\n      <th>subject</th>\n      <th>expected_answer</th>\n      <th>generated_response</th>\n    </tr>\n  </thead>\n  <tbody>\n    <tr>\n      <th>0</th>\n      <td>A0A068BGA5</td>\n      <td>taxonomy</td>\n      <td>Eukaryota, Viridiplantae, Streptophyta</td>\n      <td>\\n\\n\\n\\n\\n\\n\\n\\n\\n. and the. and the. and the....</td>\n    </tr>\n    <tr>\n      <th>1</th>\n      <td>A0A075TMP8</td>\n      <td>taxonomy</td>\n      <td>Eukaryota, Fungi, Dikarya</td>\n      <td>\\n\\n\\n\\n\\n\\n\\n\\n\\n. and the the the the the th...</td>\n    </tr>\n  </tbody>\n</table>\n</div>"
     },
     "execution_count": 11,
     "metadata": {},
     "output_type": "execute_result"
    }
   ],
   "source": [
    "model.biochem_react_benchmark(model_to_use=\"last\")"
   ],
   "metadata": {
    "collapsed": false
   }
  },
  {
   "cell_type": "code",
   "execution_count": null,
   "outputs": [],
   "source": [],
   "metadata": {
    "collapsed": false
   }
  }
 ],
 "metadata": {
  "kernelspec": {
   "display_name": "Python 3",
   "language": "python",
   "name": "python3"
  },
  "language_info": {
   "codemirror_mode": {
    "name": "ipython",
    "version": 2
   },
   "file_extension": ".py",
   "mimetype": "text/x-python",
   "name": "python",
   "nbconvert_exporter": "python",
   "pygments_lexer": "ipython2",
   "version": "2.7.6"
  }
 },
 "nbformat": 4,
 "nbformat_minor": 0
}
