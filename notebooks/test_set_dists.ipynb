{
 "cells": [
  {
   "cell_type": "code",
   "execution_count": 46,
   "metadata": {},
   "outputs": [],
   "source": [
    "import pickle\n",
    "import pandas as pd\n",
    "import numpy as np\n",
    "import scanpy as sc\n",
    "from torchmetrics.functional.text.rouge import rouge_score\n",
    "from tqdm import tqdm"
   ]
  },
  {
   "cell_type": "code",
   "execution_count": 4,
   "metadata": {},
   "outputs": [],
   "source": [
    "with open(\"prt_pca_umap.pkl\", \"rb\") as f:\n",
    "    adata = pickle.load(f)\n",
    "split = pd.read_csv(\"split_0.csv\", sep=\",\")\n",
    "id_map = pd.read_csv('id_maps.tsv', sep=\"\\t\", header=None)\n",
    "with open(\"uniref50_gpt_data.pkl\", \"rb\") as f:\n",
    "    pika = pickle.load(f)"
   ]
  },
  {
   "cell_type": "code",
   "execution_count": 10,
   "metadata": {},
   "outputs": [],
   "source": [
    "adata.obs[\"cid\"] = adata.obs[0].map({key: value for key, value in zip(id_map[0], id_map[2])})\n",
    "adata.obs[\"split\"] = adata.obs[0].map({key: value for key, value in zip(split[\"uniprot_id\"], split[\"split\"])})\n",
    "adata = adata[adata.obs[0].isin(pika)]\n",
    "adata.obs = adata.obs.reset_index(drop=True, inplace=False)"
   ]
  },
  {
   "cell_type": "code",
   "execution_count": 13,
   "metadata": {},
   "outputs": [
    {
     "name": "stdout",
     "output_type": "stream",
     "text": [
      "PCA\n"
     ]
    },
    {
     "name": "stderr",
     "output_type": "stream",
     "text": [
      "/opt/pyenv/versions/3.10.12/lib/python3.10/site-packages/scanpy/preprocessing/_pca.py:229: ImplicitModificationWarning: Setting element `.obsm['X_pca']` of view, initializing view as actual.\n",
      "  adata.obsm['X_pca'] = X_pca\n"
     ]
    },
    {
     "name": "stdout",
     "output_type": "stream",
     "text": [
      "neighbour\n"
     ]
    },
    {
     "name": "stderr",
     "output_type": "stream",
     "text": [
      "/opt/pyenv/versions/3.10.12/lib/python3.10/site-packages/tqdm/auto.py:21: TqdmWarning: IProgress not found. Please update jupyter and ipywidgets. See https://ipywidgets.readthedocs.io/en/stable/user_install.html\n",
      "  from .autonotebook import tqdm as notebook_tqdm\n"
     ]
    }
   ],
   "source": [
    "print(\"PCA\")\n",
    "sc.tl.pca(adata)\n",
    "print(\"neighbour\")\n",
    "sc.pp.neighbors(adata)"
   ]
  },
  {
   "cell_type": "code",
   "execution_count": 50,
   "metadata": {},
   "outputs": [
    {
     "name": "stderr",
     "output_type": "stream",
     "text": [
      "100%|██████████| 257154/257154 [2:09:17<00:00, 33.15it/s]  \n"
     ]
    }
   ],
   "source": [
    "scores = {}\n",
    "for i, r in tqdm(adata.obs.iterrows(), total=len(adata)):\n",
    "    uid, cid, sp = r\n",
    "    if sp == \"test\":\n",
    "        scores[uid] = 0\n",
    "        rr = adata.obsp['distances'][i].toarray()[0]\n",
    "        closest_indices = np.argsort(rr)[-10:]\n",
    "        _sets = adata[closest_indices].obs\n",
    "        _sets = _sets[_sets[\"split\"] != \"test\"]\n",
    "        s1 = pika[uid]['sequence']\n",
    "        s2s = [pika[adata.obs[0].iloc[i]]['sequence'] for i in _sets.index]\n",
    "        for ss in s2s:\n",
    "            score = rouge_score(s1, ss, tokenizer=list, rouge_keys=\"rougeL\")['rougeL_fmeasure'].item()\n",
    "            if score > scores[uid]:\n",
    "                scores[uid] = score\n",
    "            if score > 0.5:\n",
    "                break"
   ]
  },
  {
   "cell_type": "code",
   "execution_count": 53,
   "metadata": {},
   "outputs": [],
   "source": [
    "with open(\"test_sim_scores.pkl\", \"wb\") as f:\n",
    "    pickle.dump(scores, f)\n",
    "    "
   ]
  },
  {
   "cell_type": "code",
   "execution_count": 54,
   "metadata": {},
   "outputs": [
    {
     "data": {
      "text/plain": [
       "{'bodies': [<matplotlib.collections.PolyCollection at 0x7f8eeaf45960>],\n",
       " 'cmaxes': <matplotlib.collections.LineCollection at 0x7f8eeaf45870>,\n",
       " 'cmins': <matplotlib.collections.LineCollection at 0x7f8eeaf45690>,\n",
       " 'cbars': <matplotlib.collections.LineCollection at 0x7f8eeaf46200>}"
      ]
     },
     "execution_count": 54,
     "metadata": {},
     "output_type": "execute_result"
    },
    {
     "data": {
      "image/png": "[encoded data removed]",
      "text/plain": [
       "<Figure size 640x480 with 1 Axes>"
      ]
     },
     "metadata": {},
     "output_type": "display_data"
    }
   ],
   "source": [
    "import matplotlib.pyplot as plt\n",
    "\n",
    "plt.violinplot(scores.values())"
   ]
  },
  {
   "cell_type": "code",
   "execution_count": 55,
   "metadata": {},
   "outputs": [],
   "source": [
    "esm2 = pd.read_csv(\"esm2_split.txt\", header=None)"
   ]
  },
  {
   "cell_type": "code",
   "execution_count": null,
   "metadata": {},
   "outputs": [],
   "source": [
    "esm2_eval = set([i.replace(\">\", \"\") for i in esm2[0]])\n",
    "adata.obs[\"esm2\"] = adata.obs[\"cid\"].map(lambda x: \"eval\" if x in esm2_eval else \"train\")\n",
    "adata.obs"
   ]
  },
  {
   "cell_type": "code",
   "execution_count": 82,
   "metadata": {},
   "outputs": [],
   "source": [
    "import string\n",
    "def harmonise_gpt_results(result: str) -> str:\n",
    "    \"\"\"Harmonise GPT responses to match expected format.\"\"\"\n",
    "    result_map = {\"yes\": \"correct\", \"no\": \"incorrect\", \"wrong\": \"incorrect\", \"right\": \"correct\"}\n",
    "    result = result.translate(str.maketrans(\"\", \"\", string.punctuation))\n",
    "    result = result.split()[0].lower()\n",
    "    return result_map.get(result, result)\n",
    "\n",
    "def get_spli_scores(ad ,path=\"peachy_waterfall-seed.tsv\"):\n",
    "    preds = pd.read_csv(path, sep=\"\\t\")\n",
    "    preds[\"esm2\"] = preds[\"uniprot_id\"].map({k: v for k, v in zip(ad.obs[0], ad.obs[\"esm2\"])})\n",
    "    for n, _df in preds.groupby(\"subject\"):\n",
    "        ev = _df[_df[\"esm2\"] == \"eval\"][\"results\"].map(harmonise_gpt_results).value_counts(normalize=True).to_dict()\n",
    "        tr = _df[_df[\"esm2\"] == \"train\"][\"results\"].map(harmonise_gpt_results).value_counts(normalize=True).to_dict()\n",
    "        print(n)\n",
    "        print('eval', ev)\n",
    "        print('train', tr)\n"
   ]
  },
  {
   "cell_type": "code",
   "execution_count": 83,
   "metadata": {},
   "outputs": [
    {
     "name": "stdout",
     "output_type": "stream",
     "text": [
      "catalytic activity\n",
      "eval {'correct': 0.6271186440677966, 'incorrect': 0.3728813559322034}\n",
      "train {'correct': 0.5793780687397708, 'incorrect': 0.4206219312602291}\n",
      "cofactor\n",
      "eval {'correct': 0.9596774193548387, 'incorrect': 0.04032258064516129}\n",
      "train {'correct': 0.9706666666666667, 'incorrect': 0.024333333333333332, 'maybe': 0.005}\n",
      "functional domains\n",
      "eval {'correct': 0.7760736196319018, 'maybe': 0.11809815950920245, 'incorrect': 0.1058282208588957}\n",
      "train {'correct': 0.786994915707787, 'maybe': 0.1263045223441263, 'incorrect': 0.0867005619480867}\n",
      "subject\n",
      "eval {}\n",
      "train {}\n"
     ]
    }
   ],
   "source": [
    "get_spli_scores(adata)"
   ]
  },
  {
   "cell_type": "code",
   "execution_count": 84,
   "metadata": {},
   "outputs": [
    {
     "name": "stdout",
     "output_type": "stream",
     "text": [
      "catalytic activity\n",
      "eval {'correct': 0.6551724137931034, 'incorrect': 0.3448275862068966}\n",
      "train {'correct': 0.5158730158730159, 'incorrect': 0.48412698412698413}\n",
      "cofactor\n",
      "eval {'correct': 0.9615384615384616, 'incorrect': 0.038461538461538464}\n",
      "train {'correct': 0.9627118644067797, 'incorrect': 0.020338983050847456, 'maybe': 0.01694915254237288}\n",
      "functional domains\n",
      "eval {'correct': 0.7446153846153846, 'maybe': 0.16615384615384615, 'incorrect': 0.08923076923076922}\n",
      "train {'correct': 0.7554655870445344, 'maybe': 0.1406207827260459, 'incorrect': 0.1039136302294197}\n",
      "subject\n",
      "eval {}\n",
      "train {}\n"
     ]
    }
   ],
   "source": [
    "get_spli_scores(adata, path=\"vocal-moon-44.tsv\")"
   ]
  },
  {
   "cell_type": "code",
   "execution_count": 85,
   "metadata": {},
   "outputs": [
    {
     "name": "stdout",
     "output_type": "stream",
     "text": [
      "catalytic activity\n",
      "eval {'incorrect': 0.574468085106383, 'correct': 0.425531914893617}\n",
      "train {'incorrect': 0.5323624595469255, 'correct': 0.46763754045307443}\n",
      "cofactor\n",
      "eval {'correct': 0.953307392996109, 'incorrect': 0.0311284046692607, 'maybe': 0.01556420233463035}\n",
      "train {'correct': 0.9518935516888434, 'incorrect': 0.037529853292391675, 'maybe': 0.010576595018764927}\n",
      "functional domains\n",
      "eval {'correct': 0.708079268292683, 'incorrect': 0.14939024390243902, 'maybe': 0.14253048780487804}\n",
      "train {'correct': 0.7117080450413784, 'incorrect': 0.1474698141364808, 'maybe': 0.1408221408221408}\n",
      "subject\n",
      "eval {}\n",
      "train {}\n"
     ]
    }
   ],
   "source": [
    "get_spli_scores(adata, path=\"desert_leaf-seed.tsv\")"
   ]
  }
 ],
 "metadata": {
  "kernelspec": {
   "display_name": "PertPrompt",
   "language": "python",
   "name": "pertprompt"
  },
  "language_info": {
   "codemirror_mode": {
    "name": "ipython",
    "version": 3
   },
   "file_extension": ".py",
   "mimetype": "text/x-python",
   "name": "python",
   "nbconvert_exporter": "python",
   "pygments_lexer": "ipython3",
   "version": "3.10.12"
  }
 },
 "nbformat": 4,
 "nbformat_minor": 2
}
