{
 "cells": [
  {
   "cell_type": "code",
   "execution_count": 1,
   "metadata": {
    "collapsed": true
   },
   "outputs": [],
   "source": [
    "import pandas as pd\n",
    "\n",
    "from analysis_utils import get_run_data, process_run_data, aggregate_metrics, METRIC_NAMES"
   ]
  },
  {
   "cell_type": "code",
   "execution_count": 2,
   "outputs": [
    {
     "name": "stdout",
     "output_type": "stream",
     "text": [
      "serene-shadow-9 fresh-vortex-8 vivid-wood-7 magic-shape-6 avid-dust-5 helpful-aardvark-4 zany-spaceship-68 chocolate-field-67 kind-pond-66 vocal-leaf-65 hearty-darkness-18 dainty-hill-17 valiant-voice-16 logical-smoke-14 zero-shot vivid-dust-49 mild-star-13 cool-water-12 confused-dream-11 solar-pyramid-10 treasured-pyramid-5 still-sky-3 pious-puddle-2 worldly-grass-1 decent-dawn-48 ethereal-plant-47 charmed-eon-45 playful-sun-44 decent-water-43 polished-smoke-42 fancy-leaf-39 rural-forest-38 glorious-sea-45 celestial-spaceship-43 atomic-oath-39 decent-star-38 proud-sea-37 solar-voice-33 sage-tree-27 "
     ]
    }
   ],
   "source": [
    "data, config = get_run_data(\"eli-carrami/Cprt-Paper-Final\")\n",
    "out = []\n",
    "best_basis = \"biochem/val_localization_f1\"\n",
    "use_last = False\n",
    "for d, c in zip(data, config):\n",
    "    llm = c['model']['value']['language_model']\n",
    "    if 'gpt' in llm:\n",
    "        h = d.iloc[-1].copy()\n",
    "    elif use_last:\n",
    "        d = d[d.epoch == 0]\n",
    "        h = d.iloc[-1].copy()\n",
    "    else:\n",
    "        h = d.iloc[d[best_basis].idxmax()].copy()\n",
    "    h['protein_layer_to_use'] = c['model']['value']['protein_layer_to_use']\n",
    "    h['protein_layer_to_use'] = -1 if h['protein_layer_to_use'] == 12 else h['protein_layer_to_use']\n",
    "    h['esm'] = c['model']['value']['protein_model']\n",
    "    h['llm'] = llm\n",
    "    h['strategy'] = c['model']['value']['multimodal_strategy']\n",
    "    h['fields'] = c['datamodule']['value']['data_field_names']\n",
    "    h['holder'] = c['datamodule']['value']['sequence_placeholder']\n",
    "    h['latent'] = c['model']['value']['perceiver_latent_size']\n",
    "    h['schedulers'] = c['model']['value'].get('schedulers', None)\n",
    "    h['grad'] = c['trainer']['value'].get('accumulate_grad_batches', 1)\n",
    "    h['clip'] = c['trainer']['value'].get('gradient_clip_val', 0)\n",
    "    h['seed'] = c['seed']['value']\n",
    "    h['subsample'] = c['datamodule']['value']['subsample_data']\n",
    "    out.append(h)\n"
   ],
   "metadata": {
    "collapsed": false
   }
  },
  {
   "cell_type": "code",
   "execution_count": 44,
   "outputs": [
    {
     "data": {
      "text/plain": "    biochem/val_is_real_f1  biochem/val_is_enzyme_hard_f1  \\\n0                 0.988915                       0.878214   \n30                0.987051                       0.876346   \n\n    biochem/val_kingdom_f1  biochem/val_localization_f1  biochem/val_cofactor  \\\n0                 0.802693                     0.763233              0.495652   \n30                0.820807                     0.746808              0.536797   \n\n    biochem/val_is_fake_f1  biochem/val_mw_error  metrics/val_perplexity  \\\n0                 0.933977              0.039181                2.127980   \n30                0.321644              0.037661                2.075031   \n\n    metrics/val_rouge1_fmeasure  metrics/val_rouge1_precision  ...  \\\n0                      0.768996                      0.770956  ...   \n30                     0.771896                      0.773551  ...   \n\n       strategy  fields  holder  latent  schedulers  grad  clip  seed  \\\n0   soft-prompt      qa             100        None     1     0     7   \n30  soft-prompt      qa             100        None     1     0    42   \n\n    subsample  avg_binary_loc_f1  \n0         1.0           0.271608  \n30        1.0           0.415482  \n\n[2 rows x 34 columns]",
      "text/html": "<div>\n<style scoped>\n    .dataframe tbody tr th:only-of-type {\n        vertical-align: middle;\n    }\n\n    .dataframe tbody tr th {\n        vertical-align: top;\n    }\n\n    .dataframe thead th {\n        text-align: right;\n    }\n</style>\n<table border=\"1\" class=\"dataframe\">\n  <thead>\n    <tr style=\"text-align: right;\">\n      <th></th>\n      <th>biochem/val_is_real_f1</th>\n      <th>biochem/val_is_enzyme_hard_f1</th>\n      <th>biochem/val_kingdom_f1</th>\n      <th>biochem/val_localization_f1</th>\n      <th>biochem/val_cofactor</th>\n      <th>biochem/val_is_fake_f1</th>\n      <th>biochem/val_mw_error</th>\n      <th>metrics/val_perplexity</th>\n      <th>metrics/val_rouge1_fmeasure</th>\n      <th>metrics/val_rouge1_precision</th>\n      <th>...</th>\n      <th>strategy</th>\n      <th>fields</th>\n      <th>holder</th>\n      <th>latent</th>\n      <th>schedulers</th>\n      <th>grad</th>\n      <th>clip</th>\n      <th>seed</th>\n      <th>subsample</th>\n      <th>avg_binary_loc_f1</th>\n    </tr>\n  </thead>\n  <tbody>\n    <tr>\n      <th>0</th>\n      <td>0.988915</td>\n      <td>0.878214</td>\n      <td>0.802693</td>\n      <td>0.763233</td>\n      <td>0.495652</td>\n      <td>0.933977</td>\n      <td>0.039181</td>\n      <td>2.127980</td>\n      <td>0.768996</td>\n      <td>0.770956</td>\n      <td>...</td>\n      <td>soft-prompt</td>\n      <td>qa</td>\n      <td></td>\n      <td>100</td>\n      <td>None</td>\n      <td>1</td>\n      <td>0</td>\n      <td>7</td>\n      <td>1.0</td>\n      <td>0.271608</td>\n    </tr>\n    <tr>\n      <th>30</th>\n      <td>0.987051</td>\n      <td>0.876346</td>\n      <td>0.820807</td>\n      <td>0.746808</td>\n      <td>0.536797</td>\n      <td>0.321644</td>\n      <td>0.037661</td>\n      <td>2.075031</td>\n      <td>0.771896</td>\n      <td>0.773551</td>\n      <td>...</td>\n      <td>soft-prompt</td>\n      <td>qa</td>\n      <td></td>\n      <td>100</td>\n      <td>None</td>\n      <td>1</td>\n      <td>0</td>\n      <td>42</td>\n      <td>1.0</td>\n      <td>0.415482</td>\n    </tr>\n  </tbody>\n</table>\n<p>2 rows × 34 columns</p>\n</div>"
     },
     "execution_count": 44,
     "metadata": {},
     "output_type": "execute_result"
    }
   ],
   "source": [
    "df = pd.DataFrame(out).reset_index(inplace=False, drop=True)\n",
    "df[\"avg_binary_loc_f1\"] = df[[col for col in df.columns if \"_in_\" in col]].mean(axis=1)\n",
    "df['metrics/val_perplexity'] = df['metrics/val_perplexity'].astype(float)\n",
    "df = df[df.strategy == \"soft-prompt\"]\n",
    "df = df[df.subsample == 1.0]\n",
    "df = df[df[\"clip\"] == 0]\n",
    "df = df[df.grad == 1]\n",
    "df = df[df.latent == 100]\n",
    "# df = df[df.holder != \" \"]\n",
    "df = df[df.fields == \"qa\"]\n",
    "df = df[df.schedulers.apply(lambda x: str(x) == \"None\")]\n",
    "# df[\"type\"] = df[\"fields\"].apply(lambda x: x[0])\n",
    "df"
   ],
   "metadata": {
    "collapsed": false
   }
  },
  {
   "cell_type": "code",
   "execution_count": 45,
   "outputs": [
    {
     "data": {
      "text/plain": "    biochem/val_is_real_f1  biochem/val_is_enzyme_hard_f1  \\\n0                 0.988915                       0.878214   \n30                0.987051                       0.876346   \n\n    biochem/val_kingdom_f1  biochem/val_localization_f1  biochem/val_cofactor  \\\n0                 0.802693                     0.763233              0.495652   \n30                0.820807                     0.746808              0.536797   \n\n    biochem/val_is_fake_f1  biochem/val_mw_error  metrics/val_perplexity  \\\n0                 0.933977              0.039181                2.127980   \n30                0.321644              0.037661                2.075031   \n\n    metrics/val_rouge1_fmeasure  metrics/val_rouge1_precision  ...  \\\n0                      0.768996                      0.770956  ...   \n30                     0.771896                      0.773551  ...   \n\n       strategy  fields  holder  latent  schedulers  grad  clip  seed  \\\n0   soft-prompt      qa             100        None     1     0     7   \n30  soft-prompt      qa             100        None     1     0    42   \n\n    subsample  avg_binary_loc_f1  \n0         1.0           0.271608  \n30        1.0           0.415482  \n\n[2 rows x 34 columns]",
      "text/html": "<div>\n<style scoped>\n    .dataframe tbody tr th:only-of-type {\n        vertical-align: middle;\n    }\n\n    .dataframe tbody tr th {\n        vertical-align: top;\n    }\n\n    .dataframe thead th {\n        text-align: right;\n    }\n</style>\n<table border=\"1\" class=\"dataframe\">\n  <thead>\n    <tr style=\"text-align: right;\">\n      <th></th>\n      <th>biochem/val_is_real_f1</th>\n      <th>biochem/val_is_enzyme_hard_f1</th>\n      <th>biochem/val_kingdom_f1</th>\n      <th>biochem/val_localization_f1</th>\n      <th>biochem/val_cofactor</th>\n      <th>biochem/val_is_fake_f1</th>\n      <th>biochem/val_mw_error</th>\n      <th>metrics/val_perplexity</th>\n      <th>metrics/val_rouge1_fmeasure</th>\n      <th>metrics/val_rouge1_precision</th>\n      <th>...</th>\n      <th>strategy</th>\n      <th>fields</th>\n      <th>holder</th>\n      <th>latent</th>\n      <th>schedulers</th>\n      <th>grad</th>\n      <th>clip</th>\n      <th>seed</th>\n      <th>subsample</th>\n      <th>avg_binary_loc_f1</th>\n    </tr>\n  </thead>\n  <tbody>\n    <tr>\n      <th>0</th>\n      <td>0.988915</td>\n      <td>0.878214</td>\n      <td>0.802693</td>\n      <td>0.763233</td>\n      <td>0.495652</td>\n      <td>0.933977</td>\n      <td>0.039181</td>\n      <td>2.127980</td>\n      <td>0.768996</td>\n      <td>0.770956</td>\n      <td>...</td>\n      <td>soft-prompt</td>\n      <td>qa</td>\n      <td></td>\n      <td>100</td>\n      <td>None</td>\n      <td>1</td>\n      <td>0</td>\n      <td>7</td>\n      <td>1.0</td>\n      <td>0.271608</td>\n    </tr>\n    <tr>\n      <th>30</th>\n      <td>0.987051</td>\n      <td>0.876346</td>\n      <td>0.820807</td>\n      <td>0.746808</td>\n      <td>0.536797</td>\n      <td>0.321644</td>\n      <td>0.037661</td>\n      <td>2.075031</td>\n      <td>0.771896</td>\n      <td>0.773551</td>\n      <td>...</td>\n      <td>soft-prompt</td>\n      <td>qa</td>\n      <td></td>\n      <td>100</td>\n      <td>None</td>\n      <td>1</td>\n      <td>0</td>\n      <td>42</td>\n      <td>1.0</td>\n      <td>0.415482</td>\n    </tr>\n  </tbody>\n</table>\n<p>2 rows × 34 columns</p>\n</div>"
     },
     "execution_count": 45,
     "metadata": {},
     "output_type": "execute_result"
    }
   ],
   "source": [
    "model_order = ['q', 'qa', 'qa_real', 's']\n",
    "var = 'fields'\n",
    "ordering = (var, model_order)\n",
    "df = df[df[ordering[0]].isin(ordering[1])]\n",
    "df[ordering[0]] = pd.Categorical(df[ordering[0]], categories=ordering[1], ordered=True)\n",
    "df.sort_values([ordering[0], 'seed'], inplace=True)\n",
    "df"
   ],
   "metadata": {
    "collapsed": false
   }
  },
  {
   "cell_type": "code",
   "execution_count": 46,
   "outputs": [
    {
     "name": "stderr",
     "output_type": "stream",
     "text": [
      "/Users/elicarrami/PycharmProjects/cprt/cprt/analysis/analysis_utils.py:107: FutureWarning: The default of observed=False is deprecated and will be changed to True in a future version of pandas. Pass observed=False to retain current behavior or observed=True to adopt the future default and silence this warning.\n",
      "  return df.groupby(group_by).agg(['mean', 'std'])\n"
     ]
    },
    {
     "data": {
      "text/plain": "         is_real F1 is_enzyme F1   kingdom F1 localization F1 cofactor Recall  \\\n                                                                                \nfields                                                                          \nq         nan (nan)    nan (nan)    nan (nan)       nan (nan)       nan (nan)   \nqa       0.99 (0.0)   0.88 (0.0)  0.81 (0.01)     0.76 (0.01)     0.52 (0.03)   \nqa_real   nan (nan)    nan (nan)    nan (nan)       nan (nan)       nan (nan)   \ns         nan (nan)    nan (nan)    nan (nan)       nan (nan)       nan (nan)   \n\n        binary localization\\naverage F1   is_fake F1     MW MALE  perplexity  \\\n                                                                               \nfields                                                                         \nq                             nan (nan)    nan (nan)   nan (nan)   nan (nan)   \nqa                           0.34 (0.1)  0.63 (0.43)  0.04 (0.0)  2.1 (0.04)   \nqa_real                       nan (nan)    nan (nan)   nan (nan)   nan (nan)   \ns                             nan (nan)    nan (nan)   nan (nan)   nan (nan)   \n\n        in_membrane F1 in_nucleus F1 in_mitochondria F1  \n                                                         \nfields                                                   \nq            nan (nan)     nan (nan)          nan (nan)  \nqa         0.23 (0.02)    0.52 (0.2)        0.28 (0.12)  \nqa_real      nan (nan)     nan (nan)          nan (nan)  \ns            nan (nan)     nan (nan)          nan (nan)  ",
      "text/html": "<div>\n<style scoped>\n    .dataframe tbody tr th:only-of-type {\n        vertical-align: middle;\n    }\n\n    .dataframe tbody tr th {\n        vertical-align: top;\n    }\n\n    .dataframe thead tr th {\n        text-align: left;\n    }\n\n    .dataframe thead tr:last-of-type th {\n        text-align: right;\n    }\n</style>\n<table border=\"1\" class=\"dataframe\">\n  <thead>\n    <tr>\n      <th></th>\n      <th>is_real F1</th>\n      <th>is_enzyme F1</th>\n      <th>kingdom F1</th>\n      <th>localization F1</th>\n      <th>cofactor Recall</th>\n      <th>binary localization\\naverage F1</th>\n      <th>is_fake F1</th>\n      <th>MW MALE</th>\n      <th>perplexity</th>\n      <th>in_membrane F1</th>\n      <th>in_nucleus F1</th>\n      <th>in_mitochondria F1</th>\n    </tr>\n    <tr>\n      <th></th>\n      <th></th>\n      <th></th>\n      <th></th>\n      <th></th>\n      <th></th>\n      <th></th>\n      <th></th>\n      <th></th>\n      <th></th>\n      <th></th>\n      <th></th>\n      <th></th>\n    </tr>\n    <tr>\n      <th>fields</th>\n      <th></th>\n      <th></th>\n      <th></th>\n      <th></th>\n      <th></th>\n      <th></th>\n      <th></th>\n      <th></th>\n      <th></th>\n      <th></th>\n      <th></th>\n      <th></th>\n    </tr>\n  </thead>\n  <tbody>\n    <tr>\n      <th>q</th>\n      <td>nan (nan)</td>\n      <td>nan (nan)</td>\n      <td>nan (nan)</td>\n      <td>nan (nan)</td>\n      <td>nan (nan)</td>\n      <td>nan (nan)</td>\n      <td>nan (nan)</td>\n      <td>nan (nan)</td>\n      <td>nan (nan)</td>\n      <td>nan (nan)</td>\n      <td>nan (nan)</td>\n      <td>nan (nan)</td>\n    </tr>\n    <tr>\n      <th>qa</th>\n      <td>0.99 (0.0)</td>\n      <td>0.88 (0.0)</td>\n      <td>0.81 (0.01)</td>\n      <td>0.76 (0.01)</td>\n      <td>0.52 (0.03)</td>\n      <td>0.34 (0.1)</td>\n      <td>0.63 (0.43)</td>\n      <td>0.04 (0.0)</td>\n      <td>2.1 (0.04)</td>\n      <td>0.23 (0.02)</td>\n      <td>0.52 (0.2)</td>\n      <td>0.28 (0.12)</td>\n    </tr>\n    <tr>\n      <th>qa_real</th>\n      <td>nan (nan)</td>\n      <td>nan (nan)</td>\n      <td>nan (nan)</td>\n      <td>nan (nan)</td>\n      <td>nan (nan)</td>\n      <td>nan (nan)</td>\n      <td>nan (nan)</td>\n      <td>nan (nan)</td>\n      <td>nan (nan)</td>\n      <td>nan (nan)</td>\n      <td>nan (nan)</td>\n      <td>nan (nan)</td>\n    </tr>\n    <tr>\n      <th>s</th>\n      <td>nan (nan)</td>\n      <td>nan (nan)</td>\n      <td>nan (nan)</td>\n      <td>nan (nan)</td>\n      <td>nan (nan)</td>\n      <td>nan (nan)</td>\n      <td>nan (nan)</td>\n      <td>nan (nan)</td>\n      <td>nan (nan)</td>\n      <td>nan (nan)</td>\n      <td>nan (nan)</td>\n      <td>nan (nan)</td>\n    </tr>\n  </tbody>\n</table>\n</div>"
     },
     "execution_count": 46,
     "metadata": {},
     "output_type": "execute_result"
    }
   ],
   "source": [
    "metrics_names = {k:v for k, v in METRIC_NAMES.items() if 'rouge' not in k}\n",
    "agg_df = aggregate_metrics(df, group_by=var)\n",
    "agg_df = agg_df[[col for col in metrics_names]]\n",
    "\n",
    "for col, name in metrics_names.items():\n",
    "    agg_df[name] = round(agg_df[(col, 'mean')], 2).astype(str) + \" (\" + round(agg_df[(col, 'std')], 2).astype(str) + \")\"\n",
    "    agg_df.drop([(col, 'mean'), (col, 'std')], axis=1, inplace=True)\n",
    "\n",
    "agg_df.to_clipboard()\n",
    "agg_df"
   ],
   "metadata": {
    "collapsed": false
   }
  },
  {
   "cell_type": "code",
   "execution_count": 6,
   "outputs": [],
   "source": [],
   "metadata": {
    "collapsed": false
   }
  }
 ],
 "metadata": {
  "kernelspec": {
   "display_name": "Python 3",
   "language": "python",
   "name": "python3"
  },
  "language_info": {
   "codemirror_mode": {
    "name": "ipython",
    "version": 2
   },
   "file_extension": ".py",
   "mimetype": "text/x-python",
   "name": "python",
   "nbconvert_exporter": "python",
   "pygments_lexer": "ipython2",
   "version": "2.7.6"
  }
 },
 "nbformat": 4,
 "nbformat_minor": 0
}
