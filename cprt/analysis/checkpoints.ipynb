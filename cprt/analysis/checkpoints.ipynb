{
 "cells": [
  {
   "cell_type": "code",
   "execution_count": 1,
   "metadata": {
    "collapsed": true
   },
   "outputs": [],
   "source": [
    "all_ckpt = [\n",
    "\"0arnx3re_avid-dust-5_e0_s224085.ckpt\",\n",
    "\"0arnx3re_avid-dust-5_e1_s268906.ckpt\",\n",
    "\"1ew6wfl0_clear-yogurt-10_e0_s179444.ckpt\",\n",
    "\"1ew6wfl0_clear-yogurt-10_e1_s448613.ckpt\",\n",
    "\"1mx3q4x2_still-sky-3_e0_s75110.ckpt\",\n",
    "\"1mx3q4x2_still-sky-3_e1_s450663.ckpt\",\n",
    "\"1xvwntxd_polished-monkey-31_e0_s224085.ckpt\",\n",
    "\"2w4kwylv_polar-puddle-13_e0_s224200.ckpt\",\n",
    "\"59hm2ntz_fanciful-snowflake-36_e0_s224210.ckpt\",\n",
    "\"59hm2ntz_fanciful-snowflake-36_e0_s89684.ckpt\",\n",
    "\"5tpkeftt_worldly-grass-1_e1_s313896.ckpt\",\n",
    "\"5tpkeftt_worldly-grass-1_e1_s403580.ckpt\",\n",
    "\"5y2fdin6_iconic-sea-22_e0_s224088.ckpt\",\n",
    "\"5y2fdin6_iconic-sea-22_e1_s280111.ckpt\",\n",
    "\"6bym6ix5_mild-star-13_e1_s269054.ckpt\",\n",
    "\"6bym6ix5_mild-star-13_e2_s582950.ckpt\",\n",
    "\"8wbfzlav_proud-sea-37_e0_s300440.ckpt\",\n",
    "\"8wbfzlav_proud-sea-37_e0_s75110.ckpt\",\n",
    "\"epoch=0-step=75110.ckpt\",\n",
    "\"8wbfzlav_proud-sea-37_e1_s450663.ckpt\",\n",
    "\"9n7lc43f_solar-voice-33_e0_s150144.ckpt\",\n",
    "\"epoch=0-step=150144.ckpt\",\n",
    "\"9n7lc43f_solar-voice-33_e1_s487971.ckpt\",\n",
    "\"9n7lc43f_solar-voice-33_e1_s600579.ckpt\",\n",
    "\"ayuoptbu_atomic-oath-39_e9_s223990.ckpt\",\n",
    "\"dauntless-surf-44-224305.ckpt\",\n",
    "\"dauntless-surf-44-44861.ckpt\",\n",
    "\"di5jbhqh_celestial-spaceship-43_e0_s150312.ckpt\",\n",
    "\"di5jbhqh_celestial-spaceship-43_e0_s300624.ckpt\",\n",
    "\"di5jbhqh_celestial-spaceship-43_e0_s375780.ckpt\",\n",
    "\"ed97ji0r_ethereal-oath-18_e0_s337824.ckpt\",\n",
    "\"epoch=0-step=337824.ckpt\",\n",
    "\"ed97ji0r_ethereal-oath-18_e0_s375360.ckpt\",\n",
    "\"fm9pxtkz_treasured-pyramid-5_e1_s216679.ckpt\",\n",
    "\"fm9pxtkz_treasured-pyramid-5_e2_s397245.ckpt\",\n",
    "\"g254jhrn_decent-star-38_e9_s224250.ckpt\",\n",
    "\"epoch=0-step=150312.ckpt\",\n",
    "\"h95vdy7f_fresh-vortex-8_e0_s150312.ckpt\",\n",
    "\"h95vdy7f_fresh-vortex-8_e0_s375780.ckpt\",\n",
    "\"j83hdm29_sage-tree-27_e0_s168066.ckpt\",\n",
    "\"j83hdm29_sage-tree-27_e0_s224088.ckpt\",\n",
    "\"mddtrhcl_chocolate-field-67_e0_s56052.ckpt\",\n",
    "\"epoch=0-step=179444.ckpt\",\n",
    "\"nb30cnqt_dauntless-surf-44_e0_s179444.ckpt\",\n",
    "\"nb30cnqt_dauntless-surf-44_e1_s269169.ckpt\",\n",
    "\"nb30cnqt_dauntless-surf-44_e1_s358891.ckpt\",\n",
    "\"epoch=0-step=156856.ckpt\",\n",
    "\"pefb5f6v_legendary-glitter-15_e0_s156856.ckpt\",\n",
    "\"pefb5f6v_legendary-glitter-15_e0_s224080.ckpt\",\n",
    "\"vjfg92z9_polished-smoke-42_best_loss_step100840.ckpt\",\n",
    "\"vjfg92z9_polished-smoke-42_best_loss_step112044.ckpt\",\n",
    "\"qmqpl5l8_vague-silence-25_e1_s448177.ckpt\",\n",
    "\"qmqpl5l8_vague-silence-25_e2_s616244.ckpt\",\n",
    "\"s3pzfst6_vivid-wood-7_e0_s180715.ckpt\",\n",
    "\"s3pzfst6_vivid-wood-7_e1_s325287.ckpt\",\n",
    "\"epoch=1-step=448177.ckpt\",\n",
    "\"vd5nx0wu_serene-shadow-9_e0_s44817.ckpt\",\n",
    "\"vd5nx0wu_serene-shadow-9_e1_s313723.ckpt\",\n",
    "\"epoch=0-step=89684.ckpt\",\n",
    "\"wbr1szhx_northern-lake-32_e0_s89684.ckpt\",\n",
    "\"wbr1szhx_northern-lake-32_e1_s269054.ckpt\",\n",
    "]"
   ]
  },
  {
   "cell_type": "code",
   "execution_count": 2,
   "outputs": [],
   "source": [
    "names, steps = [], []\n",
    "for i in all_ckpt:\n",
    "    for x in i.rstrip(\".ckpt\").split(\"_\"):\n",
    "        if len(x.split(\"-\")) == 3:\n",
    "            names.append(x)\n",
    "            steps.append(int(i.strip(\".ckpt\").split(\"_\")[-1].strip(\"step\")))\n",
    "            break\n",
    "        if len(x.split(\"-\")) == 4:\n",
    "            names.append(\"-\".join(x.split(\"-\")[:3]))\n",
    "            steps.append(int(x.split(\"-\")[-1]))\n",
    "            break\n",
    "    else:\n",
    "        names.append(i)\n",
    "        steps.append(\"X\")\n",
    "all_steps = list(zip(names, steps))"
   ],
   "metadata": {
    "collapsed": false
   }
  },
  {
   "cell_type": "code",
   "execution_count": 3,
   "outputs": [],
   "source": [
    "import wandb\n",
    "import pandas as pd\n",
    "import json\n",
    "from analysis_utils import METRIC_NAMES\n",
    "import pickle"
   ],
   "metadata": {
    "collapsed": false
   }
  },
  {
   "cell_type": "code",
   "execution_count": 4,
   "outputs": [
    {
     "name": "stdout",
     "output_type": "stream",
     "text": [
      "polished-monkey-31 ethereal-oath-18 frosty-wildflower-63 glad-totem-62 northern-galaxy-53 dauntless-surf-44 confused-lion-43 snowy-sun-42 exalted-pyramid-41 major-puddle-40 earthy-planet-39 stoic-dragon-38 astral-salad-37 balmy-gorge-36 peach-vortex-35 quiet-wind-34 jumping-bush-33 visionary-bee-32 northern-lake-32 legendary-glitter-15 wobbly-firefly-31 expert-paper-30 golden-firebrand-28 comic-puddle-27 magic-surf-26 chocolate-fog-25 noble-feather-24 different-elevator-19 vivid-lake-18 toasty-snow-17 copper-jazz-16 breezy-violet-7 amber-cherry-15 laced-leaf-14 snowy-puddle-13 smart-flower-12 glowing-haze-11 hardy-butterfly-9 effortless-surf-8 solar-star-6 flowing-frog-5 clear-yogurt-10 crisp-resonance-64 devoted-wildflower-61 summer-leaf-52 rural-glade-24 scarlet-totem-23 wise-bush-22 misunderstood-waterfall-21 fanciful-snowflake-36 vague-silence-25 iconic-sea-22 elated-frog-8 pretty-butterfly-6 efficient-frost-5 volcanic-lion-4 chocolate-pyramid-3 young-salad-2 autumn-wildflower-1 elated-salad-40 devoted-haze-37 woven-universe-35 balmy-armadillo-34 clean-flower-33 dulcet-firefly-32 jumping-cherry-47 apricot-cloud-46 sandy-blaze-41 absurd-totem-40 rich-snow-24 fanciful-wood-23 swept-water-14 polar-puddle-13 cerulean-totem-3 solar-glade-2 serene-shadow-9 fresh-vortex-8 vivid-wood-7 magic-shape-6 avid-dust-5 helpful-aardvark-4 zany-spaceship-68 chocolate-field-67 kind-pond-66 vocal-leaf-65 hearty-darkness-18 dainty-hill-17 valiant-voice-16 logical-smoke-14 zero-shot vivid-dust-49 mild-star-13 cool-water-12 confused-dream-11 solar-pyramid-10 treasured-pyramid-5 still-sky-3 pious-puddle-2 worldly-grass-1 decent-dawn-48 ethereal-plant-47 charmed-eon-45 playful-sun-44 decent-water-43 polished-smoke-42 fancy-leaf-39 rural-forest-38 glorious-sea-45 celestial-spaceship-43 atomic-oath-39 decent-star-38 proud-sea-37 solar-voice-33 sage-tree-27 "
     ]
    }
   ],
   "source": [
    "data = {}\n",
    "for project in [\"clip\", \"Exp-0\", \"Exp-1\", \"Exp-2\", \"Final\"]:\n",
    "    api = wandb.Api()\n",
    "    runs = api.runs(f\"eli-carrami/Cprt-Paper-{project}\")\n",
    "    for r in runs:\n",
    "        print(r.name, end=\" \")\n",
    "        keys = ['metrics/val_metric'] if 'metrics/val_metric' in r.summary else \\\n",
    "            [i for i in METRIC_NAMES.keys() if '/' in i]\n",
    "        keys = [\"trainer/global_step\", \"epoch\"] + keys\n",
    "        data[r.name] = (\n",
    "            pd.DataFrame(r.scan_history(keys=keys if r.summary['_step'] > 0 else None)),\n",
    "            json.loads(r.json_config)\n",
    "        )\n",
    "with open(\"all_run_data.pkl\", \"wb\") as f:\n",
    "    pickle.dump(data, f)"
   ],
   "metadata": {
    "collapsed": false
   }
  },
  {
   "cell_type": "code",
   "execution_count": 5,
   "outputs": [
    {
     "data": {
      "text/plain": "['epoch=0-step=75110.ckpt',\n 'epoch=0-step=150144.ckpt',\n 'epoch=0-step=337824.ckpt',\n 'epoch=0-step=150312.ckpt',\n 'epoch=0-step=179444.ckpt',\n 'epoch=0-step=156856.ckpt',\n 'epoch=1-step=448177.ckpt',\n 'epoch=0-step=89684.ckpt']"
     },
     "execution_count": 5,
     "metadata": {},
     "output_type": "execute_result"
    }
   ],
   "source": [
    "with open(\"all_run_data.pkl\", \"rb\") as f:\n",
    "    data = pickle.load(f)\n",
    "[i for i in names if i not in data]"
   ],
   "metadata": {
    "collapsed": false
   }
  },
  {
   "cell_type": "code",
   "execution_count": 33,
   "outputs": [
    {
     "data": {
      "text/plain": "('avid-dust-5', 224085)"
     },
     "execution_count": 33,
     "metadata": {},
     "output_type": "execute_result"
    }
   ],
   "source": [
    "all_steps[0]"
   ],
   "metadata": {
    "collapsed": false
   }
  },
  {
   "cell_type": "code",
   "execution_count": 37,
   "outputs": [],
   "source": [
    "all_steps += [(\"zany-spaceship-68\", 134526), (\"zany-spaceship-68\", 224210)]\n",
    "import numpy as np\n",
    "out = []\n",
    "for n, s in all_steps:\n",
    "    if n in data:\n",
    "        d, c = data[n]\n",
    "        cnf = {\n",
    "            \"seed\": c['seed']['value'],\n",
    "            \"esm\": c['model']['value']['protein_model'],\n",
    "            \"llm\": c['model']['value']['language_model'],\n",
    "            \"strategy\": c['model']['value']['multimodal_strategy'],\n",
    "            \"latent\": c['model']['value']['perceiver_latent_size'],\n",
    "            \"scheduler\": c['model']['value'].get('schedulers', None),\n",
    "            \"clip\": c['trainer']['value'].get('gradient_clip_val', 0),\n",
    "            \"grad\": c['trainer']['value'].get('accumulate_grad_batches', 1),\n",
    "            \"fields\": str(c['datamodule']['value']['data_field_names'])\n",
    "        }\n",
    "        df = d[d[\"trainer/global_step\"] == s-1].assign(**cnf)\n",
    "    else:\n",
    "        nan_row = {col: np.nan for col in out[0].columns}\n",
    "        df = pd.DataFrame([nan_row])\n",
    "    out.append(df)"
   ],
   "metadata": {
    "collapsed": false
   }
  },
  {
   "cell_type": "code",
   "execution_count": 38,
   "outputs": [
    {
     "data": {
      "text/plain": "   trainer/global_step  epoch  biochem/val_is_real_f1  \\\n4               224209      0                0.983995   \n\n   biochem/val_is_enzyme_hard_f1  biochem/val_kingdom_f1  \\\n4                       0.882219                0.876001   \n\n   biochem/val_localization_f1  biochem/val_cofactor  biochem/val_is_fake_f1  \\\n4                     0.747379              0.494382                0.608322   \n\n   biochem/val_mw_error  metrics/val_perplexity  ...  \\\n4              0.018398                1.670057  ...   \n\n   biochem/val_in_mitochondria_f1  seed                  esm              llm  \\\n4                        0.050152     0  esm2_t33_650M_UR50D  microsoft/phi-2   \n\n          strategy  latent  scheduler  clip  grad  fields  \n4  cross-attention     100   warmup10     1     1      qa  \n\n[1 rows x 31 columns]",
      "text/html": "<div>\n<style scoped>\n    .dataframe tbody tr th:only-of-type {\n        vertical-align: middle;\n    }\n\n    .dataframe tbody tr th {\n        vertical-align: top;\n    }\n\n    .dataframe thead th {\n        text-align: right;\n    }\n</style>\n<table border=\"1\" class=\"dataframe\">\n  <thead>\n    <tr style=\"text-align: right;\">\n      <th></th>\n      <th>trainer/global_step</th>\n      <th>epoch</th>\n      <th>biochem/val_is_real_f1</th>\n      <th>biochem/val_is_enzyme_hard_f1</th>\n      <th>biochem/val_kingdom_f1</th>\n      <th>biochem/val_localization_f1</th>\n      <th>biochem/val_cofactor</th>\n      <th>biochem/val_is_fake_f1</th>\n      <th>biochem/val_mw_error</th>\n      <th>metrics/val_perplexity</th>\n      <th>...</th>\n      <th>biochem/val_in_mitochondria_f1</th>\n      <th>seed</th>\n      <th>esm</th>\n      <th>llm</th>\n      <th>strategy</th>\n      <th>latent</th>\n      <th>scheduler</th>\n      <th>clip</th>\n      <th>grad</th>\n      <th>fields</th>\n    </tr>\n  </thead>\n  <tbody>\n    <tr>\n      <th>4</th>\n      <td>224209</td>\n      <td>0</td>\n      <td>0.983995</td>\n      <td>0.882219</td>\n      <td>0.876001</td>\n      <td>0.747379</td>\n      <td>0.494382</td>\n      <td>0.608322</td>\n      <td>0.018398</td>\n      <td>1.670057</td>\n      <td>...</td>\n      <td>0.050152</td>\n      <td>0</td>\n      <td>esm2_t33_650M_UR50D</td>\n      <td>microsoft/phi-2</td>\n      <td>cross-attention</td>\n      <td>100</td>\n      <td>warmup10</td>\n      <td>1</td>\n      <td>1</td>\n      <td>qa</td>\n    </tr>\n  </tbody>\n</table>\n<p>1 rows × 31 columns</p>\n</div>"
     },
     "execution_count": 38,
     "metadata": {},
     "output_type": "execute_result"
    }
   ],
   "source": [
    "out[-1]"
   ],
   "metadata": {
    "collapsed": false
   }
  },
  {
   "cell_type": "code",
   "execution_count": 36,
   "outputs": [],
   "source": [
    "pd.concat(out).to_clipboard()"
   ],
   "metadata": {
    "collapsed": false
   }
  },
  {
   "cell_type": "code",
   "execution_count": 4,
   "outputs": [],
   "source": [
    "selected_list = [\n",
    "    \"vjfg92z9_polished-smoke-42_best_loss_step100840.ckpt\",\n",
    "    \"vd5nx0wu_serene-shadow-9_e1_s313723.ckpt\",\n",
    "    \"pefb5f6v_legendary-glitter-15_e0_s156856.ckpt\",\n",
    "    \"9n7lc43f_solar-voice-33_e0_s150144.ckpt\",\n",
    "    \"nb30cnqt_dauntless-surf-44_e1_s358891.ckpt\",\n",
    "    \"vd5nx0wu_serene-shadow-9_e0_s44817.ckpt\",\n",
    "    \"h95vdy7f_fresh-vortex-8_e0_s150312.ckpt\",\n",
    "    \"1xvwntxd_polished-monkey-31_e0_s224085.ckpt\",\n",
    "    \"fm9pxtkz_treasured-pyramid-5_e1_s216679.ckpt\"\n",
    "]\n",
    "selected_path = [\n",
    "    \"latest_dl/polished-smoke-42_best_loss_step100840.ckpt\",\n",
    "    \"boston_last_dl/set2/soft-prompt_t33_phi-2_7_loss/vd5nx0wu_serene-shadow-9_e1_s313723.ckpt\",\n",
    "    \"boston_dl2/reduced_checkpoints/soft-prompt_t33_phi-2_7_f1/pefb5f6v_legendary-glitter-15_e0_s156856.ckpt\",\n",
    "    \"boston_dl3/reduced_checkpoints/soft-prompt_t33_phi-2_7_f1/9n7lc43f_solar-voice-33_e0_s150144.ckpt\",\n",
    "    \"boston_dl3/reduced_checkpoints/soft-prompt_t33_phi-2_42_loss/nb30cnqt_dauntless-surf-44_e1_s358891.ckpt\",\n",
    "    \"boston_last_dl/set2/soft-prompt_t33_phi-2_7_f1/vd5nx0wu_serene-shadow-9_e0_s44817.ckpt\",\n",
    "    \"boston_last_dl/set3/soft-prompt_t33_phi-2_42_f1/h95vdy7f_fresh-vortex-8_e0_s150312.ckpt\",\n",
    "    \"boston_dl2/reduced_checkpoints/cross-attention_t12_phi-2_7_loss/1xvwntxd_polished-monkey-31_e0_s224085.ckpt\",\n",
    "    \"boston_last_dl/set1/soft-prompt_t33_phi-2_0_f1/fm9pxtkz_treasured-pyramid-5_e1_s216679.ckpt\"\n",
    "]"
   ],
   "metadata": {
    "collapsed": false
   }
  },
  {
   "cell_type": "code",
   "execution_count": 44,
   "outputs": [],
   "source": [
    "import shutil\n",
    "for f in selected_path:\n",
    "    shutil.move(f\"/Users/elicarrami/all_checkpoints/{f}\", \"/Users/elicarrami/all_checkpoints/upload\")"
   ],
   "metadata": {
    "collapsed": false
   }
  },
  {
   "cell_type": "code",
   "execution_count": 6,
   "outputs": [
    {
     "name": "stdout",
     "output_type": "stream",
     "text": [
      "pefb5f6v_legendary-glitter-15_e0_s156856.ckpt 156856 legendary-glitter-15 pefb5f6v\n"
     ]
    },
    {
     "data": {
      "text/plain": "<IPython.core.display.HTML object>",
      "text/html": "wandb version 0.16.2 is available!  To upgrade, please run:\n $ pip install wandb --upgrade"
     },
     "metadata": {},
     "output_type": "display_data"
    },
    {
     "data": {
      "text/plain": "<IPython.core.display.HTML object>",
      "text/html": "Tracking run with wandb version 0.15.12"
     },
     "metadata": {},
     "output_type": "display_data"
    },
    {
     "data": {
      "text/plain": "<IPython.core.display.HTML object>",
      "text/html": "Run data is saved locally in <code>/Users/elicarrami/PycharmProjects/cprt/cprt/analysis/wandb/run-20240125_122819-pefb5f6v</code>"
     },
     "metadata": {},
     "output_type": "display_data"
    },
    {
     "data": {
      "text/plain": "<IPython.core.display.HTML object>",
      "text/html": "Resuming run <strong><a href='https://wandb.ai/eli-carrami/Cprt-Paper-Checkpoints/runs/pefb5f6v' target=\"_blank\">legendary-glitter-15</a></strong> to <a href='https://wandb.ai/eli-carrami/Cprt-Paper-Checkpoints' target=\"_blank\">Weights & Biases</a> (<a href='https://wandb.me/run' target=\"_blank\">docs</a>)<br/>"
     },
     "metadata": {},
     "output_type": "display_data"
    },
    {
     "data": {
      "text/plain": "<IPython.core.display.HTML object>",
      "text/html": " View project at <a href='https://wandb.ai/eli-carrami/Cprt-Paper-Checkpoints' target=\"_blank\">https://wandb.ai/eli-carrami/Cprt-Paper-Checkpoints</a>"
     },
     "metadata": {},
     "output_type": "display_data"
    },
    {
     "data": {
      "text/plain": "<IPython.core.display.HTML object>",
      "text/html": " View run at <a href='https://wandb.ai/eli-carrami/Cprt-Paper-Checkpoints/runs/pefb5f6v' target=\"_blank\">https://wandb.ai/eli-carrami/Cprt-Paper-Checkpoints/runs/pefb5f6v</a>"
     },
     "metadata": {},
     "output_type": "display_data"
    },
    {
     "data": {
      "text/plain": "<IPython.core.display.HTML object>",
      "text/html": "Waiting for W&B process to finish... <strong style=\"color:green\">(success).</strong>"
     },
     "metadata": {},
     "output_type": "display_data"
    },
    {
     "data": {
      "text/plain": "VBox(children=(Label(value='470.989 MB of 470.994 MB uploaded (0.000 MB deduped)\\r'), FloatProgress(value=0.99…",
      "application/vnd.jupyter.widget-view+json": {
       "version_major": 2,
       "version_minor": 0,
       "model_id": "4148edc02d1644c185aa828243348728"
      }
     },
     "metadata": {},
     "output_type": "display_data"
    },
    {
     "data": {
      "text/plain": "<IPython.core.display.HTML object>",
      "text/html": "<style>\n    table.wandb td:nth-child(1) { padding: 0 10px; text-align: left ; width: auto;} td:nth-child(2) {text-align: left ; width: 100%}\n    .wandb-row { display: flex; flex-direction: row; flex-wrap: wrap; justify-content: flex-start; width: 100% }\n    .wandb-col { display: flex; flex-direction: column; flex-basis: 100%; flex: 1; padding: 10px; }\n    </style>\n<div class=\"wandb-row\"><div class=\"wandb-col\"><h3>Run summary:</h3><br/><table class=\"wandb\"><tr><td>biochem/val_average_semantic_localization</td><td>0.55551</td></tr><tr><td>biochem/val_cofactor</td><td>0.6087</td></tr><tr><td>biochem/val_in_membrane_balanced_accuracy</td><td>0.56147</td></tr><tr><td>biochem/val_in_membrane_f1</td><td>0.31448</td></tr><tr><td>biochem/val_in_mitochondria_balanced_accuracy</td><td>0.63772</td></tr><tr><td>biochem/val_in_mitochondria_f1</td><td>0.27083</td></tr><tr><td>biochem/val_in_nucleus_balanced_accuracy</td><td>0.83866</td></tr><tr><td>biochem/val_in_nucleus_f1</td><td>0.70989</td></tr><tr><td>biochem/val_is_enzyme_balanced_accuracy</td><td>0.89624</td></tr><tr><td>biochem/val_is_enzyme_f1</td><td>0.89604</td></tr><tr><td>biochem/val_is_enzyme_hard_balanced_accuracy</td><td>0.89624</td></tr><tr><td>biochem/val_is_enzyme_hard_f1</td><td>0.89604</td></tr><tr><td>biochem/val_is_fake_balanced_accuracy</td><td>0.63913</td></tr><tr><td>biochem/val_is_fake_f1</td><td>0.588</td></tr><tr><td>biochem/val_is_real_balanced_accuracy</td><td>0.98971</td></tr><tr><td>biochem/val_is_real_f1</td><td>0.9901</td></tr><tr><td>biochem/val_kingdom_archaea_accuracy</td><td>0.82759</td></tr><tr><td>biochem/val_kingdom_bacteria_accuracy</td><td>0.95547</td></tr><tr><td>biochem/val_kingdom_balanced_accuracy</td><td>0.72659</td></tr><tr><td>biochem/val_kingdom_eukaryota_accuracy</td><td>0.39673</td></tr><tr><td>biochem/val_kingdom_f1</td><td>0.78401</td></tr><tr><td>biochem/val_localization_balanced_accuracy</td><td>0.65442</td></tr><tr><td>biochem/val_localization_f1</td><td>0.75083</td></tr><tr><td>biochem/val_localization_membrane_accuracy</td><td>0.87109</td></tr><tr><td>biochem/val_localization_mitochondrion_accuracy</td><td>0.33333</td></tr><tr><td>biochem/val_localization_nucleus_accuracy</td><td>0.75882</td></tr><tr><td>biochem/val_mw_error</td><td>0.0355</td></tr><tr><td>epoch</td><td>0</td></tr><tr><td>loss/train_loss</td><td>0.53154</td></tr><tr><td>loss/val_loss</td><td>0.65124</td></tr><tr><td>metrics/train_perplexity</td><td>1.99963</td></tr><tr><td>metrics/val_perplexity</td><td>1.91753</td></tr><tr><td>metrics/val_rouge1_fmeasure</td><td>0.66647</td></tr><tr><td>metrics/val_rouge1_precision</td><td>0.71182</td></tr><tr><td>metrics/val_rouge1_recall</td><td>0.62761</td></tr><tr><td>metrics/val_rouge2_fmeasure</td><td>0.51313</td></tr><tr><td>metrics/val_rouge2_precision</td><td>0.55125</td></tr><tr><td>metrics/val_rouge2_recall</td><td>0.481</td></tr><tr><td>metrics/val_rougeL_fmeasure</td><td>0.65189</td></tr><tr><td>metrics/val_rougeL_precision</td><td>0.69599</td></tr><tr><td>metrics/val_rougeL_recall</td><td>0.61407</td></tr><tr><td>metrics/val_rougeLsum_fmeasure</td><td>0.65477</td></tr><tr><td>metrics/val_rougeLsum_precision</td><td>0.69901</td></tr><tr><td>metrics/val_rougeLsum_recall</td><td>0.61681</td></tr><tr><td>trainer/global_step</td><td>224079</td></tr></table><br/></div></div>"
     },
     "metadata": {},
     "output_type": "display_data"
    },
    {
     "data": {
      "text/plain": "<IPython.core.display.HTML object>",
      "text/html": " View run <strong style=\"color:#cdcd00\">legendary-glitter-15</strong> at: <a href='https://wandb.ai/eli-carrami/Cprt-Paper-Checkpoints/runs/pefb5f6v' target=\"_blank\">https://wandb.ai/eli-carrami/Cprt-Paper-Checkpoints/runs/pefb5f6v</a><br/>Synced 2 W&B file(s), 0 media file(s), 1 artifact file(s) and 0 other file(s)"
     },
     "metadata": {},
     "output_type": "display_data"
    },
    {
     "data": {
      "text/plain": "<IPython.core.display.HTML object>",
      "text/html": "Find logs at: <code>./wandb/run-20240125_122819-pefb5f6v/logs</code>"
     },
     "metadata": {},
     "output_type": "display_data"
    },
    {
     "name": "stdout",
     "output_type": "stream",
     "text": [
      "9n7lc43f_solar-voice-33_e0_s150144.ckpt 150144 solar-voice-33 9n7lc43f\n"
     ]
    },
    {
     "data": {
      "text/plain": "VBox(children=(Label(value='Waiting for wandb.init()...\\r'), FloatProgress(value=0.011168085649195645, max=1.0…",
      "application/vnd.jupyter.widget-view+json": {
       "version_major": 2,
       "version_minor": 0,
       "model_id": "9640962fd4a040e4821d2e7980b54685"
      }
     },
     "metadata": {},
     "output_type": "display_data"
    },
    {
     "data": {
      "text/plain": "<IPython.core.display.HTML object>",
      "text/html": "wandb version 0.16.2 is available!  To upgrade, please run:\n $ pip install wandb --upgrade"
     },
     "metadata": {},
     "output_type": "display_data"
    },
    {
     "data": {
      "text/plain": "<IPython.core.display.HTML object>",
      "text/html": "Tracking run with wandb version 0.15.12"
     },
     "metadata": {},
     "output_type": "display_data"
    },
    {
     "data": {
      "text/plain": "<IPython.core.display.HTML object>",
      "text/html": "Run data is saved locally in <code>/Users/elicarrami/PycharmProjects/cprt/cprt/analysis/wandb/run-20240125_123206-9n7lc43f</code>"
     },
     "metadata": {},
     "output_type": "display_data"
    },
    {
     "data": {
      "text/plain": "<IPython.core.display.HTML object>",
      "text/html": "Resuming run <strong><a href='https://wandb.ai/eli-carrami/Cprt-Paper-Checkpoints/runs/9n7lc43f' target=\"_blank\">solar-voice-33</a></strong> to <a href='https://wandb.ai/eli-carrami/Cprt-Paper-Checkpoints' target=\"_blank\">Weights & Biases</a> (<a href='https://wandb.me/run' target=\"_blank\">docs</a>)<br/>"
     },
     "metadata": {},
     "output_type": "display_data"
    },
    {
     "data": {
      "text/plain": "<IPython.core.display.HTML object>",
      "text/html": " View project at <a href='https://wandb.ai/eli-carrami/Cprt-Paper-Checkpoints' target=\"_blank\">https://wandb.ai/eli-carrami/Cprt-Paper-Checkpoints</a>"
     },
     "metadata": {},
     "output_type": "display_data"
    },
    {
     "data": {
      "text/plain": "<IPython.core.display.HTML object>",
      "text/html": " View run at <a href='https://wandb.ai/eli-carrami/Cprt-Paper-Checkpoints/runs/9n7lc43f' target=\"_blank\">https://wandb.ai/eli-carrami/Cprt-Paper-Checkpoints/runs/9n7lc43f</a>"
     },
     "metadata": {},
     "output_type": "display_data"
    },
    {
     "data": {
      "text/plain": "<IPython.core.display.HTML object>",
      "text/html": "Waiting for W&B process to finish... <strong style=\"color:green\">(success).</strong>"
     },
     "metadata": {},
     "output_type": "display_data"
    },
    {
     "data": {
      "text/plain": "VBox(children=(Label(value='470.988 MB of 470.988 MB uploaded (0.000 MB deduped)\\r'), FloatProgress(value=1.0,…",
      "application/vnd.jupyter.widget-view+json": {
       "version_major": 2,
       "version_minor": 0,
       "model_id": "39416821fcbb409eaa0c1a1fe8a5a36f"
      }
     },
     "metadata": {},
     "output_type": "display_data"
    },
    {
     "data": {
      "text/plain": "<IPython.core.display.HTML object>",
      "text/html": "<style>\n    table.wandb td:nth-child(1) { padding: 0 10px; text-align: left ; width: auto;} td:nth-child(2) {text-align: left ; width: 100%}\n    .wandb-row { display: flex; flex-direction: row; flex-wrap: wrap; justify-content: flex-start; width: 100% }\n    .wandb-col { display: flex; flex-direction: column; flex-basis: 100%; flex: 1; padding: 10px; }\n    </style>\n<div class=\"wandb-row\"><div class=\"wandb-col\"><h3>Run summary:</h3><br/><table class=\"wandb\"><tr><td>biochem/val_average_semantic_localization</td><td>0.58925</td></tr><tr><td>biochem/val_cofactor</td><td>0.62174</td></tr><tr><td>biochem/val_in_membrane_balanced_accuracy</td><td>0.62545</td></tr><tr><td>biochem/val_in_membrane_f1</td><td>0.43266</td></tr><tr><td>biochem/val_in_mitochondria_balanced_accuracy</td><td>0.67586</td></tr><tr><td>biochem/val_in_mitochondria_f1</td><td>0.34113</td></tr><tr><td>biochem/val_in_nucleus_balanced_accuracy</td><td>0.79875</td></tr><tr><td>biochem/val_in_nucleus_f1</td><td>0.66162</td></tr><tr><td>biochem/val_is_enzyme_balanced_accuracy</td><td>0.89092</td></tr><tr><td>biochem/val_is_enzyme_f1</td><td>0.89048</td></tr><tr><td>biochem/val_is_enzyme_hard_balanced_accuracy</td><td>0.88432</td></tr><tr><td>biochem/val_is_enzyme_hard_f1</td><td>0.88525</td></tr><tr><td>biochem/val_is_fake_balanced_accuracy</td><td>0.7377</td></tr><tr><td>biochem/val_is_fake_f1</td><td>0.71994</td></tr><tr><td>biochem/val_is_real_balanced_accuracy</td><td>0.98817</td></tr><tr><td>biochem/val_is_real_f1</td><td>0.98812</td></tr><tr><td>biochem/val_kingdom_archaea_accuracy</td><td>0.89655</td></tr><tr><td>biochem/val_kingdom_bacteria_accuracy</td><td>0.93117</td></tr><tr><td>biochem/val_kingdom_balanced_accuracy</td><td>0.83163</td></tr><tr><td>biochem/val_kingdom_eukaryota_accuracy</td><td>0.66716</td></tr><tr><td>biochem/val_kingdom_f1</td><td>0.84198</td></tr><tr><td>biochem/val_localization_balanced_accuracy</td><td>0.631</td></tr><tr><td>biochem/val_localization_f1</td><td>0.72703</td></tr><tr><td>biochem/val_localization_membrane_accuracy</td><td>0.84375</td></tr><tr><td>biochem/val_localization_mitochondrion_accuracy</td><td>0.2963</td></tr><tr><td>biochem/val_localization_nucleus_accuracy</td><td>0.75294</td></tr><tr><td>biochem/val_mw_error</td><td>0.05756</td></tr><tr><td>epoch</td><td>1</td></tr><tr><td>loss/train_loss</td><td>0.64724</td></tr><tr><td>loss/val_loss</td><td>0.73251</td></tr><tr><td>metrics/val_perplexity</td><td>2.0765</td></tr><tr><td>metrics/val_rouge1_fmeasure</td><td>0.64291</td></tr><tr><td>metrics/val_rouge1_precision</td><td>0.68663</td></tr><tr><td>metrics/val_rouge1_recall</td><td>0.60544</td></tr><tr><td>metrics/val_rouge2_fmeasure</td><td>0.47476</td></tr><tr><td>metrics/val_rouge2_precision</td><td>0.50973</td></tr><tr><td>metrics/val_rouge2_recall</td><td>0.44524</td></tr><tr><td>metrics/val_rougeL_fmeasure</td><td>0.63253</td></tr><tr><td>metrics/val_rougeL_precision</td><td>0.67546</td></tr><tr><td>metrics/val_rougeL_recall</td><td>0.59571</td></tr><tr><td>metrics/val_rougeLsum_fmeasure</td><td>0.63421</td></tr><tr><td>metrics/val_rougeLsum_precision</td><td>0.67724</td></tr><tr><td>metrics/val_rougeLsum_recall</td><td>0.59731</td></tr><tr><td>trainer/global_step</td><td>627849</td></tr></table><br/></div></div>"
     },
     "metadata": {},
     "output_type": "display_data"
    },
    {
     "data": {
      "text/plain": "<IPython.core.display.HTML object>",
      "text/html": " View run <strong style=\"color:#cdcd00\">solar-voice-33</strong> at: <a href='https://wandb.ai/eli-carrami/Cprt-Paper-Checkpoints/runs/9n7lc43f' target=\"_blank\">https://wandb.ai/eli-carrami/Cprt-Paper-Checkpoints/runs/9n7lc43f</a><br/>Synced 2 W&B file(s), 0 media file(s), 1 artifact file(s) and 0 other file(s)"
     },
     "metadata": {},
     "output_type": "display_data"
    },
    {
     "data": {
      "text/plain": "<IPython.core.display.HTML object>",
      "text/html": "Find logs at: <code>./wandb/run-20240125_123206-9n7lc43f/logs</code>"
     },
     "metadata": {},
     "output_type": "display_data"
    },
    {
     "name": "stdout",
     "output_type": "stream",
     "text": [
      "nb30cnqt_dauntless-surf-44_e1_s358891.ckpt 358891 dauntless-surf-44 nb30cnqt\n"
     ]
    },
    {
     "data": {
      "text/plain": "VBox(children=(Label(value='Waiting for wandb.init()...\\r'), FloatProgress(value=0.011133284256276157, max=1.0…",
      "application/vnd.jupyter.widget-view+json": {
       "version_major": 2,
       "version_minor": 0,
       "model_id": "d120c92333054b5dae960085ff511218"
      }
     },
     "metadata": {},
     "output_type": "display_data"
    },
    {
     "data": {
      "text/plain": "<IPython.core.display.HTML object>",
      "text/html": "wandb version 0.16.2 is available!  To upgrade, please run:\n $ pip install wandb --upgrade"
     },
     "metadata": {},
     "output_type": "display_data"
    },
    {
     "data": {
      "text/plain": "<IPython.core.display.HTML object>",
      "text/html": "Tracking run with wandb version 0.15.12"
     },
     "metadata": {},
     "output_type": "display_data"
    },
    {
     "data": {
      "text/plain": "<IPython.core.display.HTML object>",
      "text/html": "Run data is saved locally in <code>/Users/elicarrami/PycharmProjects/cprt/cprt/analysis/wandb/run-20240125_123557-nb30cnqt</code>"
     },
     "metadata": {},
     "output_type": "display_data"
    },
    {
     "data": {
      "text/plain": "<IPython.core.display.HTML object>",
      "text/html": "Resuming run <strong><a href='https://wandb.ai/eli-carrami/Cprt-Paper-Checkpoints/runs/nb30cnqt' target=\"_blank\">dauntless-surf-44</a></strong> to <a href='https://wandb.ai/eli-carrami/Cprt-Paper-Checkpoints' target=\"_blank\">Weights & Biases</a> (<a href='https://wandb.me/run' target=\"_blank\">docs</a>)<br/>"
     },
     "metadata": {},
     "output_type": "display_data"
    },
    {
     "data": {
      "text/plain": "<IPython.core.display.HTML object>",
      "text/html": " View project at <a href='https://wandb.ai/eli-carrami/Cprt-Paper-Checkpoints' target=\"_blank\">https://wandb.ai/eli-carrami/Cprt-Paper-Checkpoints</a>"
     },
     "metadata": {},
     "output_type": "display_data"
    },
    {
     "data": {
      "text/plain": "<IPython.core.display.HTML object>",
      "text/html": " View run at <a href='https://wandb.ai/eli-carrami/Cprt-Paper-Checkpoints/runs/nb30cnqt' target=\"_blank\">https://wandb.ai/eli-carrami/Cprt-Paper-Checkpoints/runs/nb30cnqt</a>"
     },
     "metadata": {},
     "output_type": "display_data"
    },
    {
     "data": {
      "text/plain": "<IPython.core.display.HTML object>",
      "text/html": "Waiting for W&B process to finish... <strong style=\"color:green\">(success).</strong>"
     },
     "metadata": {},
     "output_type": "display_data"
    },
    {
     "data": {
      "text/plain": "VBox(children=(Label(value='470.989 MB of 470.994 MB uploaded (0.000 MB deduped)\\r'), FloatProgress(value=0.99…",
      "application/vnd.jupyter.widget-view+json": {
       "version_major": 2,
       "version_minor": 0,
       "model_id": "c67a107443304450b6eb8bfe9691ecae"
      }
     },
     "metadata": {},
     "output_type": "display_data"
    },
    {
     "data": {
      "text/plain": "<IPython.core.display.HTML object>",
      "text/html": "<style>\n    table.wandb td:nth-child(1) { padding: 0 10px; text-align: left ; width: auto;} td:nth-child(2) {text-align: left ; width: 100%}\n    .wandb-row { display: flex; flex-direction: row; flex-wrap: wrap; justify-content: flex-start; width: 100% }\n    .wandb-col { display: flex; flex-direction: column; flex-basis: 100%; flex: 1; padding: 10px; }\n    </style>\n<div class=\"wandb-row\"><div class=\"wandb-col\"><h3>Run summary:</h3><br/><table class=\"wandb\"><tr><td>biochem/val_average_semantic_localization</td><td>0.55238</td></tr><tr><td>biochem/val_cofactor</td><td>0.60606</td></tr><tr><td>biochem/val_in_membrane_balanced_accuracy</td><td>0.58562</td></tr><tr><td>biochem/val_in_membrane_f1</td><td>0.38935</td></tr><tr><td>biochem/val_in_mitochondria_balanced_accuracy</td><td>0.62845</td></tr><tr><td>biochem/val_in_mitochondria_f1</td><td>0.40039</td></tr><tr><td>biochem/val_in_nucleus_balanced_accuracy</td><td>0.74908</td></tr><tr><td>biochem/val_in_nucleus_f1</td><td>0.56142</td></tr><tr><td>biochem/val_is_enzyme_balanced_accuracy</td><td>0.88774</td></tr><tr><td>biochem/val_is_enzyme_f1</td><td>0.88868</td></tr><tr><td>biochem/val_is_enzyme_hard_balanced_accuracy</td><td>0.88263</td></tr><tr><td>biochem/val_is_enzyme_hard_f1</td><td>0.88372</td></tr><tr><td>biochem/val_is_fake_balanced_accuracy</td><td>0.49831</td></tr><tr><td>biochem/val_is_fake_f1</td><td>0.32239</td></tr><tr><td>biochem/val_is_real_balanced_accuracy</td><td>0.98646</td></tr><tr><td>biochem/val_is_real_f1</td><td>0.98703</td></tr><tr><td>biochem/val_kingdom_archaea_accuracy</td><td>0.90909</td></tr><tr><td>biochem/val_kingdom_bacteria_accuracy</td><td>0.95609</td></tr><tr><td>biochem/val_kingdom_balanced_accuracy</td><td>0.9091</td></tr><tr><td>biochem/val_kingdom_eukaryota_accuracy</td><td>0.86212</td></tr><tr><td>biochem/val_kingdom_f1</td><td>0.90112</td></tr><tr><td>biochem/val_localization_balanced_accuracy</td><td>0.60064</td></tr><tr><td>biochem/val_localization_f1</td><td>0.69995</td></tr><tr><td>biochem/val_localization_membrane_accuracy</td><td>0.85816</td></tr><tr><td>biochem/val_localization_mitochondrion_accuracy</td><td>0.25</td></tr><tr><td>biochem/val_localization_nucleus_accuracy</td><td>0.69375</td></tr><tr><td>biochem/val_mw_error</td><td>0.02876</td></tr><tr><td>epoch</td><td>1</td></tr><tr><td>loss/train_loss</td><td>0.57799</td></tr><tr><td>loss/val_loss</td><td>0.63755</td></tr><tr><td>metrics/val_perplexity</td><td>1.89238</td></tr><tr><td>metrics/val_rouge1_fmeasure</td><td>0.65245</td></tr><tr><td>metrics/val_rouge1_precision</td><td>0.66348</td></tr><tr><td>metrics/val_rouge1_recall</td><td>0.64348</td></tr><tr><td>metrics/val_rouge2_fmeasure</td><td>0.49832</td></tr><tr><td>metrics/val_rouge2_precision</td><td>0.50733</td></tr><tr><td>metrics/val_rouge2_recall</td><td>0.49115</td></tr><tr><td>metrics/val_rougeL_fmeasure</td><td>0.63876</td></tr><tr><td>metrics/val_rougeL_precision</td><td>0.64953</td></tr><tr><td>metrics/val_rougeL_recall</td><td>0.63</td></tr><tr><td>metrics/val_rougeLsum_fmeasure</td><td>0.64206</td></tr><tr><td>metrics/val_rougeLsum_precision</td><td>0.6529</td></tr><tr><td>metrics/val_rougeLsum_recall</td><td>0.63324</td></tr><tr><td>trainer/global_step</td><td>397799</td></tr></table><br/></div></div>"
     },
     "metadata": {},
     "output_type": "display_data"
    },
    {
     "data": {
      "text/plain": "<IPython.core.display.HTML object>",
      "text/html": " View run <strong style=\"color:#cdcd00\">dauntless-surf-44</strong> at: <a href='https://wandb.ai/eli-carrami/Cprt-Paper-Checkpoints/runs/nb30cnqt' target=\"_blank\">https://wandb.ai/eli-carrami/Cprt-Paper-Checkpoints/runs/nb30cnqt</a><br/>Synced 2 W&B file(s), 0 media file(s), 1 artifact file(s) and 0 other file(s)"
     },
     "metadata": {},
     "output_type": "display_data"
    },
    {
     "data": {
      "text/plain": "<IPython.core.display.HTML object>",
      "text/html": "Find logs at: <code>./wandb/run-20240125_123557-nb30cnqt/logs</code>"
     },
     "metadata": {},
     "output_type": "display_data"
    },
    {
     "name": "stdout",
     "output_type": "stream",
     "text": [
      "vd5nx0wu_serene-shadow-9_e0_s44817.ckpt 44817 serene-shadow-9 vd5nx0wu\n"
     ]
    },
    {
     "data": {
      "text/plain": "VBox(children=(Label(value='Waiting for wandb.init()...\\r'), FloatProgress(value=0.011168570371551646, max=1.0…",
      "application/vnd.jupyter.widget-view+json": {
       "version_major": 2,
       "version_minor": 0,
       "model_id": "2c65f169565f4658816b34d9142dd02c"
      }
     },
     "metadata": {},
     "output_type": "display_data"
    },
    {
     "data": {
      "text/plain": "<IPython.core.display.HTML object>",
      "text/html": "wandb version 0.16.2 is available!  To upgrade, please run:\n $ pip install wandb --upgrade"
     },
     "metadata": {},
     "output_type": "display_data"
    },
    {
     "data": {
      "text/plain": "<IPython.core.display.HTML object>",
      "text/html": "Tracking run with wandb version 0.15.12"
     },
     "metadata": {},
     "output_type": "display_data"
    },
    {
     "data": {
      "text/plain": "<IPython.core.display.HTML object>",
      "text/html": "Run data is saved locally in <code>/Users/elicarrami/PycharmProjects/cprt/cprt/analysis/wandb/run-20240125_123947-vd5nx0wu</code>"
     },
     "metadata": {},
     "output_type": "display_data"
    },
    {
     "data": {
      "text/plain": "<IPython.core.display.HTML object>",
      "text/html": "Resuming run <strong><a href='https://wandb.ai/eli-carrami/Cprt-Paper-Checkpoints/runs/vd5nx0wu' target=\"_blank\">serene-shadow-9</a></strong> to <a href='https://wandb.ai/eli-carrami/Cprt-Paper-Checkpoints' target=\"_blank\">Weights & Biases</a> (<a href='https://wandb.me/run' target=\"_blank\">docs</a>)<br/>"
     },
     "metadata": {},
     "output_type": "display_data"
    },
    {
     "data": {
      "text/plain": "<IPython.core.display.HTML object>",
      "text/html": " View project at <a href='https://wandb.ai/eli-carrami/Cprt-Paper-Checkpoints' target=\"_blank\">https://wandb.ai/eli-carrami/Cprt-Paper-Checkpoints</a>"
     },
     "metadata": {},
     "output_type": "display_data"
    },
    {
     "data": {
      "text/plain": "<IPython.core.display.HTML object>",
      "text/html": " View run at <a href='https://wandb.ai/eli-carrami/Cprt-Paper-Checkpoints/runs/vd5nx0wu' target=\"_blank\">https://wandb.ai/eli-carrami/Cprt-Paper-Checkpoints/runs/vd5nx0wu</a>"
     },
     "metadata": {},
     "output_type": "display_data"
    },
    {
     "data": {
      "text/plain": "<IPython.core.display.HTML object>",
      "text/html": "Waiting for W&B process to finish... <strong style=\"color:green\">(success).</strong>"
     },
     "metadata": {},
     "output_type": "display_data"
    },
    {
     "data": {
      "text/plain": "VBox(children=(Label(value='470.988 MB of 470.993 MB uploaded (0.000 MB deduped)\\r'), FloatProgress(value=0.99…",
      "application/vnd.jupyter.widget-view+json": {
       "version_major": 2,
       "version_minor": 0,
       "model_id": "1d8fd908bddd45eda3bab4ca1e20f0a5"
      }
     },
     "metadata": {},
     "output_type": "display_data"
    },
    {
     "data": {
      "text/plain": "<IPython.core.display.HTML object>",
      "text/html": "<style>\n    table.wandb td:nth-child(1) { padding: 0 10px; text-align: left ; width: auto;} td:nth-child(2) {text-align: left ; width: 100%}\n    .wandb-row { display: flex; flex-direction: row; flex-wrap: wrap; justify-content: flex-start; width: 100% }\n    .wandb-col { display: flex; flex-direction: column; flex-basis: 100%; flex: 1; padding: 10px; }\n    </style>\n<div class=\"wandb-row\"><div class=\"wandb-col\"><h3>Run summary:</h3><br/><table class=\"wandb\"><tr><td>biochem/val_average_semantic_localization</td><td>0.43201</td></tr><tr><td>biochem/val_cofactor</td><td>0.60435</td></tr><tr><td>biochem/val_in_membrane_balanced_accuracy</td><td>0.55151</td></tr><tr><td>biochem/val_in_membrane_f1</td><td>0.29828</td></tr><tr><td>biochem/val_in_mitochondria_balanced_accuracy</td><td>0.57072</td></tr><tr><td>biochem/val_in_mitochondria_f1</td><td>0.17103</td></tr><tr><td>biochem/val_in_nucleus_balanced_accuracy</td><td>0.63444</td></tr><tr><td>biochem/val_in_nucleus_f1</td><td>0.36608</td></tr><tr><td>biochem/val_is_enzyme_balanced_accuracy</td><td>0.89839</td></tr><tr><td>biochem/val_is_enzyme_f1</td><td>0.89768</td></tr><tr><td>biochem/val_is_enzyme_hard_balanced_accuracy</td><td>0.89633</td></tr><tr><td>biochem/val_is_enzyme_hard_f1</td><td>0.89534</td></tr><tr><td>biochem/val_is_fake_balanced_accuracy</td><td>0.49527</td></tr><tr><td>biochem/val_is_fake_f1</td><td>0.33349</td></tr><tr><td>biochem/val_is_real_balanced_accuracy</td><td>0.99447</td></tr><tr><td>biochem/val_is_real_f1</td><td>0.99446</td></tr><tr><td>biochem/val_kingdom_archaea_accuracy</td><td>0.94828</td></tr><tr><td>biochem/val_kingdom_bacteria_accuracy</td><td>0.89069</td></tr><tr><td>biochem/val_kingdom_balanced_accuracy</td><td>0.78337</td></tr><tr><td>biochem/val_kingdom_eukaryota_accuracy</td><td>0.51114</td></tr><tr><td>biochem/val_kingdom_f1</td><td>0.77882</td></tr><tr><td>biochem/val_localization_balanced_accuracy</td><td>0.66621</td></tr><tr><td>biochem/val_localization_f1</td><td>0.75499</td></tr><tr><td>biochem/val_localization_membrane_accuracy</td><td>0.84766</td></tr><tr><td>biochem/val_localization_mitochondrion_accuracy</td><td>0.33333</td></tr><tr><td>biochem/val_localization_nucleus_accuracy</td><td>0.81765</td></tr><tr><td>biochem/val_mw_error</td><td>0.03061</td></tr><tr><td>epoch</td><td>1</td></tr><tr><td>loss/train_loss</td><td>0.83167</td></tr><tr><td>loss/val_loss</td><td>0.63222</td></tr><tr><td>lr-AdamW</td><td>0.0001</td></tr><tr><td>metrics/val_perplexity</td><td>1.88074</td></tr><tr><td>metrics/val_rouge1_fmeasure</td><td>0.78544</td></tr><tr><td>metrics/val_rouge1_precision</td><td>0.7869</td></tr><tr><td>metrics/val_rouge1_recall</td><td>0.7843</td></tr><tr><td>metrics/val_rouge2_fmeasure</td><td>0.62362</td></tr><tr><td>metrics/val_rouge2_precision</td><td>0.62462</td></tr><tr><td>metrics/val_rouge2_recall</td><td>0.62286</td></tr><tr><td>metrics/val_rougeL_fmeasure</td><td>0.77863</td></tr><tr><td>metrics/val_rougeL_precision</td><td>0.78006</td></tr><tr><td>metrics/val_rougeL_recall</td><td>0.77751</td></tr><tr><td>metrics/val_rougeLsum_fmeasure</td><td>0.78124</td></tr><tr><td>metrics/val_rougeLsum_precision</td><td>0.78267</td></tr><tr><td>metrics/val_rougeLsum_recall</td><td>0.78011</td></tr><tr><td>trainer/global_step</td><td>345949</td></tr></table><br/></div></div>"
     },
     "metadata": {},
     "output_type": "display_data"
    },
    {
     "data": {
      "text/plain": "<IPython.core.display.HTML object>",
      "text/html": " View run <strong style=\"color:#cdcd00\">serene-shadow-9</strong> at: <a href='https://wandb.ai/eli-carrami/Cprt-Paper-Checkpoints/runs/vd5nx0wu' target=\"_blank\">https://wandb.ai/eli-carrami/Cprt-Paper-Checkpoints/runs/vd5nx0wu</a><br/>Synced 2 W&B file(s), 0 media file(s), 1 artifact file(s) and 0 other file(s)"
     },
     "metadata": {},
     "output_type": "display_data"
    },
    {
     "data": {
      "text/plain": "<IPython.core.display.HTML object>",
      "text/html": "Find logs at: <code>./wandb/run-20240125_123947-vd5nx0wu/logs</code>"
     },
     "metadata": {},
     "output_type": "display_data"
    },
    {
     "name": "stdout",
     "output_type": "stream",
     "text": [
      "h95vdy7f_fresh-vortex-8_e0_s150312.ckpt 150312 fresh-vortex-8 h95vdy7f\n"
     ]
    },
    {
     "data": {
      "text/plain": "VBox(children=(Label(value='Waiting for wandb.init()...\\r'), FloatProgress(value=0.011146555551224284, max=1.0…",
      "application/vnd.jupyter.widget-view+json": {
       "version_major": 2,
       "version_minor": 0,
       "model_id": "7c14985c28004945a4c14bcfdb3cfad8"
      }
     },
     "metadata": {},
     "output_type": "display_data"
    },
    {
     "data": {
      "text/plain": "<IPython.core.display.HTML object>",
      "text/html": "wandb version 0.16.2 is available!  To upgrade, please run:\n $ pip install wandb --upgrade"
     },
     "metadata": {},
     "output_type": "display_data"
    },
    {
     "data": {
      "text/plain": "<IPython.core.display.HTML object>",
      "text/html": "Tracking run with wandb version 0.15.12"
     },
     "metadata": {},
     "output_type": "display_data"
    },
    {
     "data": {
      "text/plain": "<IPython.core.display.HTML object>",
      "text/html": "Run data is saved locally in <code>/Users/elicarrami/PycharmProjects/cprt/cprt/analysis/wandb/run-20240125_124337-h95vdy7f</code>"
     },
     "metadata": {},
     "output_type": "display_data"
    },
    {
     "data": {
      "text/plain": "<IPython.core.display.HTML object>",
      "text/html": "Resuming run <strong><a href='https://wandb.ai/eli-carrami/Cprt-Paper-Checkpoints/runs/h95vdy7f' target=\"_blank\">fresh-vortex-8</a></strong> to <a href='https://wandb.ai/eli-carrami/Cprt-Paper-Checkpoints' target=\"_blank\">Weights & Biases</a> (<a href='https://wandb.me/run' target=\"_blank\">docs</a>)<br/>"
     },
     "metadata": {},
     "output_type": "display_data"
    },
    {
     "data": {
      "text/plain": "<IPython.core.display.HTML object>",
      "text/html": " View project at <a href='https://wandb.ai/eli-carrami/Cprt-Paper-Checkpoints' target=\"_blank\">https://wandb.ai/eli-carrami/Cprt-Paper-Checkpoints</a>"
     },
     "metadata": {},
     "output_type": "display_data"
    },
    {
     "data": {
      "text/plain": "<IPython.core.display.HTML object>",
      "text/html": " View run at <a href='https://wandb.ai/eli-carrami/Cprt-Paper-Checkpoints/runs/h95vdy7f' target=\"_blank\">https://wandb.ai/eli-carrami/Cprt-Paper-Checkpoints/runs/h95vdy7f</a>"
     },
     "metadata": {},
     "output_type": "display_data"
    },
    {
     "data": {
      "text/plain": "<IPython.core.display.HTML object>",
      "text/html": "Waiting for W&B process to finish... <strong style=\"color:green\">(success).</strong>"
     },
     "metadata": {},
     "output_type": "display_data"
    },
    {
     "data": {
      "text/plain": "VBox(children=(Label(value='470.988 MB of 470.994 MB uploaded (0.000 MB deduped)\\r'), FloatProgress(value=0.99…",
      "application/vnd.jupyter.widget-view+json": {
       "version_major": 2,
       "version_minor": 0,
       "model_id": "037634257d2a406ebeb298ca4bf3ace5"
      }
     },
     "metadata": {},
     "output_type": "display_data"
    },
    {
     "data": {
      "text/plain": "<IPython.core.display.HTML object>",
      "text/html": "<style>\n    table.wandb td:nth-child(1) { padding: 0 10px; text-align: left ; width: auto;} td:nth-child(2) {text-align: left ; width: 100%}\n    .wandb-row { display: flex; flex-direction: row; flex-wrap: wrap; justify-content: flex-start; width: 100% }\n    .wandb-col { display: flex; flex-direction: column; flex-basis: 100%; flex: 1; padding: 10px; }\n    </style>\n<div class=\"wandb-row\"><div class=\"wandb-col\"><h3>Run summary:</h3><br/><table class=\"wandb\"><tr><td>biochem/val_average_semantic_localization</td><td>0.67012</td></tr><tr><td>biochem/val_cofactor</td><td>0.63203</td></tr><tr><td>biochem/val_in_membrane_balanced_accuracy</td><td>0.63948</td></tr><tr><td>biochem/val_in_membrane_f1</td><td>0.46193</td></tr><tr><td>biochem/val_in_mitochondria_balanced_accuracy</td><td>0.79072</td></tr><tr><td>biochem/val_in_mitochondria_f1</td><td>0.48194</td></tr><tr><td>biochem/val_in_nucleus_balanced_accuracy</td><td>0.8755</td></tr><tr><td>biochem/val_in_nucleus_f1</td><td>0.77115</td></tr><tr><td>biochem/val_is_enzyme_balanced_accuracy</td><td>0.89155</td></tr><tr><td>biochem/val_is_enzyme_f1</td><td>0.89149</td></tr><tr><td>biochem/val_is_enzyme_hard_balanced_accuracy</td><td>0.89396</td></tr><tr><td>biochem/val_is_enzyme_hard_f1</td><td>0.89453</td></tr><tr><td>biochem/val_is_fake_balanced_accuracy</td><td>0.01184</td></tr><tr><td>biochem/val_is_fake_f1</td><td>0.01118</td></tr><tr><td>biochem/val_is_real_balanced_accuracy</td><td>0.98816</td></tr><tr><td>biochem/val_is_real_f1</td><td>0.98866</td></tr><tr><td>biochem/val_kingdom_archaea_accuracy</td><td>0.93182</td></tr><tr><td>biochem/val_kingdom_bacteria_accuracy</td><td>0.95808</td></tr><tr><td>biochem/val_kingdom_balanced_accuracy</td><td>0.84764</td></tr><tr><td>biochem/val_kingdom_eukaryota_accuracy</td><td>0.65303</td></tr><tr><td>biochem/val_kingdom_f1</td><td>0.86182</td></tr><tr><td>biochem/val_localization_balanced_accuracy</td><td>0.65035</td></tr><tr><td>biochem/val_localization_f1</td><td>0.72808</td></tr><tr><td>biochem/val_localization_membrane_accuracy</td><td>0.85106</td></tr><tr><td>biochem/val_localization_mitochondrion_accuracy</td><td>0.25</td></tr><tr><td>biochem/val_localization_nucleus_accuracy</td><td>0.85</td></tr><tr><td>biochem/val_mw_error</td><td>0.02898</td></tr><tr><td>epoch</td><td>1</td></tr><tr><td>loss/train_loss</td><td>0.60801</td></tr><tr><td>loss/val_loss</td><td>0.76095</td></tr><tr><td>lr-AdamW</td><td>0.0001</td></tr><tr><td>metrics/val_perplexity</td><td>2.13954</td></tr><tr><td>metrics/val_rouge1_fmeasure</td><td>0.65213</td></tr><tr><td>metrics/val_rouge1_precision</td><td>0.69482</td></tr><tr><td>metrics/val_rouge1_recall</td><td>0.61523</td></tr><tr><td>metrics/val_rouge2_fmeasure</td><td>0.48047</td></tr><tr><td>metrics/val_rouge2_precision</td><td>0.5145</td></tr><tr><td>metrics/val_rouge2_recall</td><td>0.45145</td></tr><tr><td>metrics/val_rougeL_fmeasure</td><td>0.64118</td></tr><tr><td>metrics/val_rougeL_precision</td><td>0.68309</td></tr><tr><td>metrics/val_rougeL_recall</td><td>0.60495</td></tr><tr><td>metrics/val_rougeLsum_fmeasure</td><td>0.64304</td></tr><tr><td>metrics/val_rougeLsum_precision</td><td>0.68504</td></tr><tr><td>metrics/val_rougeLsum_recall</td><td>0.60671</td></tr><tr><td>trainer/global_step</td><td>375849</td></tr></table><br/></div></div>"
     },
     "metadata": {},
     "output_type": "display_data"
    },
    {
     "data": {
      "text/plain": "<IPython.core.display.HTML object>",
      "text/html": " View run <strong style=\"color:#cdcd00\">fresh-vortex-8</strong> at: <a href='https://wandb.ai/eli-carrami/Cprt-Paper-Checkpoints/runs/h95vdy7f' target=\"_blank\">https://wandb.ai/eli-carrami/Cprt-Paper-Checkpoints/runs/h95vdy7f</a><br/>Synced 2 W&B file(s), 0 media file(s), 1 artifact file(s) and 0 other file(s)"
     },
     "metadata": {},
     "output_type": "display_data"
    },
    {
     "data": {
      "text/plain": "<IPython.core.display.HTML object>",
      "text/html": "Find logs at: <code>./wandb/run-20240125_124337-h95vdy7f/logs</code>"
     },
     "metadata": {},
     "output_type": "display_data"
    },
    {
     "name": "stdout",
     "output_type": "stream",
     "text": [
      "1xvwntxd_polished-monkey-31_e0_s224085.ckpt 224085 polished-monkey-31 1xvwntxd\n"
     ]
    },
    {
     "data": {
      "text/plain": "VBox(children=(Label(value='Waiting for wandb.init()...\\r'), FloatProgress(value=0.01116832545441058, max=1.0)…",
      "application/vnd.jupyter.widget-view+json": {
       "version_major": 2,
       "version_minor": 0,
       "model_id": "50ec407acb544bc78ab80710528c5b13"
      }
     },
     "metadata": {},
     "output_type": "display_data"
    },
    {
     "data": {
      "text/plain": "<IPython.core.display.HTML object>",
      "text/html": "wandb version 0.16.2 is available!  To upgrade, please run:\n $ pip install wandb --upgrade"
     },
     "metadata": {},
     "output_type": "display_data"
    },
    {
     "data": {
      "text/plain": "<IPython.core.display.HTML object>",
      "text/html": "Tracking run with wandb version 0.15.12"
     },
     "metadata": {},
     "output_type": "display_data"
    },
    {
     "data": {
      "text/plain": "<IPython.core.display.HTML object>",
      "text/html": "Run data is saved locally in <code>/Users/elicarrami/PycharmProjects/cprt/cprt/analysis/wandb/run-20240125_124729-1xvwntxd</code>"
     },
     "metadata": {},
     "output_type": "display_data"
    },
    {
     "data": {
      "text/plain": "<IPython.core.display.HTML object>",
      "text/html": "Resuming run <strong><a href='https://wandb.ai/eli-carrami/Cprt-Paper-Checkpoints/runs/1xvwntxd' target=\"_blank\">polished-monkey-31</a></strong> to <a href='https://wandb.ai/eli-carrami/Cprt-Paper-Checkpoints' target=\"_blank\">Weights & Biases</a> (<a href='https://wandb.me/run' target=\"_blank\">docs</a>)<br/>"
     },
     "metadata": {},
     "output_type": "display_data"
    },
    {
     "data": {
      "text/plain": "<IPython.core.display.HTML object>",
      "text/html": " View project at <a href='https://wandb.ai/eli-carrami/Cprt-Paper-Checkpoints' target=\"_blank\">https://wandb.ai/eli-carrami/Cprt-Paper-Checkpoints</a>"
     },
     "metadata": {},
     "output_type": "display_data"
    },
    {
     "data": {
      "text/plain": "<IPython.core.display.HTML object>",
      "text/html": " View run at <a href='https://wandb.ai/eli-carrami/Cprt-Paper-Checkpoints/runs/1xvwntxd' target=\"_blank\">https://wandb.ai/eli-carrami/Cprt-Paper-Checkpoints/runs/1xvwntxd</a>"
     },
     "metadata": {},
     "output_type": "display_data"
    },
    {
     "data": {
      "text/plain": "<IPython.core.display.HTML object>",
      "text/html": "Waiting for W&B process to finish... <strong style=\"color:green\">(success).</strong>"
     },
     "metadata": {},
     "output_type": "display_data"
    },
    {
     "data": {
      "text/plain": "VBox(children=(Label(value='19477.146 MB of 19477.146 MB uploaded (0.000 MB deduped)\\r'), FloatProgress(value=…",
      "application/vnd.jupyter.widget-view+json": {
       "version_major": 2,
       "version_minor": 0,
       "model_id": "8f9989daea1746daa9719e61c7d0acc3"
      }
     },
     "metadata": {},
     "output_type": "display_data"
    },
    {
     "data": {
      "text/plain": "<IPython.core.display.HTML object>",
      "text/html": "<style>\n    table.wandb td:nth-child(1) { padding: 0 10px; text-align: left ; width: auto;} td:nth-child(2) {text-align: left ; width: 100%}\n    .wandb-row { display: flex; flex-direction: row; flex-wrap: wrap; justify-content: flex-start; width: 100% }\n    .wandb-col { display: flex; flex-direction: column; flex-basis: 100%; flex: 1; padding: 10px; }\n    </style>\n<div class=\"wandb-row\"><div class=\"wandb-col\"><h3>Run summary:</h3><br/><table class=\"wandb\"><tr><td>biochem/val_average_semantic_localization</td><td>0.30888</td></tr><tr><td>biochem/val_cofactor</td><td>0.47391</td></tr><tr><td>biochem/val_in_membrane_balanced_accuracy</td><td>0.5</td></tr><tr><td>biochem/val_in_membrane_f1</td><td>0.18935</td></tr><tr><td>biochem/val_in_mitochondria_balanced_accuracy</td><td>0.5</td></tr><tr><td>biochem/val_in_mitochondria_f1</td><td>0.041</td></tr><tr><td>biochem/val_in_nucleus_balanced_accuracy</td><td>0.5</td></tr><tr><td>biochem/val_in_nucleus_f1</td><td>0.12292</td></tr><tr><td>biochem/val_is_enzyme_balanced_accuracy</td><td>0.8622</td></tr><tr><td>biochem/val_is_enzyme_f1</td><td>0.86058</td></tr><tr><td>biochem/val_is_enzyme_hard_balanced_accuracy</td><td>0.86315</td></tr><tr><td>biochem/val_is_enzyme_hard_f1</td><td>0.86207</td></tr><tr><td>biochem/val_is_fake_balanced_accuracy</td><td>0.01503</td></tr><tr><td>biochem/val_is_fake_f1</td><td>0.01503</td></tr><tr><td>biochem/val_is_real_balanced_accuracy</td><td>0.97938</td></tr><tr><td>biochem/val_is_real_f1</td><td>0.97941</td></tr><tr><td>biochem/val_kingdom_archaea_accuracy</td><td>0.62069</td></tr><tr><td>biochem/val_kingdom_bacteria_accuracy</td><td>0.61134</td></tr><tr><td>biochem/val_kingdom_balanced_accuracy</td><td>0.68408</td></tr><tr><td>biochem/val_kingdom_eukaryota_accuracy</td><td>0.82021</td></tr><tr><td>biochem/val_kingdom_f1</td><td>0.66813</td></tr><tr><td>biochem/val_localization_balanced_accuracy</td><td>0.61018</td></tr><tr><td>biochem/val_localization_f1</td><td>0.70016</td></tr><tr><td>biochem/val_localization_membrane_accuracy</td><td>0.76953</td></tr><tr><td>biochem/val_localization_mitochondrion_accuracy</td><td>0.2963</td></tr><tr><td>biochem/val_localization_nucleus_accuracy</td><td>0.76471</td></tr><tr><td>biochem/val_mw_error</td><td>0.04193</td></tr><tr><td>epoch</td><td>1</td></tr><tr><td>loss/train_loss</td><td>0.4166</td></tr><tr><td>loss/val_loss</td><td>0.54888</td></tr><tr><td>metrics/val_perplexity</td><td>1.72794</td></tr><tr><td>metrics/val_rouge1_fmeasure</td><td>0.68924</td></tr><tr><td>metrics/val_rouge1_precision</td><td>0.75101</td></tr><tr><td>metrics/val_rouge1_recall</td><td>0.63873</td></tr><tr><td>metrics/val_rouge2_fmeasure</td><td>0.53628</td></tr><tr><td>metrics/val_rouge2_precision</td><td>0.5886</td></tr><tr><td>metrics/val_rouge2_recall</td><td>0.4944</td></tr><tr><td>metrics/val_rougeL_fmeasure</td><td>0.67546</td></tr><tr><td>metrics/val_rougeL_precision</td><td>0.7356</td></tr><tr><td>metrics/val_rougeL_recall</td><td>0.62621</td></tr><tr><td>metrics/val_rougeLsum_fmeasure</td><td>0.6782</td></tr><tr><td>metrics/val_rougeLsum_precision</td><td>0.73852</td></tr><tr><td>metrics/val_rougeLsum_recall</td><td>0.6288</td></tr><tr><td>trainer/global_step</td><td>238499</td></tr></table><br/></div></div>"
     },
     "metadata": {},
     "output_type": "display_data"
    },
    {
     "data": {
      "text/plain": "<IPython.core.display.HTML object>",
      "text/html": " View run <strong style=\"color:#cdcd00\">polished-monkey-31</strong> at: <a href='https://wandb.ai/eli-carrami/Cprt-Paper-Checkpoints/runs/1xvwntxd' target=\"_blank\">https://wandb.ai/eli-carrami/Cprt-Paper-Checkpoints/runs/1xvwntxd</a><br/>Synced 2 W&B file(s), 0 media file(s), 1 artifact file(s) and 0 other file(s)"
     },
     "metadata": {},
     "output_type": "display_data"
    },
    {
     "data": {
      "text/plain": "<IPython.core.display.HTML object>",
      "text/html": "Find logs at: <code>./wandb/run-20240125_124729-1xvwntxd/logs</code>"
     },
     "metadata": {},
     "output_type": "display_data"
    },
    {
     "name": "stdout",
     "output_type": "stream",
     "text": [
      "fm9pxtkz_treasured-pyramid-5_e1_s216679.ckpt 216679 treasured-pyramid-5 fm9pxtkz\n"
     ]
    },
    {
     "data": {
      "text/plain": "VBox(children=(Label(value='Waiting for wandb.init()...\\r'), FloatProgress(value=0.011171101395868592, max=1.0…",
      "application/vnd.jupyter.widget-view+json": {
       "version_major": 2,
       "version_minor": 0,
       "model_id": "be5d28d1100f45bdb8b194cab4695269"
      }
     },
     "metadata": {},
     "output_type": "display_data"
    },
    {
     "data": {
      "text/plain": "<IPython.core.display.HTML object>",
      "text/html": "wandb version 0.16.2 is available!  To upgrade, please run:\n $ pip install wandb --upgrade"
     },
     "metadata": {},
     "output_type": "display_data"
    },
    {
     "data": {
      "text/plain": "<IPython.core.display.HTML object>",
      "text/html": "Tracking run with wandb version 0.15.12"
     },
     "metadata": {},
     "output_type": "display_data"
    },
    {
     "data": {
      "text/plain": "<IPython.core.display.HTML object>",
      "text/html": "Run data is saved locally in <code>/Users/elicarrami/PycharmProjects/cprt/cprt/analysis/wandb/run-20240125_152442-fm9pxtkz</code>"
     },
     "metadata": {},
     "output_type": "display_data"
    },
    {
     "data": {
      "text/plain": "<IPython.core.display.HTML object>",
      "text/html": "Resuming run <strong><a href='https://wandb.ai/eli-carrami/Cprt-Paper-Checkpoints/runs/fm9pxtkz' target=\"_blank\">treasured-pyramid-5</a></strong> to <a href='https://wandb.ai/eli-carrami/Cprt-Paper-Checkpoints' target=\"_blank\">Weights & Biases</a> (<a href='https://wandb.me/run' target=\"_blank\">docs</a>)<br/>"
     },
     "metadata": {},
     "output_type": "display_data"
    },
    {
     "data": {
      "text/plain": "<IPython.core.display.HTML object>",
      "text/html": " View project at <a href='https://wandb.ai/eli-carrami/Cprt-Paper-Checkpoints' target=\"_blank\">https://wandb.ai/eli-carrami/Cprt-Paper-Checkpoints</a>"
     },
     "metadata": {},
     "output_type": "display_data"
    },
    {
     "data": {
      "text/plain": "<IPython.core.display.HTML object>",
      "text/html": " View run at <a href='https://wandb.ai/eli-carrami/Cprt-Paper-Checkpoints/runs/fm9pxtkz' target=\"_blank\">https://wandb.ai/eli-carrami/Cprt-Paper-Checkpoints/runs/fm9pxtkz</a>"
     },
     "metadata": {},
     "output_type": "display_data"
    },
    {
     "data": {
      "text/plain": "<IPython.core.display.HTML object>",
      "text/html": "Waiting for W&B process to finish... <strong style=\"color:green\">(success).</strong>"
     },
     "metadata": {},
     "output_type": "display_data"
    },
    {
     "data": {
      "text/plain": "<IPython.core.display.HTML object>",
      "text/html": "<style>\n    table.wandb td:nth-child(1) { padding: 0 10px; text-align: left ; width: auto;} td:nth-child(2) {text-align: left ; width: 100%}\n    .wandb-row { display: flex; flex-direction: row; flex-wrap: wrap; justify-content: flex-start; width: 100% }\n    .wandb-col { display: flex; flex-direction: column; flex-basis: 100%; flex: 1; padding: 10px; }\n    </style>\n<div class=\"wandb-row\"><div class=\"wandb-col\"><h3>Run summary:</h3><br/><table class=\"wandb\"><tr><td>biochem/val_average_semantic_localization</td><td>0.32947</td></tr><tr><td>biochem/val_cofactor</td><td>0.03371</td></tr><tr><td>biochem/val_in_membrane_balanced_accuracy</td><td>0.49903</td></tr><tr><td>biochem/val_in_membrane_f1</td><td>0.20059</td></tr><tr><td>biochem/val_in_mitochondria_balanced_accuracy</td><td>0.49541</td></tr><tr><td>biochem/val_in_mitochondria_f1</td><td>0.07029</td></tr><tr><td>biochem/val_in_nucleus_balanced_accuracy</td><td>0.52995</td></tr><tr><td>biochem/val_in_nucleus_f1</td><td>0.18154</td></tr><tr><td>biochem/val_is_enzyme_balanced_accuracy</td><td>0.51362</td></tr><tr><td>biochem/val_is_enzyme_f1</td><td>0.35769</td></tr><tr><td>biochem/val_is_enzyme_hard_balanced_accuracy</td><td>0.51586</td></tr><tr><td>biochem/val_is_enzyme_hard_f1</td><td>0.36369</td></tr><tr><td>biochem/val_is_fake_balanced_accuracy</td><td>0.01793</td></tr><tr><td>biochem/val_is_fake_f1</td><td>0.01812</td></tr><tr><td>biochem/val_is_real_balanced_accuracy</td><td>0.98655</td></tr><tr><td>biochem/val_is_real_f1</td><td>0.98639</td></tr><tr><td>biochem/val_kingdom_archaea_accuracy</td><td>0</td></tr><tr><td>biochem/val_kingdom_bacteria_accuracy</td><td>0.0565</td></tr><tr><td>biochem/val_kingdom_balanced_accuracy</td><td>0.08848</td></tr><tr><td>biochem/val_kingdom_eukaryota_accuracy</td><td>0.20893</td></tr><tr><td>biochem/val_kingdom_f1</td><td>0.1505</td></tr><tr><td>biochem/val_localization_balanced_accuracy</td><td>0.02449</td></tr><tr><td>biochem/val_localization_f1</td><td>0.04545</td></tr><tr><td>biochem/val_localization_membrane_accuracy</td><td>0.07347</td></tr><tr><td>biochem/val_localization_mitochondrion_accuracy</td><td>0</td></tr><tr><td>biochem/val_localization_nucleus_accuracy</td><td>0</td></tr><tr><td>biochem/val_mw_error</td><td>1.37167</td></tr><tr><td>epoch</td><td>2</td></tr><tr><td>loss/train_loss</td><td>0.70014</td></tr><tr><td>loss/val_loss</td><td>0.83386</td></tr><tr><td>metrics/val_perplexity</td><td>2.29671</td></tr><tr><td>metrics/val_rouge1_fmeasure</td><td>0.59973</td></tr><tr><td>metrics/val_rouge1_precision</td><td>0.6407</td></tr><tr><td>metrics/val_rouge1_recall</td><td>0.56496</td></tr><tr><td>metrics/val_rouge2_fmeasure</td><td>0.42368</td></tr><tr><td>metrics/val_rouge2_precision</td><td>0.45559</td></tr><tr><td>metrics/val_rouge2_recall</td><td>0.39705</td></tr><tr><td>metrics/val_rougeL_fmeasure</td><td>0.58997</td></tr><tr><td>metrics/val_rougeL_precision</td><td>0.63027</td></tr><tr><td>metrics/val_rougeL_recall</td><td>0.55576</td></tr><tr><td>metrics/val_rougeLsum_fmeasure</td><td>0.59011</td></tr><tr><td>metrics/val_rougeLsum_precision</td><td>0.63041</td></tr><tr><td>metrics/val_rougeLsum_recall</td><td>0.55589</td></tr><tr><td>trainer/global_step</td><td>417949</td></tr></table><br/></div></div>"
     },
     "metadata": {},
     "output_type": "display_data"
    },
    {
     "data": {
      "text/plain": "<IPython.core.display.HTML object>",
      "text/html": " View run <strong style=\"color:#cdcd00\">treasured-pyramid-5</strong> at: <a href='https://wandb.ai/eli-carrami/Cprt-Paper-Checkpoints/runs/fm9pxtkz' target=\"_blank\">https://wandb.ai/eli-carrami/Cprt-Paper-Checkpoints/runs/fm9pxtkz</a><br/>Synced 2 W&B file(s), 0 media file(s), 1 artifact file(s) and 0 other file(s)"
     },
     "metadata": {},
     "output_type": "display_data"
    },
    {
     "data": {
      "text/plain": "<IPython.core.display.HTML object>",
      "text/html": "Find logs at: <code>./wandb/run-20240125_152442-fm9pxtkz/logs</code>"
     },
     "metadata": {},
     "output_type": "display_data"
    }
   ],
   "source": [
    "import wandb\n",
    "for run in selected_list[2:]:\n",
    "    idx = all_ckpt.index(run)\n",
    "    name, step = all_steps[idx]\n",
    "    run_id = run.split(\"_\")[0]\n",
    "    print(run, step, name, run_id)\n",
    "    wandb.init(project=\"Cprt-Paper-Checkpoints\", resume=\"must\", id=run_id)\n",
    "    artifact = wandb.Artifact(f'{name}_{step}_model', type='model')\n",
    "    artifact.add_file(f\"/Users/elicarrami/all_checkpoints/upload/{run}\")\n",
    "    wandb.log_artifact(artifact)\n",
    "    artifact.wait()\n",
    "    wandb.finish()\n"
   ],
   "metadata": {
    "collapsed": false
   }
  },
  {
   "cell_type": "code",
   "execution_count": 17,
   "outputs": [
    {
     "name": "stdout",
     "output_type": "stream",
     "text": [
      "serene-shadow-9_313723_model:v0\n",
      "serene-shadow-9_44817_model:v0\n",
      "fresh-vortex-8_150312_model:v0\n",
      "model_artifact_f1:v0\n",
      "model_artifact_loss:v0\n",
      "treasured-pyramid-5_216679_model:v0\n",
      "polished-smoke-42_100840_model:v0\n",
      "dauntless-surf-44_358891_model:v0\n",
      "solar-voice-33_150144_model:v0\n",
      "polished-monkey-31_224085_model:v0\n",
      "legendary-glitter-15_156856_model:v0\n"
     ]
    }
   ],
   "source": [
    "import wandb\n",
    "\n",
    "# Replace with your entity (username or team name) and project name\n",
    "\n",
    "\n",
    "api = wandb.Api()\n",
    "\n",
    "# Fetch the project\n",
    "runs = api.runs(f\"Cprt-Paper-Checkpoints\")\n",
    "\n",
    "for run in runs:\n",
    "    for artifact in run.logged_artifacts():\n",
    "        if artifact.type == \"model\":\n",
    "            print(artifact.name)\n"
   ],
   "metadata": {
    "collapsed": false
   }
  },
  {
   "cell_type": "code",
   "execution_count": null,
   "outputs": [],
   "source": [],
   "metadata": {
    "collapsed": false
   }
  }
 ],
 "metadata": {
  "kernelspec": {
   "display_name": "Python 3",
   "language": "python",
   "name": "python3"
  },
  "language_info": {
   "codemirror_mode": {
    "name": "ipython",
    "version": 2
   },
   "file_extension": ".py",
   "mimetype": "text/x-python",
   "name": "python",
   "nbconvert_exporter": "python",
   "pygments_lexer": "ipython2",
   "version": "2.7.6"
  }
 },
 "nbformat": 4,
 "nbformat_minor": 0
}
